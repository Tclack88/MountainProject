{
  "nbformat": 4,
  "nbformat_minor": 0,
  "metadata": {
    "colab": {
      "name": "HangboardProgress",
      "provenance": [],
      "include_colab_link": true
    },
    "kernelspec": {
      "name": "python3",
      "display_name": "Python 3"
    }
  },
  "cells": [
    {
      "cell_type": "markdown",
      "metadata": {
        "id": "view-in-github",
        "colab_type": "text"
      },
      "source": [
        "<a href=\"https://colab.research.google.com/github/Tclack88/MountainProject/blob/master/HangboardProgress.ipynb\" target=\"_parent\"><img src=\"https://colab.research.google.com/assets/colab-badge.svg\" alt=\"Open In Colab\"/></a>"
      ]
    },
    {
      "cell_type": "code",
      "metadata": {
        "id": "IrDQSOkpFjt5",
        "colab_type": "code",
        "outputId": "d78e6877-6095-4f36-b0ae-44489971235d",
        "colab": {
          "base_uri": "https://localhost:8080/",
          "height": 34
        }
      },
      "source": [
        "!ls"
      ],
      "execution_count": 0,
      "outputs": [
        {
          "output_type": "stream",
          "text": [
            "MorganHB1.xlsx\tsample_data  TrevorHB1.xlsx\n"
          ],
          "name": "stdout"
        }
      ]
    },
    {
      "cell_type": "code",
      "metadata": {
        "id": "MgvnM_EEF4Wh",
        "colab_type": "code",
        "colab": {}
      },
      "source": [
        "import pandas as pd\n",
        "df = pd.read_excel('MorganHB1.xlsx')\n",
        "df = pd.read_excel('TrevorHB1.xlsx')"
      ],
      "execution_count": 0,
      "outputs": []
    },
    {
      "cell_type": "code",
      "metadata": {
        "id": "7M8AG8FlGFCH",
        "colab_type": "code",
        "outputId": "618c2562-7987-4d27-c4e1-5d51ae7ab7e0",
        "colab": {
          "base_uri": "https://localhost:8080/",
          "height": 266
        }
      },
      "source": [
        "df"
      ],
      "execution_count": 0,
      "outputs": [
        {
          "output_type": "execute_result",
          "data": {
            "text/html": [
              "<div>\n",
              "<style scoped>\n",
              "    .dataframe tbody tr th:only-of-type {\n",
              "        vertical-align: middle;\n",
              "    }\n",
              "\n",
              "    .dataframe tbody tr th {\n",
              "        vertical-align: top;\n",
              "    }\n",
              "\n",
              "    .dataframe thead th {\n",
              "        text-align: right;\n",
              "    }\n",
              "</style>\n",
              "<table border=\"1\" class=\"dataframe\">\n",
              "  <thead>\n",
              "    <tr style=\"text-align: right;\">\n",
              "      <th></th>\n",
              "      <th>date</th>\n",
              "      <th>jug</th>\n",
              "      <th>imr</th>\n",
              "      <th>med_edge</th>\n",
              "      <th>pinch_med</th>\n",
              "      <th>mr_2fp</th>\n",
              "      <th>large_edge</th>\n",
              "      <th>pinch_wide</th>\n",
              "      <th>sloper</th>\n",
              "      <th>mrp_3fp</th>\n",
              "    </tr>\n",
              "  </thead>\n",
              "  <tbody>\n",
              "    <tr>\n",
              "      <th>0</th>\n",
              "      <td>26 Oct 2019</td>\n",
              "      <td>0|6|0|60</td>\n",
              "      <td>-20|6|0|60</td>\n",
              "      <td>-45|6|0|60</td>\n",
              "      <td>-60|6|0|60</td>\n",
              "      <td>-50|6|0|60</td>\n",
              "      <td>-45|6|0|60</td>\n",
              "      <td>-55|6|0|60</td>\n",
              "      <td>-35|6|0|60</td>\n",
              "      <td>-45|6|0|60</td>\n",
              "    </tr>\n",
              "    <tr>\n",
              "      <th>1</th>\n",
              "      <td>2019-10-29 00:00:00</td>\n",
              "      <td>0|6|0|60</td>\n",
              "      <td>-17.5|5|1|57</td>\n",
              "      <td>-42.5|6|0|60</td>\n",
              "      <td>-57.5|6|0|60</td>\n",
              "      <td>-47.5|6|0|60</td>\n",
              "      <td>-42.5|6|0|60</td>\n",
              "      <td>-52.5|6|0|60</td>\n",
              "      <td>-32.5|6|0|60</td>\n",
              "      <td>-42.5|6|0|60</td>\n",
              "    </tr>\n",
              "    <tr>\n",
              "      <th>2</th>\n",
              "      <td>2019-11-01 00:00:00</td>\n",
              "      <td>0|6|0|60</td>\n",
              "      <td>-27.5|6|0|60</td>\n",
              "      <td>-40|6|0|60</td>\n",
              "      <td>-55|6|0|60</td>\n",
              "      <td>-45|6|0|60</td>\n",
              "      <td>-35|6|0|60</td>\n",
              "      <td>-50|6|0|60</td>\n",
              "      <td>-30|4|2|56</td>\n",
              "      <td>-40|5|1|54</td>\n",
              "    </tr>\n",
              "    <tr>\n",
              "      <th>3</th>\n",
              "      <td>2019-11-04 00:00:00</td>\n",
              "      <td>0|6|0|60</td>\n",
              "      <td>-25|6|0|60</td>\n",
              "      <td>-40|6|0|60</td>\n",
              "      <td>-55|6|0|60</td>\n",
              "      <td>-45|6|0|60</td>\n",
              "      <td>-35|6|0|60</td>\n",
              "      <td>-50|6|0|60</td>\n",
              "      <td>-30|6|0|60</td>\n",
              "      <td>-40|6|0|60</td>\n",
              "    </tr>\n",
              "    <tr>\n",
              "      <th>4</th>\n",
              "      <td>2019-11-07 00:00:00</td>\n",
              "      <td>0|6|0|60</td>\n",
              "      <td>-25|6|0|60</td>\n",
              "      <td>-37.5|6|0|60</td>\n",
              "      <td>-55|6|0|60</td>\n",
              "      <td>-42.5|6|0|60</td>\n",
              "      <td>-32.5|6|0|60</td>\n",
              "      <td>-47.5|6|0|60</td>\n",
              "      <td>-27.5|5|1|58</td>\n",
              "      <td>-37.5|5|1|59.5</td>\n",
              "    </tr>\n",
              "    <tr>\n",
              "      <th>5</th>\n",
              "      <td>2019-11-10 00:00:00</td>\n",
              "      <td>0|6|0|60</td>\n",
              "      <td>-22.5|6|0|60</td>\n",
              "      <td>-35|6|0|60</td>\n",
              "      <td>-52.5|6|0|60</td>\n",
              "      <td>-40|6|0|60</td>\n",
              "      <td>-30|6|0|60</td>\n",
              "      <td>-45|3|3|44</td>\n",
              "      <td>-25|4|2|53</td>\n",
              "      <td>-35|5|1|53</td>\n",
              "    </tr>\n",
              "    <tr>\n",
              "      <th>6</th>\n",
              "      <td>2019-11-13 00:00:00</td>\n",
              "      <td>0|6|0|60</td>\n",
              "      <td>-20|6|0|60</td>\n",
              "      <td>-32.5|6|0|60</td>\n",
              "      <td>-50|3|3|48</td>\n",
              "      <td>-37.5|6|0|60</td>\n",
              "      <td>-27.5|5|1|59</td>\n",
              "      <td>-42.5|3|0|52</td>\n",
              "      <td>-22.5|3|3|51</td>\n",
              "      <td>-32.5|4|2|55</td>\n",
              "    </tr>\n",
              "  </tbody>\n",
              "</table>\n",
              "</div>"
            ],
            "text/plain": [
              "                  date       jug  ...        sloper         mrp_3fp\n",
              "0          26 Oct 2019  0|6|0|60  ...    -35|6|0|60      -45|6|0|60\n",
              "1  2019-10-29 00:00:00  0|6|0|60  ...  -32.5|6|0|60    -42.5|6|0|60\n",
              "2  2019-11-01 00:00:00  0|6|0|60  ...    -30|4|2|56      -40|5|1|54\n",
              "3  2019-11-04 00:00:00  0|6|0|60  ...    -30|6|0|60      -40|6|0|60\n",
              "4  2019-11-07 00:00:00  0|6|0|60  ...  -27.5|5|1|58  -37.5|5|1|59.5\n",
              "5  2019-11-10 00:00:00  0|6|0|60  ...    -25|4|2|53      -35|5|1|53\n",
              "6  2019-11-13 00:00:00  0|6|0|60  ...  -22.5|3|3|51    -32.5|4|2|55\n",
              "\n",
              "[7 rows x 10 columns]"
            ]
          },
          "metadata": {
            "tags": []
          },
          "execution_count": 22
        }
      ]
    },
    {
      "cell_type": "code",
      "metadata": {
        "id": "hbDhpNtFGJrw",
        "colab_type": "code",
        "colab": {}
      },
      "source": [
        "df.date = pd.to_datetime(df.date)"
      ],
      "execution_count": 0,
      "outputs": []
    },
    {
      "cell_type": "code",
      "metadata": {
        "id": "SMoWRnZuGQCt",
        "colab_type": "code",
        "outputId": "ad92e2c6-69df-4ed4-843d-8af8e9e7bb3d",
        "colab": {
          "base_uri": "https://localhost:8080/",
          "height": 297
        }
      },
      "source": [
        "df = df.set_index('date')\n",
        "df"
      ],
      "execution_count": 0,
      "outputs": [
        {
          "output_type": "execute_result",
          "data": {
            "text/html": [
              "<div>\n",
              "<style scoped>\n",
              "    .dataframe tbody tr th:only-of-type {\n",
              "        vertical-align: middle;\n",
              "    }\n",
              "\n",
              "    .dataframe tbody tr th {\n",
              "        vertical-align: top;\n",
              "    }\n",
              "\n",
              "    .dataframe thead th {\n",
              "        text-align: right;\n",
              "    }\n",
              "</style>\n",
              "<table border=\"1\" class=\"dataframe\">\n",
              "  <thead>\n",
              "    <tr style=\"text-align: right;\">\n",
              "      <th></th>\n",
              "      <th>jug</th>\n",
              "      <th>imr</th>\n",
              "      <th>med_edge</th>\n",
              "      <th>pinch_med</th>\n",
              "      <th>mr_2fp</th>\n",
              "      <th>large_edge</th>\n",
              "      <th>pinch_wide</th>\n",
              "      <th>sloper</th>\n",
              "      <th>mrp_3fp</th>\n",
              "    </tr>\n",
              "    <tr>\n",
              "      <th>date</th>\n",
              "      <th></th>\n",
              "      <th></th>\n",
              "      <th></th>\n",
              "      <th></th>\n",
              "      <th></th>\n",
              "      <th></th>\n",
              "      <th></th>\n",
              "      <th></th>\n",
              "      <th></th>\n",
              "    </tr>\n",
              "  </thead>\n",
              "  <tbody>\n",
              "    <tr>\n",
              "      <th>2019-10-26</th>\n",
              "      <td>0|6|0|60</td>\n",
              "      <td>-20|6|0|60</td>\n",
              "      <td>-45|6|0|60</td>\n",
              "      <td>-60|6|0|60</td>\n",
              "      <td>-50|6|0|60</td>\n",
              "      <td>-45|6|0|60</td>\n",
              "      <td>-55|6|0|60</td>\n",
              "      <td>-35|6|0|60</td>\n",
              "      <td>-45|6|0|60</td>\n",
              "    </tr>\n",
              "    <tr>\n",
              "      <th>2019-10-29</th>\n",
              "      <td>0|6|0|60</td>\n",
              "      <td>-17.5|5|1|57</td>\n",
              "      <td>-42.5|6|0|60</td>\n",
              "      <td>-57.5|6|0|60</td>\n",
              "      <td>-47.5|6|0|60</td>\n",
              "      <td>-42.5|6|0|60</td>\n",
              "      <td>-52.5|6|0|60</td>\n",
              "      <td>-32.5|6|0|60</td>\n",
              "      <td>-42.5|6|0|60</td>\n",
              "    </tr>\n",
              "    <tr>\n",
              "      <th>2019-11-01</th>\n",
              "      <td>0|6|0|60</td>\n",
              "      <td>-27.5|6|0|60</td>\n",
              "      <td>-40|6|0|60</td>\n",
              "      <td>-55|6|0|60</td>\n",
              "      <td>-45|6|0|60</td>\n",
              "      <td>-35|6|0|60</td>\n",
              "      <td>-50|6|0|60</td>\n",
              "      <td>-30|4|2|56</td>\n",
              "      <td>-40|5|1|54</td>\n",
              "    </tr>\n",
              "    <tr>\n",
              "      <th>2019-11-04</th>\n",
              "      <td>0|6|0|60</td>\n",
              "      <td>-25|6|0|60</td>\n",
              "      <td>-40|6|0|60</td>\n",
              "      <td>-55|6|0|60</td>\n",
              "      <td>-45|6|0|60</td>\n",
              "      <td>-35|6|0|60</td>\n",
              "      <td>-50|6|0|60</td>\n",
              "      <td>-30|6|0|60</td>\n",
              "      <td>-40|6|0|60</td>\n",
              "    </tr>\n",
              "    <tr>\n",
              "      <th>2019-11-07</th>\n",
              "      <td>0|6|0|60</td>\n",
              "      <td>-25|6|0|60</td>\n",
              "      <td>-37.5|6|0|60</td>\n",
              "      <td>-55|6|0|60</td>\n",
              "      <td>-42.5|6|0|60</td>\n",
              "      <td>-32.5|6|0|60</td>\n",
              "      <td>-47.5|6|0|60</td>\n",
              "      <td>-27.5|5|1|58</td>\n",
              "      <td>-37.5|5|1|59.5</td>\n",
              "    </tr>\n",
              "    <tr>\n",
              "      <th>2019-11-10</th>\n",
              "      <td>0|6|0|60</td>\n",
              "      <td>-22.5|6|0|60</td>\n",
              "      <td>-35|6|0|60</td>\n",
              "      <td>-52.5|6|0|60</td>\n",
              "      <td>-40|6|0|60</td>\n",
              "      <td>-30|6|0|60</td>\n",
              "      <td>-45|3|3|44</td>\n",
              "      <td>-25|4|2|53</td>\n",
              "      <td>-35|5|1|53</td>\n",
              "    </tr>\n",
              "    <tr>\n",
              "      <th>2019-11-13</th>\n",
              "      <td>0|6|0|60</td>\n",
              "      <td>-20|6|0|60</td>\n",
              "      <td>-32.5|6|0|60</td>\n",
              "      <td>-50|3|3|48</td>\n",
              "      <td>-37.5|6|0|60</td>\n",
              "      <td>-27.5|5|1|59</td>\n",
              "      <td>-42.5|3|0|52</td>\n",
              "      <td>-22.5|3|3|51</td>\n",
              "      <td>-32.5|4|2|55</td>\n",
              "    </tr>\n",
              "  </tbody>\n",
              "</table>\n",
              "</div>"
            ],
            "text/plain": [
              "                 jug           imr  ...        sloper         mrp_3fp\n",
              "date                                ...                              \n",
              "2019-10-26  0|6|0|60    -20|6|0|60  ...    -35|6|0|60      -45|6|0|60\n",
              "2019-10-29  0|6|0|60  -17.5|5|1|57  ...  -32.5|6|0|60    -42.5|6|0|60\n",
              "2019-11-01  0|6|0|60  -27.5|6|0|60  ...    -30|4|2|56      -40|5|1|54\n",
              "2019-11-04  0|6|0|60    -25|6|0|60  ...    -30|6|0|60      -40|6|0|60\n",
              "2019-11-07  0|6|0|60    -25|6|0|60  ...  -27.5|5|1|58  -37.5|5|1|59.5\n",
              "2019-11-10  0|6|0|60  -22.5|6|0|60  ...    -25|4|2|53      -35|5|1|53\n",
              "2019-11-13  0|6|0|60    -20|6|0|60  ...  -22.5|3|3|51    -32.5|4|2|55\n",
              "\n",
              "[7 rows x 9 columns]"
            ]
          },
          "metadata": {
            "tags": []
          },
          "execution_count": 24
        }
      ]
    },
    {
      "cell_type": "code",
      "metadata": {
        "id": "xxZ3VPdgGTjw",
        "colab_type": "code",
        "outputId": "a49f30c9-31d0-41b5-db7b-11d1fb1f939d",
        "colab": {
          "base_uri": "https://localhost:8080/",
          "height": 170
        }
      },
      "source": [
        "cols = list(df.columns)\n",
        "cols"
      ],
      "execution_count": 0,
      "outputs": [
        {
          "output_type": "execute_result",
          "data": {
            "text/plain": [
              "['jug',\n",
              " 'imr',\n",
              " 'med_edge',\n",
              " 'pinch_med',\n",
              " 'mr_2fp',\n",
              " 'large_edge',\n",
              " 'pinch_wide',\n",
              " 'sloper',\n",
              " 'mrp_3fp']"
            ]
          },
          "metadata": {
            "tags": []
          },
          "execution_count": 25
        }
      ]
    },
    {
      "cell_type": "code",
      "metadata": {
        "id": "hcb1LyN5Gbpd",
        "colab_type": "code",
        "outputId": "b161ef92-1ac0-4928-dbb6-322f36c1175e",
        "colab": {
          "base_uri": "https://localhost:8080/",
          "height": 1000
        }
      },
      "source": [
        "hangs = []\n",
        "for col in cols:\n",
        "  print('\\n\\n',col)\n",
        "  column = df[col]\n",
        "  inner_df = column.str.split('|', expand=True) # looks like an error happens if I don't first do this, pardon the redundancy\n",
        "  inner_df[['weight','success','fail','TUT']] = column.str.split('|', expand=True)\n",
        "  inner_df = inner_df[['weight','success','fail','TUT']]\n",
        "  inner_df = inner_df.apply(pd.to_numeric) # change to numeric columns\n",
        "  inner_df.TUT = inner_df.TUT/60 # change TUT (Time under tension to a fraction of 60 seconds later for coloring)\n",
        "  print(inner_df)\n",
        "  hangs.append(inner_df[['weight','TUT']])"
      ],
      "execution_count": 0,
      "outputs": [
        {
          "output_type": "stream",
          "text": [
            "\n",
            "\n",
            " jug\n",
            "            weight  success  fail  TUT\n",
            "date                                  \n",
            "2019-10-26       0        6     0  1.0\n",
            "2019-10-29       0        6     0  1.0\n",
            "2019-11-01       0        6     0  1.0\n",
            "2019-11-04       0        6     0  1.0\n",
            "2019-11-07       0        6     0  1.0\n",
            "2019-11-10       0        6     0  1.0\n",
            "2019-11-13       0        6     0  1.0\n",
            "\n",
            "\n",
            " imr\n",
            "            weight  success  fail   TUT\n",
            "date                                   \n",
            "2019-10-26   -20.0        6     0  1.00\n",
            "2019-10-29   -17.5        5     1  0.95\n",
            "2019-11-01   -27.5        6     0  1.00\n",
            "2019-11-04   -25.0        6     0  1.00\n",
            "2019-11-07   -25.0        6     0  1.00\n",
            "2019-11-10   -22.5        6     0  1.00\n",
            "2019-11-13   -20.0        6     0  1.00\n",
            "\n",
            "\n",
            " med_edge\n",
            "            weight  success  fail  TUT\n",
            "date                                  \n",
            "2019-10-26   -45.0        6     0  1.0\n",
            "2019-10-29   -42.5        6     0  1.0\n",
            "2019-11-01   -40.0        6     0  1.0\n",
            "2019-11-04   -40.0        6     0  1.0\n",
            "2019-11-07   -37.5        6     0  1.0\n",
            "2019-11-10   -35.0        6     0  1.0\n",
            "2019-11-13   -32.5        6     0  1.0\n",
            "\n",
            "\n",
            " pinch_med\n",
            "            weight  success  fail  TUT\n",
            "date                                  \n",
            "2019-10-26   -60.0        6     0  1.0\n",
            "2019-10-29   -57.5        6     0  1.0\n",
            "2019-11-01   -55.0        6     0  1.0\n",
            "2019-11-04   -55.0        6     0  1.0\n",
            "2019-11-07   -55.0        6     0  1.0\n",
            "2019-11-10   -52.5        6     0  1.0\n",
            "2019-11-13   -50.0        3     3  0.8\n",
            "\n",
            "\n",
            " mr_2fp\n",
            "            weight  success  fail  TUT\n",
            "date                                  \n",
            "2019-10-26   -50.0        6     0  1.0\n",
            "2019-10-29   -47.5        6     0  1.0\n",
            "2019-11-01   -45.0        6     0  1.0\n",
            "2019-11-04   -45.0        6     0  1.0\n",
            "2019-11-07   -42.5        6     0  1.0\n",
            "2019-11-10   -40.0        6     0  1.0\n",
            "2019-11-13   -37.5        6     0  1.0\n",
            "\n",
            "\n",
            " large_edge\n",
            "            weight  success  fail       TUT\n",
            "date                                       \n",
            "2019-10-26   -45.0        6     0  1.000000\n",
            "2019-10-29   -42.5        6     0  1.000000\n",
            "2019-11-01   -35.0        6     0  1.000000\n",
            "2019-11-04   -35.0        6     0  1.000000\n",
            "2019-11-07   -32.5        6     0  1.000000\n",
            "2019-11-10   -30.0        6     0  1.000000\n",
            "2019-11-13   -27.5        5     1  0.983333\n",
            "\n",
            "\n",
            " pinch_wide\n",
            "            weight  success  fail       TUT\n",
            "date                                       \n",
            "2019-10-26   -55.0        6     0  1.000000\n",
            "2019-10-29   -52.5        6     0  1.000000\n",
            "2019-11-01   -50.0        6     0  1.000000\n",
            "2019-11-04   -50.0        6     0  1.000000\n",
            "2019-11-07   -47.5        6     0  1.000000\n",
            "2019-11-10   -45.0        3     3  0.733333\n",
            "2019-11-13   -42.5        3     0  0.866667\n",
            "\n",
            "\n",
            " sloper\n",
            "            weight  success  fail       TUT\n",
            "date                                       \n",
            "2019-10-26   -35.0        6     0  1.000000\n",
            "2019-10-29   -32.5        6     0  1.000000\n",
            "2019-11-01   -30.0        4     2  0.933333\n",
            "2019-11-04   -30.0        6     0  1.000000\n",
            "2019-11-07   -27.5        5     1  0.966667\n",
            "2019-11-10   -25.0        4     2  0.883333\n",
            "2019-11-13   -22.5        3     3  0.850000\n",
            "\n",
            "\n",
            " mrp_3fp\n",
            "            weight  success  fail       TUT\n",
            "date                                       \n",
            "2019-10-26   -45.0        6     0  1.000000\n",
            "2019-10-29   -42.5        6     0  1.000000\n",
            "2019-11-01   -40.0        5     1  0.900000\n",
            "2019-11-04   -40.0        6     0  1.000000\n",
            "2019-11-07   -37.5        5     1  0.991667\n",
            "2019-11-10   -35.0        5     1  0.883333\n",
            "2019-11-13   -32.5        4     2  0.916667\n"
          ],
          "name": "stdout"
        }
      ]
    },
    {
      "cell_type": "code",
      "metadata": {
        "id": "2Ka0tBi2KXQx",
        "colab_type": "code",
        "colab": {}
      },
      "source": [
        "import seaborn as sb\n",
        "import matplotlib.pyplot as plt\n",
        "import plotly.graph_objects as go"
      ],
      "execution_count": 0,
      "outputs": []
    },
    {
      "cell_type": "code",
      "metadata": {
        "id": "thJNYniEm-Xn",
        "colab_type": "code",
        "outputId": "24a63a25-3984-4b83-d531-99a7e98592a2",
        "colab": {
          "base_uri": "https://localhost:8080/",
          "height": 542
        }
      },
      "source": [
        "fig = go.Figure()\n",
        "\n",
        "ending_weights = []\n",
        "\n",
        "for hang in hangs:\n",
        "  ending_weight = hang.weight[-1]\n",
        "  ending_weights.append(ending_weight)\n",
        "  fig.add_trace(go.Scatter(x=hang.index, y=hang.weight, mode='lines+markers'))\n",
        "\n",
        "# Adding labels\n",
        "annotations = []\n",
        "for ending_weight, col in zip(ending_weights, cols):\n",
        "    # labeling the right_side of the plot\n",
        "    annotations.append(dict(xref='paper', x=1, y=ending_weight,\n",
        "                                  xanchor='left', yanchor='middle',\n",
        "                                  text=f'{col}',\n",
        "                                  font=dict(family='Arial',\n",
        "                                            size=16),\n",
        "                                  showarrow=False))\n",
        "    \n",
        "# Title\n",
        "annotations.append(dict(xref='paper', yref='paper', x=0.0, y=1.05,\n",
        "                              xanchor='left', yanchor='bottom',\n",
        "                              text='Hangboard Progress',\n",
        "                              font=dict(family='Arial',\n",
        "                                        size=30,\n",
        "                                        color='rgb(37,37,37)'),\n",
        "                              showarrow=False))\n",
        "\n",
        "fig.update_layout(annotations=annotations,\n",
        "                  showlegend=False) # alternatively can show legend (default to True) and remove label on right\n",
        "\n",
        "fig.show()"
      ],
      "execution_count": 0,
      "outputs": [
        {
          "output_type": "display_data",
          "data": {
            "text/html": [
              "<html>\n",
              "<head><meta charset=\"utf-8\" /></head>\n",
              "<body>\n",
              "    <div>\n",
              "            <script src=\"https://cdnjs.cloudflare.com/ajax/libs/mathjax/2.7.5/MathJax.js?config=TeX-AMS-MML_SVG\"></script><script type=\"text/javascript\">if (window.MathJax) {MathJax.Hub.Config({SVG: {font: \"STIX-Web\"}});}</script>\n",
              "                <script type=\"text/javascript\">window.PlotlyConfig = {MathJaxConfig: 'local'};</script>\n",
              "        <script src=\"https://cdn.plot.ly/plotly-latest.min.js\"></script>    \n",
              "            <div id=\"f03c9ff8-632b-437a-99f2-5fc068c03135\" class=\"plotly-graph-div\" style=\"height:525px; width:100%;\"></div>\n",
              "            <script type=\"text/javascript\">\n",
              "                \n",
              "                    window.PLOTLYENV=window.PLOTLYENV || {};\n",
              "                    \n",
              "                if (document.getElementById(\"f03c9ff8-632b-437a-99f2-5fc068c03135\")) {\n",
              "                    Plotly.newPlot(\n",
              "                        'f03c9ff8-632b-437a-99f2-5fc068c03135',\n",
              "                        [{\"mode\": \"lines+markers\", \"type\": \"scatter\", \"x\": [\"2019-10-26T00:00:00\", \"2019-10-29T00:00:00\", \"2019-11-01T00:00:00\", \"2019-11-04T00:00:00\", \"2019-11-07T00:00:00\", \"2019-11-10T00:00:00\", \"2019-11-13T00:00:00\"], \"y\": [0, 0, 0, 0, 0, 0, 0]}, {\"mode\": \"lines+markers\", \"type\": \"scatter\", \"x\": [\"2019-10-26T00:00:00\", \"2019-10-29T00:00:00\", \"2019-11-01T00:00:00\", \"2019-11-04T00:00:00\", \"2019-11-07T00:00:00\", \"2019-11-10T00:00:00\", \"2019-11-13T00:00:00\"], \"y\": [-20.0, -17.5, -27.5, -25.0, -25.0, -22.5, -20.0]}, {\"mode\": \"lines+markers\", \"type\": \"scatter\", \"x\": [\"2019-10-26T00:00:00\", \"2019-10-29T00:00:00\", \"2019-11-01T00:00:00\", \"2019-11-04T00:00:00\", \"2019-11-07T00:00:00\", \"2019-11-10T00:00:00\", \"2019-11-13T00:00:00\"], \"y\": [-45.0, -42.5, -40.0, -40.0, -37.5, -35.0, -32.5]}, {\"mode\": \"lines+markers\", \"type\": \"scatter\", \"x\": [\"2019-10-26T00:00:00\", \"2019-10-29T00:00:00\", \"2019-11-01T00:00:00\", \"2019-11-04T00:00:00\", \"2019-11-07T00:00:00\", \"2019-11-10T00:00:00\", \"2019-11-13T00:00:00\"], \"y\": [-60.0, -57.5, -55.0, -55.0, -55.0, -52.5, -50.0]}, {\"mode\": \"lines+markers\", \"type\": \"scatter\", \"x\": [\"2019-10-26T00:00:00\", \"2019-10-29T00:00:00\", \"2019-11-01T00:00:00\", \"2019-11-04T00:00:00\", \"2019-11-07T00:00:00\", \"2019-11-10T00:00:00\", \"2019-11-13T00:00:00\"], \"y\": [-50.0, -47.5, -45.0, -45.0, -42.5, -40.0, -37.5]}, {\"mode\": \"lines+markers\", \"type\": \"scatter\", \"x\": [\"2019-10-26T00:00:00\", \"2019-10-29T00:00:00\", \"2019-11-01T00:00:00\", \"2019-11-04T00:00:00\", \"2019-11-07T00:00:00\", \"2019-11-10T00:00:00\", \"2019-11-13T00:00:00\"], \"y\": [-45.0, -42.5, -35.0, -35.0, -32.5, -30.0, -27.5]}, {\"mode\": \"lines+markers\", \"type\": \"scatter\", \"x\": [\"2019-10-26T00:00:00\", \"2019-10-29T00:00:00\", \"2019-11-01T00:00:00\", \"2019-11-04T00:00:00\", \"2019-11-07T00:00:00\", \"2019-11-10T00:00:00\", \"2019-11-13T00:00:00\"], \"y\": [-55.0, -52.5, -50.0, -50.0, -47.5, -45.0, -42.5]}, {\"mode\": \"lines+markers\", \"type\": \"scatter\", \"x\": [\"2019-10-26T00:00:00\", \"2019-10-29T00:00:00\", \"2019-11-01T00:00:00\", \"2019-11-04T00:00:00\", \"2019-11-07T00:00:00\", \"2019-11-10T00:00:00\", \"2019-11-13T00:00:00\"], \"y\": [-35.0, -32.5, -30.0, -30.0, -27.5, -25.0, -22.5]}, {\"mode\": \"lines+markers\", \"type\": \"scatter\", \"x\": [\"2019-10-26T00:00:00\", \"2019-10-29T00:00:00\", \"2019-11-01T00:00:00\", \"2019-11-04T00:00:00\", \"2019-11-07T00:00:00\", \"2019-11-10T00:00:00\", \"2019-11-13T00:00:00\"], \"y\": [-45.0, -42.5, -40.0, -40.0, -37.5, -35.0, -32.5]}],\n",
              "                        {\"annotations\": [{\"font\": {\"family\": \"Arial\", \"size\": 16}, \"showarrow\": false, \"text\": \"jug\", \"x\": 1, \"xanchor\": \"left\", \"xref\": \"paper\", \"y\": 0, \"yanchor\": \"middle\"}, {\"font\": {\"family\": \"Arial\", \"size\": 16}, \"showarrow\": false, \"text\": \"imr\", \"x\": 1, \"xanchor\": \"left\", \"xref\": \"paper\", \"y\": -20.0, \"yanchor\": \"middle\"}, {\"font\": {\"family\": \"Arial\", \"size\": 16}, \"showarrow\": false, \"text\": \"med_edge\", \"x\": 1, \"xanchor\": \"left\", \"xref\": \"paper\", \"y\": -32.5, \"yanchor\": \"middle\"}, {\"font\": {\"family\": \"Arial\", \"size\": 16}, \"showarrow\": false, \"text\": \"pinch_med\", \"x\": 1, \"xanchor\": \"left\", \"xref\": \"paper\", \"y\": -50.0, \"yanchor\": \"middle\"}, {\"font\": {\"family\": \"Arial\", \"size\": 16}, \"showarrow\": false, \"text\": \"mr_2fp\", \"x\": 1, \"xanchor\": \"left\", \"xref\": \"paper\", \"y\": -37.5, \"yanchor\": \"middle\"}, {\"font\": {\"family\": \"Arial\", \"size\": 16}, \"showarrow\": false, \"text\": \"large_edge\", \"x\": 1, \"xanchor\": \"left\", \"xref\": \"paper\", \"y\": -27.5, \"yanchor\": \"middle\"}, {\"font\": {\"family\": \"Arial\", \"size\": 16}, \"showarrow\": false, \"text\": \"pinch_wide\", \"x\": 1, \"xanchor\": \"left\", \"xref\": \"paper\", \"y\": -42.5, \"yanchor\": \"middle\"}, {\"font\": {\"family\": \"Arial\", \"size\": 16}, \"showarrow\": false, \"text\": \"sloper\", \"x\": 1, \"xanchor\": \"left\", \"xref\": \"paper\", \"y\": -22.5, \"yanchor\": \"middle\"}, {\"font\": {\"family\": \"Arial\", \"size\": 16}, \"showarrow\": false, \"text\": \"mrp_3fp\", \"x\": 1, \"xanchor\": \"left\", \"xref\": \"paper\", \"y\": -32.5, \"yanchor\": \"middle\"}, {\"font\": {\"color\": \"rgb(37,37,37)\", \"family\": \"Arial\", \"size\": 30}, \"showarrow\": false, \"text\": \"Hangboard Progress\", \"x\": 0.0, \"xanchor\": \"left\", \"xref\": \"paper\", \"y\": 1.05, \"yanchor\": \"bottom\", \"yref\": \"paper\"}], \"showlegend\": false, \"template\": {\"data\": {\"bar\": [{\"error_x\": {\"color\": \"#2a3f5f\"}, \"error_y\": {\"color\": \"#2a3f5f\"}, \"marker\": {\"line\": {\"color\": \"#E5ECF6\", \"width\": 0.5}}, \"type\": \"bar\"}], \"barpolar\": [{\"marker\": {\"line\": {\"color\": \"#E5ECF6\", \"width\": 0.5}}, \"type\": \"barpolar\"}], \"carpet\": [{\"aaxis\": {\"endlinecolor\": \"#2a3f5f\", \"gridcolor\": \"white\", \"linecolor\": \"white\", \"minorgridcolor\": \"white\", \"startlinecolor\": \"#2a3f5f\"}, \"baxis\": {\"endlinecolor\": \"#2a3f5f\", \"gridcolor\": \"white\", \"linecolor\": \"white\", \"minorgridcolor\": \"white\", \"startlinecolor\": \"#2a3f5f\"}, \"type\": \"carpet\"}], \"choropleth\": [{\"colorbar\": {\"outlinewidth\": 0, \"ticks\": \"\"}, \"type\": \"choropleth\"}], \"contour\": [{\"colorbar\": {\"outlinewidth\": 0, \"ticks\": \"\"}, \"colorscale\": [[0.0, \"#0d0887\"], [0.1111111111111111, \"#46039f\"], [0.2222222222222222, \"#7201a8\"], [0.3333333333333333, \"#9c179e\"], [0.4444444444444444, \"#bd3786\"], [0.5555555555555556, \"#d8576b\"], [0.6666666666666666, \"#ed7953\"], [0.7777777777777778, \"#fb9f3a\"], [0.8888888888888888, \"#fdca26\"], [1.0, \"#f0f921\"]], \"type\": \"contour\"}], \"contourcarpet\": [{\"colorbar\": {\"outlinewidth\": 0, \"ticks\": \"\"}, \"type\": \"contourcarpet\"}], \"heatmap\": [{\"colorbar\": {\"outlinewidth\": 0, \"ticks\": \"\"}, \"colorscale\": [[0.0, \"#0d0887\"], [0.1111111111111111, \"#46039f\"], [0.2222222222222222, \"#7201a8\"], [0.3333333333333333, \"#9c179e\"], [0.4444444444444444, \"#bd3786\"], [0.5555555555555556, \"#d8576b\"], [0.6666666666666666, \"#ed7953\"], [0.7777777777777778, \"#fb9f3a\"], [0.8888888888888888, \"#fdca26\"], [1.0, \"#f0f921\"]], \"type\": \"heatmap\"}], \"heatmapgl\": [{\"colorbar\": {\"outlinewidth\": 0, \"ticks\": \"\"}, \"colorscale\": [[0.0, \"#0d0887\"], [0.1111111111111111, \"#46039f\"], [0.2222222222222222, \"#7201a8\"], [0.3333333333333333, \"#9c179e\"], [0.4444444444444444, \"#bd3786\"], [0.5555555555555556, \"#d8576b\"], [0.6666666666666666, \"#ed7953\"], [0.7777777777777778, \"#fb9f3a\"], [0.8888888888888888, \"#fdca26\"], [1.0, \"#f0f921\"]], \"type\": \"heatmapgl\"}], \"histogram\": [{\"marker\": {\"colorbar\": {\"outlinewidth\": 0, \"ticks\": \"\"}}, \"type\": \"histogram\"}], \"histogram2d\": [{\"colorbar\": {\"outlinewidth\": 0, \"ticks\": \"\"}, \"colorscale\": [[0.0, \"#0d0887\"], [0.1111111111111111, \"#46039f\"], [0.2222222222222222, \"#7201a8\"], [0.3333333333333333, \"#9c179e\"], [0.4444444444444444, \"#bd3786\"], [0.5555555555555556, \"#d8576b\"], [0.6666666666666666, \"#ed7953\"], [0.7777777777777778, \"#fb9f3a\"], [0.8888888888888888, \"#fdca26\"], [1.0, \"#f0f921\"]], \"type\": \"histogram2d\"}], \"histogram2dcontour\": [{\"colorbar\": {\"outlinewidth\": 0, \"ticks\": \"\"}, \"colorscale\": [[0.0, \"#0d0887\"], [0.1111111111111111, \"#46039f\"], [0.2222222222222222, \"#7201a8\"], [0.3333333333333333, \"#9c179e\"], [0.4444444444444444, \"#bd3786\"], [0.5555555555555556, \"#d8576b\"], [0.6666666666666666, \"#ed7953\"], [0.7777777777777778, \"#fb9f3a\"], [0.8888888888888888, \"#fdca26\"], [1.0, \"#f0f921\"]], \"type\": \"histogram2dcontour\"}], \"mesh3d\": [{\"colorbar\": {\"outlinewidth\": 0, \"ticks\": \"\"}, \"type\": \"mesh3d\"}], \"parcoords\": [{\"line\": {\"colorbar\": {\"outlinewidth\": 0, \"ticks\": \"\"}}, \"type\": \"parcoords\"}], \"scatter\": [{\"marker\": {\"colorbar\": {\"outlinewidth\": 0, \"ticks\": \"\"}}, \"type\": \"scatter\"}], \"scatter3d\": [{\"line\": {\"colorbar\": {\"outlinewidth\": 0, \"ticks\": \"\"}}, \"marker\": {\"colorbar\": {\"outlinewidth\": 0, \"ticks\": \"\"}}, \"type\": \"scatter3d\"}], \"scattercarpet\": [{\"marker\": {\"colorbar\": {\"outlinewidth\": 0, \"ticks\": \"\"}}, \"type\": \"scattercarpet\"}], \"scattergeo\": [{\"marker\": {\"colorbar\": {\"outlinewidth\": 0, \"ticks\": \"\"}}, \"type\": \"scattergeo\"}], \"scattergl\": [{\"marker\": {\"colorbar\": {\"outlinewidth\": 0, \"ticks\": \"\"}}, \"type\": \"scattergl\"}], \"scattermapbox\": [{\"marker\": {\"colorbar\": {\"outlinewidth\": 0, \"ticks\": \"\"}}, \"type\": \"scattermapbox\"}], \"scatterpolar\": [{\"marker\": {\"colorbar\": {\"outlinewidth\": 0, \"ticks\": \"\"}}, \"type\": \"scatterpolar\"}], \"scatterpolargl\": [{\"marker\": {\"colorbar\": {\"outlinewidth\": 0, \"ticks\": \"\"}}, \"type\": \"scatterpolargl\"}], \"scatterternary\": [{\"marker\": {\"colorbar\": {\"outlinewidth\": 0, \"ticks\": \"\"}}, \"type\": \"scatterternary\"}], \"surface\": [{\"colorbar\": {\"outlinewidth\": 0, \"ticks\": \"\"}, \"colorscale\": [[0.0, \"#0d0887\"], [0.1111111111111111, \"#46039f\"], [0.2222222222222222, \"#7201a8\"], [0.3333333333333333, \"#9c179e\"], [0.4444444444444444, \"#bd3786\"], [0.5555555555555556, \"#d8576b\"], [0.6666666666666666, \"#ed7953\"], [0.7777777777777778, \"#fb9f3a\"], [0.8888888888888888, \"#fdca26\"], [1.0, \"#f0f921\"]], \"type\": \"surface\"}], \"table\": [{\"cells\": {\"fill\": {\"color\": \"#EBF0F8\"}, \"line\": {\"color\": \"white\"}}, \"header\": {\"fill\": {\"color\": \"#C8D4E3\"}, \"line\": {\"color\": \"white\"}}, \"type\": \"table\"}]}, \"layout\": {\"annotationdefaults\": {\"arrowcolor\": \"#2a3f5f\", \"arrowhead\": 0, \"arrowwidth\": 1}, \"colorscale\": {\"diverging\": [[0, \"#8e0152\"], [0.1, \"#c51b7d\"], [0.2, \"#de77ae\"], [0.3, \"#f1b6da\"], [0.4, \"#fde0ef\"], [0.5, \"#f7f7f7\"], [0.6, \"#e6f5d0\"], [0.7, \"#b8e186\"], [0.8, \"#7fbc41\"], [0.9, \"#4d9221\"], [1, \"#276419\"]], \"sequential\": [[0.0, \"#0d0887\"], [0.1111111111111111, \"#46039f\"], [0.2222222222222222, \"#7201a8\"], [0.3333333333333333, \"#9c179e\"], [0.4444444444444444, \"#bd3786\"], [0.5555555555555556, \"#d8576b\"], [0.6666666666666666, \"#ed7953\"], [0.7777777777777778, \"#fb9f3a\"], [0.8888888888888888, \"#fdca26\"], [1.0, \"#f0f921\"]], \"sequentialminus\": [[0.0, \"#0d0887\"], [0.1111111111111111, \"#46039f\"], [0.2222222222222222, \"#7201a8\"], [0.3333333333333333, \"#9c179e\"], [0.4444444444444444, \"#bd3786\"], [0.5555555555555556, \"#d8576b\"], [0.6666666666666666, \"#ed7953\"], [0.7777777777777778, \"#fb9f3a\"], [0.8888888888888888, \"#fdca26\"], [1.0, \"#f0f921\"]]}, \"colorway\": [\"#636efa\", \"#EF553B\", \"#00cc96\", \"#ab63fa\", \"#FFA15A\", \"#19d3f3\", \"#FF6692\", \"#B6E880\", \"#FF97FF\", \"#FECB52\"], \"font\": {\"color\": \"#2a3f5f\"}, \"geo\": {\"bgcolor\": \"white\", \"lakecolor\": \"white\", \"landcolor\": \"#E5ECF6\", \"showlakes\": true, \"showland\": true, \"subunitcolor\": \"white\"}, \"hoverlabel\": {\"align\": \"left\"}, \"hovermode\": \"closest\", \"mapbox\": {\"style\": \"light\"}, \"paper_bgcolor\": \"white\", \"plot_bgcolor\": \"#E5ECF6\", \"polar\": {\"angularaxis\": {\"gridcolor\": \"white\", \"linecolor\": \"white\", \"ticks\": \"\"}, \"bgcolor\": \"#E5ECF6\", \"radialaxis\": {\"gridcolor\": \"white\", \"linecolor\": \"white\", \"ticks\": \"\"}}, \"scene\": {\"xaxis\": {\"backgroundcolor\": \"#E5ECF6\", \"gridcolor\": \"white\", \"gridwidth\": 2, \"linecolor\": \"white\", \"showbackground\": true, \"ticks\": \"\", \"zerolinecolor\": \"white\"}, \"yaxis\": {\"backgroundcolor\": \"#E5ECF6\", \"gridcolor\": \"white\", \"gridwidth\": 2, \"linecolor\": \"white\", \"showbackground\": true, \"ticks\": \"\", \"zerolinecolor\": \"white\"}, \"zaxis\": {\"backgroundcolor\": \"#E5ECF6\", \"gridcolor\": \"white\", \"gridwidth\": 2, \"linecolor\": \"white\", \"showbackground\": true, \"ticks\": \"\", \"zerolinecolor\": \"white\"}}, \"shapedefaults\": {\"line\": {\"color\": \"#2a3f5f\"}}, \"ternary\": {\"aaxis\": {\"gridcolor\": \"white\", \"linecolor\": \"white\", \"ticks\": \"\"}, \"baxis\": {\"gridcolor\": \"white\", \"linecolor\": \"white\", \"ticks\": \"\"}, \"bgcolor\": \"#E5ECF6\", \"caxis\": {\"gridcolor\": \"white\", \"linecolor\": \"white\", \"ticks\": \"\"}}, \"title\": {\"x\": 0.05}, \"xaxis\": {\"automargin\": true, \"gridcolor\": \"white\", \"linecolor\": \"white\", \"ticks\": \"\", \"zerolinecolor\": \"white\", \"zerolinewidth\": 2}, \"yaxis\": {\"automargin\": true, \"gridcolor\": \"white\", \"linecolor\": \"white\", \"ticks\": \"\", \"zerolinecolor\": \"white\", \"zerolinewidth\": 2}}}},\n",
              "                        {\"responsive\": true}\n",
              "                    ).then(function(){\n",
              "                            \n",
              "var gd = document.getElementById('f03c9ff8-632b-437a-99f2-5fc068c03135');\n",
              "var x = new MutationObserver(function (mutations, observer) {{\n",
              "        var display = window.getComputedStyle(gd).display;\n",
              "        if (!display || display === 'none') {{\n",
              "            console.log([gd, 'removed!']);\n",
              "            Plotly.purge(gd);\n",
              "            observer.disconnect();\n",
              "        }}\n",
              "}});\n",
              "\n",
              "// Listen for the removal of the full notebook cells\n",
              "var notebookContainer = gd.closest('#notebook-container');\n",
              "if (notebookContainer) {{\n",
              "    x.observe(notebookContainer, {childList: true});\n",
              "}}\n",
              "\n",
              "// Listen for the clearing of the current output cell\n",
              "var outputEl = gd.closest('.output');\n",
              "if (outputEl) {{\n",
              "    x.observe(outputEl, {childList: true});\n",
              "}}\n",
              "\n",
              "                        })\n",
              "                };\n",
              "                \n",
              "            </script>\n",
              "        </div>\n",
              "</body>\n",
              "</html>"
            ]
          },
          "metadata": {
            "tags": []
          }
        }
      ]
    },
    {
      "cell_type": "code",
      "metadata": {
        "id": "P86x201aH4xY",
        "colab_type": "code",
        "outputId": "54a502cd-b11f-45fe-e32a-302deb754af0",
        "colab": {
          "base_uri": "https://localhost:8080/",
          "height": 592
        }
      },
      "source": [
        "plt.figure(figsize=(15,10))\n",
        "for hang in hangs:\n",
        "  plt.plot(hang.index, hang.weight)\n",
        "\n",
        "plt.legend(cols)\n",
        "plt.show();"
      ],
      "execution_count": 0,
      "outputs": [
        {
          "output_type": "display_data",
          "data": {
            "image/png": "[encoded data removed]",
            "text/plain": [
              "<Figure size 1080x720 with 1 Axes>"
            ]
          },
          "metadata": {
            "tags": []
          }
        }
      ]
    },
    {
      "cell_type": "code",
      "metadata": {
        "id": "kZqBok88MHjo",
        "colab_type": "code",
        "colab": {}
      },
      "source": [
        ""
      ],
      "execution_count": 0,
      "outputs": []
    }
  ]
}