{
  "nbformat": 4,
  "nbformat_minor": 0,
  "metadata": {
    "colab": {
      "name": "rp_os_pyramids.ipynb",
      "provenance": [],
      "collapsed_sections": [],
      "include_colab_link": true
    },
    "kernelspec": {
      "name": "python3",
      "display_name": "Python 3"
    }
  },
  "cells": [
    {
      "cell_type": "markdown",
      "metadata": {
        "id": "view-in-github",
        "colab_type": "text"
      },
      "source": [
        "<a href=\"https://colab.research.google.com/github/Tclack88/MountainProject/blob/master/rp_os_pyramids.ipynb\" target=\"_parent\"><img src=\"https://colab.research.google.com/assets/colab-badge.svg\" alt=\"Open In Colab\"/></a>"
      ]
    },
    {
      "cell_type": "markdown",
      "metadata": {
        "id": "6VlLwOX4lTkv",
        "colab_type": "text"
      },
      "source": [
        "# Redpoint/Onsight ladders"
      ]
    },
    {
      "cell_type": "code",
      "metadata": {
        "id": "jh1GkF2MlwNx",
        "colab_type": "code",
        "colab": {}
      },
      "source": [
        "import pandas as pd\n",
        "import numpy as np\n",
        "from math import floor\n",
        "from datetime import datetime as dt\n",
        "import seaborn as sb\n",
        "import matplotlib.pyplot as plt\n",
        "sb.set(style='whitegrid')"
      ],
      "execution_count": 0,
      "outputs": []
    },
    {
      "cell_type": "code",
      "metadata": {
        "id": "OKNxUUODmKva",
        "colab_type": "code",
        "colab": {}
      },
      "source": [
        "# Get Grade for conversion (from Mountain Project's official grade converter)\n",
        "grade_chart = pd.read_html(\"https://www.mountainproject.com/international-climbing-grades\")\n",
        "old_ropes = grade_chart[0].YDSUSA[:-1].to_list()\n",
        "new_ropes = [0,0,0,0,1,2,3,4,5,6,7,7.4,8,8.4,8.8,9,9.4,9.8]+list(np.round(np.arange(10,16,.1),1))\n",
        "ropes_convert = dict(zip(old_ropes,new_ropes))"
      ],
      "execution_count": 0,
      "outputs": []
    },
    {
      "cell_type": "code",
      "metadata": {
        "colab_type": "code",
        "id": "Uxj0kxSHEzTs",
        "colab": {}
      },
      "source": [
        "# Supporting functions for clean and prep pipeline\n",
        "def clean_grade(grade):\n",
        "  grade = str(grade).split()[0]\n",
        "  if grade[0] == '5':\n",
        "    grade = ropes_convert[grade]\n",
        "    return grade\n",
        "\n",
        "def x_round(x):\n",
        "  \"\"\" rounds down to nearest .25\n",
        "  eg. x_round(11.49) = 11.25, x_round(11.51) = 11.5\n",
        "  \"\"\"\n",
        "  if x >= 10:\n",
        "    return floor(x*4)/4\n",
        "  else: return x\n",
        "\n",
        "# trad_os.grade.apply(x_round).value_counts().sort_index(ascending=False)\n",
        "\n",
        "\n",
        "# Rounding Key example:\n",
        "\n",
        "# 10a, 10-, 10a/b  -> 10a\n",
        "# 10b, 10          -> 10b\n",
        "# 10b/c, 10c, 10+  -> 10c\n",
        "# 10c/d, 10d       -> 10d\n",
        "\n",
        "# def grade_to_number(grade):\n",
        "#   letter_map = {'a':'.0', 'b':'.25', 'c':'.5', 'd':'.75', '-':'.0', '+':'.8'}\n",
        "#   if grade[-1].isnumeric() == False:\n",
        "#     grade = grade[:-1] + letter_map[grade[-1]]\n",
        "#     print(grade)\n",
        "#   else:\n",
        "#     grade += '.4'\n",
        "#     print(grade)\n",
        "\n",
        "\n",
        "def grade_to_letter(grade):\n",
        "  letter_map = {'.0':'a', '.25':'b', '.5':'c', '.75':'d'}\n",
        "  letter_map_low = {'.0':'-', '.4':'', '.8':'+'}\n",
        "  if grade >= 10:\n",
        "    grade = str(grade)\n",
        "    grade = grade[:2] + letter_map[grade[2:]]\n",
        "    return grade\n",
        "  else:\n",
        "    grade = str(grade)\n",
        "    grade = grade[:1] + letter_map_low[grade[1:]]\n",
        "    return grade\n"
      ],
      "execution_count": 0,
      "outputs": []
    },
    {
      "cell_type": "code",
      "metadata": {
        "id": "bjuiwq5UNxMg",
        "colab_type": "code",
        "colab": {
          "base_uri": "https://localhost:8080/",
          "height": 1000
        },
        "outputId": "8adc8931-ceb6-4d0e-9c17-7cc42056687f"
      },
      "source": [
        "successful_climbs = data[(data.lead_style == 'Redpoint') | (data.lead_style =='Onsight')]\n",
        "grades = successful_climbs.grade.to_list()\n",
        "routes = successful_climbs.route.to_list()\n",
        "\n",
        "grade_route_tuples = list(zip(grades,routes))\n",
        "grade_route_tuples"
      ],
      "execution_count": 44,
      "outputs": [
        {
          "output_type": "execute_result",
          "data": {
            "text/plain": [
              "[(11.3, \"This Nazi Shit Won't Do\"),\n",
              " (10.0, 'Easy Prey'),\n",
              " (10.0, 'Little Red Book'),\n",
              " (9.4, 'Rites of Spring'),\n",
              " (8.4, 'Walk on the Wild Side'),\n",
              " (6.0, 'Right On'),\n",
              " (9.4, 'Flower of High Rank'),\n",
              " (7.0, 'Yours'),\n",
              " (8.4, 'The Long Climb'),\n",
              " (7.0, \"A Midsummer's Night Seam\"),\n",
              " (5.0, 'Firewater'),\n",
              " (10.3, 'Tombstone Shadow'),\n",
              " (10.3, 'Dead Man Chalking'),\n",
              " (8.4, 'Gold Bug'),\n",
              " (7.0, 'Hidden Gold'),\n",
              " (6.0, \"Dave's Crack\"),\n",
              " (10.0, 'Wilburs Turning in His Grave'),\n",
              " (10.3, 'Nitroglycerine'),\n",
              " (8.4, 'Boom Sauce'),\n",
              " (9.4, 'Whiptail'),\n",
              " (10.3, \"Shootin' Blanks\"),\n",
              " (10.0, 'Ricochet'),\n",
              " (10.0, 'Powder Keg'),\n",
              " (11.0, 'Pistol Whipped'),\n",
              " (10.0, 'One Armed Bandit'),\n",
              " (10.0, 'Claim Jumper'),\n",
              " (10.3, 'She Gave Him Blue Bolts'),\n",
              " (10.0, 'The Bread Loaf'),\n",
              " (8.8, 'Mukat and the Fiery Arrowhead in the Sky'),\n",
              " (7.0, 'Northeast Face West'),\n",
              " (7.0, 'El Whampo'),\n",
              " (9.0, 'Mouse Maze'),\n",
              " (10.0, 'Hanging Gardens Route'),\n",
              " (10.0, 'Sheer Stress'),\n",
              " (10.4, 'Red Eye'),\n",
              " (9.4, 'Classic Crack'),\n",
              " (9.4, \"Helm's Deep\"),\n",
              " (10.3, 'May Day'),\n",
              " (10.0, 'Kamikaze'),\n",
              " (9.4, 'Dirty Jugs'),\n",
              " (9.4, 'Wherever I May Roam'),\n",
              " (8.4, \"Lion's Jaw\"),\n",
              " (9.4, 'Anonymity'),\n",
              " (9.0, \"Chouinard's Crack (1st Half Pitch of Peking)\"),\n",
              " (10.2, 'Dances with Clams'),\n",
              " (9.8, 'Dirty Pinkos'),\n",
              " (8.8, 'Papillion'),\n",
              " (9.4, 'Crowd Pleaser'),\n",
              " (7.0, 'Breaking Wind'),\n",
              " (6.0, 'Clip Jr.'),\n",
              " (7.0, 'Wild Horse Stampede'),\n",
              " (9.4, 'Thundering Herd'),\n",
              " (8.4, 'Wild Horse Rodeo'),\n",
              " (10.0, 'Horse Trader'),\n",
              " (10.6, 'Flying Horseman'),\n",
              " (9.4, 'Senior Daredevil'),\n",
              " (9.4, \"Trevor's Crack\"),\n",
              " (10.0, 'Kali Sacrifice'),\n",
              " (10.0, 'Kew'),\n",
              " (10.0, 'Wildest Dreams'),\n",
              " (8.4, 'After Eights'),\n",
              " (8.4, 'Drop Out'),\n",
              " (9.8, 'Chocolate Pocket'),\n",
              " (10.5, 'Power Play'),\n",
              " (10.9, 'Tangerine Dream'),\n",
              " (10.0, 'Dream of Wild Turkeys'),\n",
              " (9.8, 'Bad Moki Roof'),\n",
              " (10.4, 'Stolen Chimney'),\n",
              " (9.8, 'Kor-Ingalls Route'),\n",
              " (10.6, 'Heart of the Desert'),\n",
              " (9.8, 'Unnamed 9+ (big hands dihedral)'),\n",
              " (10.4, 'Unnamed II (fingers through fists)'),\n",
              " (10.1, 'Petrelli Motors'),\n",
              " (10.9, 'Two Timer'),\n",
              " (9.8, 'Evening Ecstacy'),\n",
              " (10.0, 'Sweet Meats'),\n",
              " (10.1, 'Bemis'),\n",
              " (10.1, 'Cheap scotch'),\n",
              " (10.4, 'Bar fight'),\n",
              " (9.4, 'Spam'),\n",
              " (9.8, 'Meltdown'),\n",
              " (8.8, 'Twin Cracks'),\n",
              " (10.4, '3AM Crack'),\n",
              " (10.5, 'Amaretto Corner'),\n",
              " (9.8, '24 Unknown'),\n",
              " (10.4, 'Supercrack of the Desert'),\n",
              " (10.1, 'Generic Crack'),\n",
              " (10.4, 'Manifesto'),\n",
              " (10.4, 'Stubby'),\n",
              " (10.4, 'Jojobean'),\n",
              " (9.4, 'Hot Sex'),\n",
              " (7.0, 'Circus Circus'),\n",
              " (9.4, 'Gouda'),\n",
              " (10.0, 'Yarlsberg'),\n",
              " (11.0, 'Jack Jumped'),\n",
              " (10.0, 'Jack & Jill Go Bolting'),\n",
              " (9.4, 'Betty Cracker'),\n",
              " (10.2, 'Sports Book'),\n",
              " (10.0, 'Slots O Fun'),\n",
              " (10.0, 'Edge your Bets'),\n",
              " (10.0, 'Jackson Five Ten'),\n",
              " (10.3, \"Crack 'em Up\"),\n",
              " (10.0, 'Saucy Jack'),\n",
              " (10.6, \"Every Things It's Cracked Up To Be\"),\n",
              " (9.4, 'Mickey Goes to Vegas'),\n",
              " (8.4, 'I Am Pokey'),\n",
              " (9.4, 'Mars Attacks'),\n",
              " (11.3, 'Space Cowboys'),\n",
              " (11.3, 'Sun Dogs'),\n",
              " (11.0, 'Starship Trooper'),\n",
              " (10.0, \"Slate's Day Off\"),\n",
              " (10.4, 'Life By The Drop'),\n",
              " (10.0, 'Murmur'),\n",
              " (9.4, 'Fire on the Mountain'),\n",
              " (10.0, 'Dos Capitans'),\n",
              " (10.3, 'Arrogant Bastard'),\n",
              " (10.0, 'Mellow Yellow'),\n",
              " (8.4, 'Green Lantern'),\n",
              " (10.0, 'Unknown'),\n",
              " (9.8, 'Aerial Combat'),\n",
              " (9.4, 'Chimera'),\n",
              " (8.8, 'Donamatrix'),\n",
              " (7.0, 'Almost Vertical'),\n",
              " (8.4, 'Catch A Falling Star'),\n",
              " (4.0, 'False Lieback'),\n",
              " (4.0, 'Nutcracker'),\n",
              " (7.0, 'Dolphin'),\n",
              " (8.4, 'Evan’s Erogenous Epidural (aka “Triple E”)'),\n",
              " (6.0, \"You've Been Promoted\"),\n",
              " (5.0, 'Pulling Strings'),\n",
              " (10.0, 'Holey Moley'),\n",
              " (9.4, 'Crooked Dick Spire'),\n",
              " (8.4, 'Crystalean  P1'),\n",
              " (8.4, 'Meteor'),\n",
              " (10.0, 'Gridlock'),\n",
              " (9.0, 'Ezra'),\n",
              " (8.4, 'Cobble Climb'),\n",
              " (8.8, 'Cruiser'),\n",
              " (4.0, 'Fingertip Traverse'),\n",
              " (10.0, 'For Paul'),\n",
              " (7.4, 'Bumpy'),\n",
              " (7.0, 'Bunny Hop'),\n",
              " (7.0, 'Wheels on the Bus'),\n",
              " (7.0, 'Banana Phone'),\n",
              " (8.4, 'Grabnabber'),\n",
              " (9.4, 'Fingers'),\n",
              " (7.0, 'East Buttress'),\n",
              " (10.3, 'Where Have all the Cowboys Gone?'),\n",
              " (8.4, 'Horton Hears A Who'),\n",
              " (9.4, \"Jerry's Kids\"),\n",
              " (9.4, 'Kindergarten Cop'),\n",
              " (10.0, 'Children Should Not Use Power Tools'),\n",
              " (8.4, 'After Shock'),\n",
              " (10.3, 'Storm'),\n",
              " (7.0, 'Two Scary'),\n",
              " (10.0, 'The Natural'),\n",
              " (10.3, 'Unnatural Act'),\n",
              " (7.0, 'Rumble in the Rubble'),\n",
              " (10.0, 'Community Service'),\n",
              " (8.4, 'Blurry'),\n",
              " (9.4, 'The Good, the Bad, and the Ugly'),\n",
              " (8.4, 'He Who Double-crosses Me...'),\n",
              " (8.4, \"My Name's Nobody, Bub\"),\n",
              " (8.4, 'Axe of God'),\n",
              " (7.0, \"Finger Lickin' Good\"),\n",
              " (9.4, 'Serpentine'),\n",
              " (10.0, 'Easy Prey'),\n",
              " (10.6, 'One-Eyed Jack'),\n",
              " (10.0, 'Chimps Ahoy'),\n",
              " (10.6, 'X Files'),\n",
              " (10.8, 'Mojave Green'),\n",
              " (8.4, 'Rosy Boa'),\n",
              " (10.3, 'King Snake'),\n",
              " (6.0, 'Skywalker'),\n",
              " (5.0, 'Lunar Ascent'),\n",
              " (9.4, 'A Day At The Pod Races'),\n",
              " (10.4, 'Ministry of Misinformation'),\n",
              " (9.4, 'Moonshiner'),\n",
              " (9.4, 'Prow'),\n",
              " (9.4, 'Epinephrine'),\n",
              " (8.4, 'Hawk-Eye Surveillance'),\n",
              " (9.4, 'King for a Day (aka Steve’s Route)'),\n",
              " (9.8, 'Dirty Girls'),\n",
              " (10.9, 'Better Luck Next Time'),\n",
              " (10.0, 'Bum Steer'),\n",
              " (9.4, 'Thunderbird'),\n",
              " (8.4, 'Smackdown'),\n",
              " (10.6, 'Hair Trigger'),\n",
              " (6.0, 'Left Ski Track'),\n",
              " (7.0, 'Fingertrip'),\n",
              " (7.0, 'Lunch Rock Chimney Route'),\n",
              " (6.0, \"Angel's Fright\"),\n",
              " (8.4, 'Fear the Smear'),\n",
              " (6.0, \"I'm Just a Bill\"),\n",
              " (7.0, \"The Check's in the Mail\"),\n",
              " (9.4, 'Powder Puff Girls'),\n",
              " (9.4, 'Power Ranger')]"
            ]
          },
          "metadata": {
            "tags": []
          },
          "execution_count": 44
        }
      ]
    },
    {
      "cell_type": "code",
      "metadata": {
        "id": "0og2L_rnVnYI",
        "colab_type": "code",
        "outputId": "3f88383b-8491-425e-c32a-29d26e3b3c23",
        "colab": {
          "base_uri": "https://localhost:8080/",
          "height": 1000
        }
      },
      "source": [
        "document = \"https://www.mountainproject.com/user/109791883/trevor-clack/tick-export\"\n",
        "# document = \"https://www.mountainproject.com/user/110296901/morgan-f/tick-export\"\n",
        "\n",
        "climber = document.split('/')[-2].replace('-',' ').title()\n",
        "date = dt.now().strftime('%-d%b%Y')\n",
        "data = pd.read_csv(document)\n",
        "data = data[['Route', 'Rating', 'Style', 'Lead Style', 'Route Type']]\n",
        "data = data.rename(columns = (dict(zip(data.columns,['route', 'grade', 'style', 'lead_style', 'type']))))\n",
        "data.grade = data.grade.apply(clean_grade)\n",
        "data = data[data['style'] == 'Lead']\n",
        "# Split Trad and Sport data\n",
        "trad = data[(data['type'] == 'Trad') | (data['type'] == 'Trad, Sport') | (data['type'] == 'Trad, Alpine') | (data['type'] == 'Trad, Aid')]\n",
        "sport = data[(data['type'] == 'Sport') | (data['type'] == 'Sport, TR')]\n",
        "trad_rp = trad[trad.lead_style == 'Redpoint']\n",
        "trad_os = trad[trad.lead_style == 'Onsight']\n",
        "trad_os.grade.apply(x_round).value_counts().sort_index(ascending=False)\n",
        "sport_rp = sport[sport.lead_style == 'Redpoint']\n",
        "sport_os = sport[sport.lead_style == 'Onsight']\n",
        "\n",
        "\n",
        "styles = [sport_os, sport_rp, trad_os, trad_rp]\n",
        "\n",
        "for style in styles:\n",
        "  if not style.empty:\n",
        "    title = f\"{climber}\\n{style.iloc[0]['type'].split(',')[0]} {style.iloc[0].lead_style} pyramid \\n{date}\\n\"\n",
        "    top_pyramid = style.grade.apply(x_round).value_counts().sort_index(ascending=False).iloc[:6].reset_index()\n",
        "    top_pyramid.columns = ('grade','count')\n",
        "    top_pyramid.grade = top_pyramid.grade.apply(grade_to_letter)\n",
        "    sb.barplot(y='grade', x='count', data=top_pyramid, color='green')\n",
        "    plt.title(title)\n",
        "    plt.show()\n",
        "    print(top_pyramid)"
      ],
      "execution_count": 34,
      "outputs": [
        {
          "output_type": "display_data",
          "data": {
            "image/png": "[encoded data removed]",
            "text/plain": [
              "<Figure size 432x288 with 1 Axes>"
            ]
          },
          "metadata": {
            "tags": []
          }
        },
        {
          "output_type": "stream",
          "text": [
            "  grade  count\n",
            "0   11b      2\n",
            "1   11a      1\n",
            "2   10d      1\n",
            "3   10c      4\n",
            "4   10b     14\n",
            "5   10a     29\n"
          ],
          "name": "stdout"
        },
        {
          "output_type": "display_data",
          "data": {
            "image/png": "[encoded data removed]",
            "text/plain": [
              "<Figure size 432x288 with 1 Axes>"
            ]
          },
          "metadata": {
            "tags": []
          }
        },
        {
          "output_type": "stream",
          "text": [
            "  grade  count\n",
            "0   11b      1\n",
            "1   11a      2\n",
            "2   10d      2\n",
            "3   10c      2\n",
            "4   10b      1\n",
            "5   10a      6\n"
          ],
          "name": "stdout"
        },
        {
          "output_type": "display_data",
          "data": {
            "image/png": "[encoded data removed]",
            "text/plain": [
              "<Figure size 432x288 with 1 Axes>"
            ]
          },
          "metadata": {
            "tags": []
          }
        },
        {
          "output_type": "stream",
          "text": [
            "  grade  count\n",
            "0   10d      1\n",
            "1   10c      2\n",
            "2   10b      7\n",
            "3   10a      7\n",
            "4    9+      6\n",
            "5     9     10\n"
          ],
          "name": "stdout"
        },
        {
          "output_type": "display_data",
          "data": {
            "image/png": "[encoded data removed]",
            "text/plain": [
              "<Figure size 432x288 with 1 Axes>"
            ]
          },
          "metadata": {
            "tags": []
          }
        },
        {
          "output_type": "stream",
          "text": [
            "  grade  count\n",
            "0   10b      1\n",
            "1   10a      1\n",
            "2     9      1\n"
          ],
          "name": "stdout"
        }
      ]
    },
    {
      "cell_type": "markdown",
      "metadata": {
        "id": "BytTpGTZlzcj",
        "colab_type": "text"
      },
      "source": [
        "## Combined redpoint and os pyramid"
      ]
    },
    {
      "cell_type": "code",
      "metadata": {
        "id": "6xt92l715u7o",
        "colab_type": "code",
        "colab": {}
      },
      "source": [
        "def make_pyramid(document):\n",
        "  climber = document.split('/')[-2].replace('-',' ').title()\n",
        "  date = dt.now().strftime('%-d%b%Y')\n",
        "  data = pd.read_csv(document)\n",
        "  data = data[['Route', 'Rating', 'Style', 'Lead Style', 'Route Type']]\n",
        "  data = data.rename(columns = (dict(zip(data.columns,['route', 'grade', 'style', 'lead_style', 'type']))))\n",
        "  data.grade = data.grade.apply(clean_grade)\n",
        "  data = data[data['style'] == 'Lead']\n",
        "  # Split Trad and Sport data\n",
        "  trad = data[(data['type'] == 'Trad') | (data['type'] == 'Trad, Sport') | (data['type'] == 'Trad, Alpine') | (data['type'] == 'Trad, Aid')]\n",
        "  sport = data[(data['type'] == 'Sport') | (data['type'] == 'Sport, TR')]\n",
        "  trad_rp = trad[trad.lead_style == 'Redpoint']\n",
        "  trad_os = trad[trad.lead_style == 'Onsight']\n",
        "  trad_os.grade.apply(x_round).value_counts().sort_index(ascending=False)\n",
        "  sport_rp = sport[sport.lead_style == 'Redpoint']\n",
        "  sport_os = sport[sport.lead_style == 'Onsight']\n",
        "\n",
        "  sport_combined = pd.concat([sport_rp,sport_os], axis=0)\n",
        "  trad_combined = pd.concat([trad_rp, trad_os], axis=0)\n",
        "  styles = [sport_combined, trad_combined]\n",
        "\n",
        "  pyramids = []\n",
        "  for style in styles:\n",
        "    if not style.empty:\n",
        "      title = f\"{climber}\\n{style.iloc[0]['type'].split(',')[0]} pyramid \\n as of {date}\\n\"\n",
        "      top_pyramid = style.grade.apply(x_round).value_counts().sort_index(ascending=False).iloc[:6].reset_index()\n",
        "      top_pyramid.columns = ('grade','count')\n",
        "      top_pyramid.grade = top_pyramid.grade.apply(grade_to_letter)\n",
        "      sb.barplot(y='grade', x='count', data=top_pyramid, color='green')\n",
        "      plt.title(title)\n",
        "      plt.show()\n",
        "      print(top_pyramid)\n",
        "      print('\\n\\n\\t\\ttop 10')\n",
        "      print(style.sort_values('grade',ascending=False).head(10))\n",
        "      pyramids.append(top_pyramid)\n",
        "\n",
        "  return pyramids"
      ],
      "execution_count": 0,
      "outputs": []
    },
    {
      "cell_type": "code",
      "metadata": {
        "id": "-DRO4K58DVqy",
        "colab_type": "code",
        "colab": {
          "base_uri": "https://localhost:8080/",
          "height": 1000
        },
        "outputId": "3d3ebae4-0274-4c62-d1c3-d65f35aefc37"
      },
      "source": [
        "document = \"https://www.mountainproject.com/user/109791883/trevor-clack/tick-export\"   # Trevor\n",
        "# document = \"https://www.mountainproject.com/user/110296901/morgan-f/tick-export\"  # Morgan\n",
        "\n",
        "sport_pyramid, trad_pyramid = make_pyramid(document)"
      ],
      "execution_count": 7,
      "outputs": [
        {
          "output_type": "display_data",
          "data": {
            "image/png": "[encoded data removed]",
            "text/plain": [
              "<Figure size 432x288 with 1 Axes>"
            ]
          },
          "metadata": {
            "tags": []
          }
        },
        {
          "output_type": "stream",
          "text": [
            "  grade  count\n",
            "0   11b      3\n",
            "1   11a      3\n",
            "2   10d      3\n",
            "3   10c      6\n",
            "4   10b     15\n",
            "5   10a     35\n",
            "\n",
            "\n",
            "\t\ttop 10\n",
            "                       route  grade style lead_style   type\n",
            "1    This Nazi Shit Won't Do   11.3  Lead   Redpoint  Sport\n",
            "168                 Sun Dogs   11.3  Lead    Onsight  Sport\n",
            "167            Space Cowboys   11.3  Lead    Onsight  Sport\n",
            "30            Pistol Whipped   11.0  Lead   Redpoint  Sport\n",
            "154              Jack Jumped   11.0  Lead   Redpoint  Sport\n",
            "169         Starship Trooper   11.0  Lead    Onsight  Sport\n",
            "458    Better Luck Next Time   10.9  Lead    Onsight  Sport\n",
            "111          Tangerine Dream   10.9  Lead   Redpoint  Sport\n",
            "424             Mojave Green   10.8  Lead   Redpoint  Sport\n",
            "421                  X Files   10.6  Lead   Redpoint  Sport\n"
          ],
          "name": "stdout"
        },
        {
          "output_type": "display_data",
          "data": {
            "image/png": "[encoded data removed]",
            "text/plain": [
              "<Figure size 432x288 with 1 Axes>"
            ]
          },
          "metadata": {
            "tags": []
          }
        },
        {
          "output_type": "stream",
          "text": [
            "  grade  count\n",
            "0   10d      1\n",
            "1   10c      2\n",
            "2   10b      8\n",
            "3   10a      8\n",
            "4    9+      6\n",
            "5     9     11\n",
            "\n",
            "\n",
            "\t\ttop 10\n",
            "                                  route  grade style lead_style       type\n",
            "128                           Two Timer   10.9  Lead    Onsight       Trad\n",
            "121                 Heart of the Desert   10.6  Lead    Onsight       Trad\n",
            "143                     Amaretto Corner   10.5  Lead    Onsight       Trad\n",
            "149                            Jojobean   10.4  Lead    Onsight       Trad\n",
            "126  Unnamed II (fingers through fists)   10.4  Lead    Onsight       Trad\n",
            "114                      Stolen Chimney   10.4  Lead    Onsight  Trad, Aid\n",
            "145            Supercrack of the Desert   10.4  Lead    Onsight       Trad\n",
            "147                           Manifesto   10.4  Lead    Onsight       Trad\n",
            "135                           Bar fight   10.4  Lead    Onsight       Trad\n",
            "142                           3AM Crack   10.4  Lead    Onsight       Trad\n"
          ],
          "name": "stdout"
        }
      ]
    },
    {
      "cell_type": "code",
      "metadata": {
        "id": "5ifc4YzO56C1",
        "colab_type": "code",
        "outputId": "4dfaa2ae-c444-4cb2-9ad4-fe870560caf2",
        "colab": {
          "base_uri": "https://localhost:8080/",
          "height": 163
        }
      },
      "source": [
        "trad_combined[trad_combined.grade >= 10]"
      ],
      "execution_count": 7,
      "outputs": [
        {
          "output_type": "error",
          "ename": "NameError",
          "evalue": "ignored",
          "traceback": [
            "\u001b[0;31m---------------------------------------------------------------------------\u001b[0m",
            "\u001b[0;31mNameError\u001b[0m                                 Traceback (most recent call last)",
            "\u001b[0;32m<ipython-input-7-79fd8e13671b>\u001b[0m in \u001b[0;36m<module>\u001b[0;34m()\u001b[0m\n\u001b[0;32m----> 1\u001b[0;31m \u001b[0mtrad_combined\u001b[0m\u001b[0;34m[\u001b[0m\u001b[0mtrad_combined\u001b[0m\u001b[0;34m.\u001b[0m\u001b[0mgrade\u001b[0m \u001b[0;34m>=\u001b[0m \u001b[0;36m10\u001b[0m\u001b[0;34m]\u001b[0m\u001b[0;34m\u001b[0m\u001b[0;34m\u001b[0m\u001b[0m\n\u001b[0m",
            "\u001b[0;31mNameError\u001b[0m: name 'trad_combined' is not defined"
          ]
        }
      ]
    },
    {
      "cell_type": "markdown",
      "metadata": {
        "id": "uuLSgTi1765R",
        "colab_type": "text"
      },
      "source": [
        "## Make suggestions to \"fill out\" pyramid"
      ]
    },
    {
      "cell_type": "code",
      "metadata": {
        "id": "VCw_9R8F7-4R",
        "colab_type": "code",
        "colab": {
          "base_uri": "https://localhost:8080/",
          "height": 235
        },
        "outputId": "8b046f7d-9fa4-4ff1-e396-71ef08b2e98f"
      },
      "source": [
        "# pros are usually 1, 3, 20, 50, 100 (based on 8a.nu)\n",
        "# intermediate maybe 1, 3, 10, 20, 30\n",
        "# 1 2 4 8 12 seems reasonable for a beginner\n",
        "\n",
        "\n",
        "sport_pyramid"
      ],
      "execution_count": 8,
      "outputs": [
        {
          "output_type": "execute_result",
          "data": {
            "text/html": [
              "<div>\n",
              "<style scoped>\n",
              "    .dataframe tbody tr th:only-of-type {\n",
              "        vertical-align: middle;\n",
              "    }\n",
              "\n",
              "    .dataframe tbody tr th {\n",
              "        vertical-align: top;\n",
              "    }\n",
              "\n",
              "    .dataframe thead th {\n",
              "        text-align: right;\n",
              "    }\n",
              "</style>\n",
              "<table border=\"1\" class=\"dataframe\">\n",
              "  <thead>\n",
              "    <tr style=\"text-align: right;\">\n",
              "      <th></th>\n",
              "      <th>grade</th>\n",
              "      <th>count</th>\n",
              "    </tr>\n",
              "  </thead>\n",
              "  <tbody>\n",
              "    <tr>\n",
              "      <th>0</th>\n",
              "      <td>11b</td>\n",
              "      <td>3</td>\n",
              "    </tr>\n",
              "    <tr>\n",
              "      <th>1</th>\n",
              "      <td>11a</td>\n",
              "      <td>3</td>\n",
              "    </tr>\n",
              "    <tr>\n",
              "      <th>2</th>\n",
              "      <td>10d</td>\n",
              "      <td>3</td>\n",
              "    </tr>\n",
              "    <tr>\n",
              "      <th>3</th>\n",
              "      <td>10c</td>\n",
              "      <td>6</td>\n",
              "    </tr>\n",
              "    <tr>\n",
              "      <th>4</th>\n",
              "      <td>10b</td>\n",
              "      <td>15</td>\n",
              "    </tr>\n",
              "    <tr>\n",
              "      <th>5</th>\n",
              "      <td>10a</td>\n",
              "      <td>35</td>\n",
              "    </tr>\n",
              "  </tbody>\n",
              "</table>\n",
              "</div>"
            ],
            "text/plain": [
              "  grade  count\n",
              "0   11b      3\n",
              "1   11a      3\n",
              "2   10d      3\n",
              "3   10c      6\n",
              "4   10b     15\n",
              "5   10a     35"
            ]
          },
          "metadata": {
            "tags": []
          },
          "execution_count": 8
        }
      ]
    },
    {
      "cell_type": "code",
      "metadata": {
        "id": "Vg9Um5knESfY",
        "colab_type": "code",
        "colab": {}
      },
      "source": [
        "grades_list = '0 1 2 3 4 5 6 7 7+ 8- 8 8+ 9- 9 9+'.split()\n",
        "\n",
        "nums = '10 11 12 13 14 15'.split()\n",
        "lets =  list('abcd')\n",
        "for i in nums:\n",
        "  for j in lets:\n",
        "    grades_list.append(i+j)\n",
        "\n",
        "def suggest_pyramid(pyramid):\n",
        "  scheme = [2,4,8,12]\n",
        "  pyramid_copy = pyramid.copy().iloc[0:4]\n",
        "  pyramid_copy['ideal_count'] = scheme\n",
        "  print(pyramid_copy)\n",
        "  cols = pyramid_copy.columns\n",
        "  top_layer = [grades_list[grades_list.index(pyramid.grade[0]) + 1], 0, 1] # [x, 0, 0] where x is the next higher grade (eg. if 11a is max grade then x is 11b)\n",
        "  top_layer = dict(zip(cols,top_layer))\n",
        "  top_layer = pd.DataFrame(top_layer, index=[0])\n",
        "  pyramid_copy = pd.concat([top_layer, pyramid_copy]).reset_index(drop = True)\n",
        "  pyramid_copy['todo'] = pyramid_copy.ideal_count - pyramid_copy['count']\n",
        "  print(pyramid_copy)\n",
        "  pyramid_copy.todo = pyramid_copy.todo.apply(lambda x: 0 if (x < 1) else x)\n",
        "  print(pyramid_copy)"
      ],
      "execution_count": 0,
      "outputs": []
    },
    {
      "cell_type": "code",
      "metadata": {
        "id": "ScS5thQJEaNt",
        "colab_type": "code",
        "colab": {
          "base_uri": "https://localhost:8080/",
          "height": 306
        },
        "outputId": "82b18a63-9071-4c3f-ce03-30db5ee3cb34"
      },
      "source": [
        "suggest_pyramid(sport_pyramid)"
      ],
      "execution_count": 58,
      "outputs": [
        {
          "output_type": "stream",
          "text": [
            "  grade  count  ideal_count\n",
            "0   11b      3            2\n",
            "1   11a      3            4\n",
            "2   10d      3            8\n",
            "3   10c      6           12\n",
            "  grade  count  ideal_count  todo\n",
            "0   11c      0            1     1\n",
            "1   11b      3            2    -1\n",
            "2   11a      3            4     1\n",
            "3   10d      3            8     5\n",
            "4   10c      6           12     6\n",
            "  grade  count  ideal_count  todo\n",
            "0   11c      0            1     1\n",
            "1   11b      3            2     0\n",
            "2   11a      3            4     1\n",
            "3   10d      3            8     5\n",
            "4   10c      6           12     6\n"
          ],
          "name": "stdout"
        }
      ]
    },
    {
      "cell_type": "code",
      "metadata": {
        "id": "8tcYmaYKC7_n",
        "colab_type": "code",
        "colab": {}
      },
      "source": [
        "## Scraping to make reccomendations\n",
        "from bs4 import BeautifulSoup\n",
        "import requests\n",
        "\n",
        "url  = \"https://www.mountainproject.com/area/classics/105865045/new-jack-city\""
      ],
      "execution_count": 0,
      "outputs": []
    },
    {
      "cell_type": "code",
      "metadata": {
        "id": "YK5BCNO-afkC",
        "colab_type": "code",
        "colab": {
          "base_uri": "https://localhost:8080/",
          "height": 419
        },
        "outputId": "72be1abc-f9bd-46b2-b7a6-155287c8097a"
      },
      "source": [
        "table"
      ],
      "execution_count": 47,
      "outputs": [
        {
          "output_type": "execute_result",
          "data": {
            "text/html": [
              "<div>\n",
              "<style scoped>\n",
              "    .dataframe tbody tr th:only-of-type {\n",
              "        vertical-align: middle;\n",
              "    }\n",
              "\n",
              "    .dataframe tbody tr th {\n",
              "        vertical-align: top;\n",
              "    }\n",
              "\n",
              "    .dataframe thead th {\n",
              "        text-align: right;\n",
              "    }\n",
              "</style>\n",
              "<table border=\"1\" class=\"dataframe\">\n",
              "  <thead>\n",
              "    <tr style=\"text-align: right;\">\n",
              "      <th></th>\n",
              "      <th>Route Name</th>\n",
              "      <th>Location</th>\n",
              "      <th>Star Rating</th>\n",
              "      <th>Difficulty</th>\n",
              "      <th>Date</th>\n",
              "    </tr>\n",
              "  </thead>\n",
              "  <tbody>\n",
              "    <tr>\n",
              "      <th>0</th>\n",
              "      <td>●  Slash X</td>\n",
              "      <td>Box Canyon East  &gt; Slash X boulder</td>\n",
              "      <td>7</td>\n",
              "      <td>V6- 7A  Boulder</td>\n",
              "      <td>NaN</td>\n",
              "    </tr>\n",
              "    <tr>\n",
              "      <th>1</th>\n",
              "      <td>●  Love Potion #9</td>\n",
              "      <td>Entrance Area C…  &gt; Valentine Wall</td>\n",
              "      <td>31</td>\n",
              "      <td>5.7 5a 15 V+ 13 MVS 4b  Sport</td>\n",
              "      <td>NaN</td>\n",
              "    </tr>\n",
              "    <tr>\n",
              "      <th>2</th>\n",
              "      <td>●  Custom Tailored</td>\n",
              "      <td>Box Canyon East  &gt; Raven Rocks  &gt; Raven Rocks ...</td>\n",
              "      <td>106</td>\n",
              "      <td>5.7 5a 15 V+ 13 MVS 4b  Sport</td>\n",
              "      <td>NaN</td>\n",
              "    </tr>\n",
              "    <tr>\n",
              "      <th>3</th>\n",
              "      <td>●  Ivy Alice</td>\n",
              "      <td>Box Canyon East  &gt; Boy Scout Wall</td>\n",
              "      <td>59</td>\n",
              "      <td>5.7 5a 15 V+ 13 MVS 4b  Sport</td>\n",
              "      <td>NaN</td>\n",
              "    </tr>\n",
              "    <tr>\n",
              "      <th>4</th>\n",
              "      <td>●  Indirect Action</td>\n",
              "      <td>Box Canyon East  &gt; Indirect Crag</td>\n",
              "      <td>35</td>\n",
              "      <td>5.7 5a 15 V+ 13 MVS 4b  Sport</td>\n",
              "      <td>NaN</td>\n",
              "    </tr>\n",
              "    <tr>\n",
              "      <th>...</th>\n",
              "      <td>...</td>\n",
              "      <td>...</td>\n",
              "      <td>...</td>\n",
              "      <td>...</td>\n",
              "      <td>...</td>\n",
              "    </tr>\n",
              "    <tr>\n",
              "      <th>95</th>\n",
              "      <td>●  Lethal Weapon</td>\n",
              "      <td>Box Canyon East  &gt; Lethal Rock</td>\n",
              "      <td>7</td>\n",
              "      <td>5.12c 7b+ 27 IX- 27 E6 6b  Sport</td>\n",
              "      <td>NaN</td>\n",
              "    </tr>\n",
              "    <tr>\n",
              "      <th>96</th>\n",
              "      <td>●  Hallraker</td>\n",
              "      <td>Box Canyon West  &gt; Predator Wall  &gt; Predator W...</td>\n",
              "      <td>4</td>\n",
              "      <td>5.12d 7c 28 IX 28 E6 6b  Sport</td>\n",
              "      <td>NaN</td>\n",
              "    </tr>\n",
              "    <tr>\n",
              "      <th>97</th>\n",
              "      <td>●  The DX</td>\n",
              "      <td>Box Canyon West  &gt; Scott Cosgrove Memori…</td>\n",
              "      <td>9</td>\n",
              "      <td>5.12d 7c 28 IX 28 E6 6b  Sport</td>\n",
              "      <td>NaN</td>\n",
              "    </tr>\n",
              "    <tr>\n",
              "      <th>98</th>\n",
              "      <td>●  Ride The Wild</td>\n",
              "      <td>Box Canyon West  &gt; Arch Rocks</td>\n",
              "      <td>7</td>\n",
              "      <td>5.12d 7c 28 IX 28 E6 6b  Sport</td>\n",
              "      <td>NaN</td>\n",
              "    </tr>\n",
              "    <tr>\n",
              "      <th>99</th>\n",
              "      <td>●  The Travesty</td>\n",
              "      <td>Box Canyon West  &gt; Arch Rocks</td>\n",
              "      <td>10</td>\n",
              "      <td>5.13a 7c+ 29 IX+ 29 E6 6c  Sport</td>\n",
              "      <td>NaN</td>\n",
              "    </tr>\n",
              "  </tbody>\n",
              "</table>\n",
              "<p>100 rows × 5 columns</p>\n",
              "</div>"
            ],
            "text/plain": [
              "            Route Name  ... Date\n",
              "0           ●  Slash X  ...  NaN\n",
              "1    ●  Love Potion #9  ...  NaN\n",
              "2   ●  Custom Tailored  ...  NaN\n",
              "3         ●  Ivy Alice  ...  NaN\n",
              "4   ●  Indirect Action  ...  NaN\n",
              "..                 ...  ...  ...\n",
              "95    ●  Lethal Weapon  ...  NaN\n",
              "96        ●  Hallraker  ...  NaN\n",
              "97           ●  The DX  ...  NaN\n",
              "98    ●  Ride The Wild  ...  NaN\n",
              "99     ●  The Travesty  ...  NaN\n",
              "\n",
              "[100 rows x 5 columns]"
            ]
          },
          "metadata": {
            "tags": []
          },
          "execution_count": 47
        }
      ]
    },
    {
      "cell_type": "code",
      "metadata": {
        "id": "lU0-8ClWLRi8",
        "colab_type": "code",
        "colab": {
          "base_uri": "https://localhost:8080/",
          "height": 221
        },
        "outputId": "959479c2-ab95-4d0f-9ea9-232ab8a1f776"
      },
      "source": [
        "import pandas as pd\n",
        "table = pd.read_html(url)[1]\n",
        "table\n",
        "grades = table.Difficulty.apply(lambda x: x.split()[0])   # HAVE TO CONVERT TO LETTER GRADE ? :[\n",
        "grades\n",
        "routes = table['Route Name'].apply(lambda x: ' '.join(x.split()[1:]))\n",
        "routes\n"
      ],
      "execution_count": 49,
      "outputs": [
        {
          "output_type": "execute_result",
          "data": {
            "text/plain": [
              "0             Slash X\n",
              "1      Love Potion #9\n",
              "2     Custom Tailored\n",
              "3           Ivy Alice\n",
              "4     Indirect Action\n",
              "           ...       \n",
              "95      Lethal Weapon\n",
              "96          Hallraker\n",
              "97             The DX\n",
              "98      Ride The Wild\n",
              "99       The Travesty\n",
              "Name: Route Name, Length: 100, dtype: object"
            ]
          },
          "metadata": {
            "tags": []
          },
          "execution_count": 49
        }
      ]
    },
    {
      "cell_type": "code",
      "metadata": {
        "id": "Pf9O89kXMtJT",
        "colab_type": "code",
        "colab": {
          "base_uri": "https://localhost:8080/",
          "height": 419
        },
        "outputId": "12fe6efd-6fb4-480f-d126-8f7be3c805ea"
      },
      "source": [
        "table[1]"
      ],
      "execution_count": 29,
      "outputs": [
        {
          "output_type": "execute_result",
          "data": {
            "text/html": [
              "<div>\n",
              "<style scoped>\n",
              "    .dataframe tbody tr th:only-of-type {\n",
              "        vertical-align: middle;\n",
              "    }\n",
              "\n",
              "    .dataframe tbody tr th {\n",
              "        vertical-align: top;\n",
              "    }\n",
              "\n",
              "    .dataframe thead th {\n",
              "        text-align: right;\n",
              "    }\n",
              "</style>\n",
              "<table border=\"1\" class=\"dataframe\">\n",
              "  <thead>\n",
              "    <tr style=\"text-align: right;\">\n",
              "      <th></th>\n",
              "      <th>Route Name</th>\n",
              "      <th>Location</th>\n",
              "      <th>Star Rating</th>\n",
              "      <th>Difficulty</th>\n",
              "      <th>Date</th>\n",
              "    </tr>\n",
              "  </thead>\n",
              "  <tbody>\n",
              "    <tr>\n",
              "      <th>0</th>\n",
              "      <td>●  Slash X</td>\n",
              "      <td>Box Canyon East  &gt; Slash X boulder</td>\n",
              "      <td>7</td>\n",
              "      <td>V6- 7A  Boulder</td>\n",
              "      <td>NaN</td>\n",
              "    </tr>\n",
              "    <tr>\n",
              "      <th>1</th>\n",
              "      <td>●  Love Potion #9</td>\n",
              "      <td>Entrance Area C…  &gt; Valentine Wall</td>\n",
              "      <td>31</td>\n",
              "      <td>5.7 5a 15 V+ 13 MVS 4b  Sport</td>\n",
              "      <td>NaN</td>\n",
              "    </tr>\n",
              "    <tr>\n",
              "      <th>2</th>\n",
              "      <td>●  Custom Tailored</td>\n",
              "      <td>Box Canyon East  &gt; Raven Rocks  &gt; Raven Rocks ...</td>\n",
              "      <td>106</td>\n",
              "      <td>5.7 5a 15 V+ 13 MVS 4b  Sport</td>\n",
              "      <td>NaN</td>\n",
              "    </tr>\n",
              "    <tr>\n",
              "      <th>3</th>\n",
              "      <td>●  Ivy Alice</td>\n",
              "      <td>Box Canyon East  &gt; Boy Scout Wall</td>\n",
              "      <td>59</td>\n",
              "      <td>5.7 5a 15 V+ 13 MVS 4b  Sport</td>\n",
              "      <td>NaN</td>\n",
              "    </tr>\n",
              "    <tr>\n",
              "      <th>4</th>\n",
              "      <td>●  Indirect Action</td>\n",
              "      <td>Box Canyon East  &gt; Indirect Crag</td>\n",
              "      <td>35</td>\n",
              "      <td>5.7 5a 15 V+ 13 MVS 4b  Sport</td>\n",
              "      <td>NaN</td>\n",
              "    </tr>\n",
              "    <tr>\n",
              "      <th>...</th>\n",
              "      <td>...</td>\n",
              "      <td>...</td>\n",
              "      <td>...</td>\n",
              "      <td>...</td>\n",
              "      <td>...</td>\n",
              "    </tr>\n",
              "    <tr>\n",
              "      <th>95</th>\n",
              "      <td>●  Lethal Weapon</td>\n",
              "      <td>Box Canyon East  &gt; Lethal Rock</td>\n",
              "      <td>7</td>\n",
              "      <td>5.12c 7b+ 27 IX- 27 E6 6b  Sport</td>\n",
              "      <td>NaN</td>\n",
              "    </tr>\n",
              "    <tr>\n",
              "      <th>96</th>\n",
              "      <td>●  Hallraker</td>\n",
              "      <td>Box Canyon West  &gt; Predator Wall  &gt; Predator W...</td>\n",
              "      <td>4</td>\n",
              "      <td>5.12d 7c 28 IX 28 E6 6b  Sport</td>\n",
              "      <td>NaN</td>\n",
              "    </tr>\n",
              "    <tr>\n",
              "      <th>97</th>\n",
              "      <td>●  The DX</td>\n",
              "      <td>Box Canyon West  &gt; Scott Cosgrove Memori…</td>\n",
              "      <td>9</td>\n",
              "      <td>5.12d 7c 28 IX 28 E6 6b  Sport</td>\n",
              "      <td>NaN</td>\n",
              "    </tr>\n",
              "    <tr>\n",
              "      <th>98</th>\n",
              "      <td>●  Ride The Wild</td>\n",
              "      <td>Box Canyon West  &gt; Arch Rocks</td>\n",
              "      <td>7</td>\n",
              "      <td>5.12d 7c 28 IX 28 E6 6b  Sport</td>\n",
              "      <td>NaN</td>\n",
              "    </tr>\n",
              "    <tr>\n",
              "      <th>99</th>\n",
              "      <td>●  The Travesty</td>\n",
              "      <td>Box Canyon West  &gt; Arch Rocks</td>\n",
              "      <td>10</td>\n",
              "      <td>5.13a 7c+ 29 IX+ 29 E6 6c  Sport</td>\n",
              "      <td>NaN</td>\n",
              "    </tr>\n",
              "  </tbody>\n",
              "</table>\n",
              "<p>100 rows × 5 columns</p>\n",
              "</div>"
            ],
            "text/plain": [
              "            Route Name  ... Date\n",
              "0           ●  Slash X  ...  NaN\n",
              "1    ●  Love Potion #9  ...  NaN\n",
              "2   ●  Custom Tailored  ...  NaN\n",
              "3         ●  Ivy Alice  ...  NaN\n",
              "4   ●  Indirect Action  ...  NaN\n",
              "..                 ...  ...  ...\n",
              "95    ●  Lethal Weapon  ...  NaN\n",
              "96        ●  Hallraker  ...  NaN\n",
              "97           ●  The DX  ...  NaN\n",
              "98    ●  Ride The Wild  ...  NaN\n",
              "99     ●  The Travesty  ...  NaN\n",
              "\n",
              "[100 rows x 5 columns]"
            ]
          },
          "metadata": {
            "tags": []
          },
          "execution_count": 29
        }
      ]
    },
    {
      "cell_type": "code",
      "metadata": {
        "id": "4TE7FhTMJw1P",
        "colab_type": "code",
        "colab": {
          "base_uri": "https://localhost:8080/",
          "height": 51
        },
        "outputId": "11e8e94a-dc7d-46da-b45d-80d5e9decc27"
      },
      "source": [
        "table.apply(lambda x: '●'.split(str(x)))"
      ],
      "execution_count": 20,
      "outputs": [
        {
          "output_type": "execute_result",
          "data": {
            "text/plain": [
              "0    [●]\n",
              "dtype: object"
            ]
          },
          "metadata": {
            "tags": []
          },
          "execution_count": 20
        }
      ]
    },
    {
      "cell_type": "code",
      "metadata": {
        "id": "klAiNi2ULxEE",
        "colab_type": "code",
        "colab": {
          "base_uri": "https://localhost:8080/",
          "height": 289
        },
        "outputId": "96ea6f69-6219-4a5f-8d91-337246d3b45f"
      },
      "source": [
        "str(table.iloc[0]).split()"
      ],
      "execution_count": 22,
      "outputs": [
        {
          "output_type": "execute_result",
          "data": {
            "text/plain": [
              "['0',\n",
              " 'V6-',\n",
              " '7A',\n",
              " '7',\n",
              " '●',\n",
              " 'Slash',\n",
              " 'X',\n",
              " 'Boulder',\n",
              " 'Box',\n",
              " 'Canyon',\n",
              " 'East',\n",
              " '...',\n",
              " 'Name:',\n",
              " '0,',\n",
              " 'dtype:',\n",
              " 'object']"
            ]
          },
          "metadata": {
            "tags": []
          },
          "execution_count": 22
        }
      ]
    },
    {
      "cell_type": "code",
      "metadata": {
        "id": "kRCWC84eLydj",
        "colab_type": "code",
        "colab": {}
      },
      "source": [
        ""
      ],
      "execution_count": 0,
      "outputs": []
    }
  ]
}