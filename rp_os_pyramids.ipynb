{
  "nbformat": 4,
  "nbformat_minor": 0,
  "metadata": {
    "colab": {
      "name": "rp_os_pyramids.ipynb",
      "provenance": [],
      "collapsed_sections": [],
      "include_colab_link": true
    },
    "kernelspec": {
      "name": "python3",
      "display_name": "Python 3"
    }
  },
  "cells": [
    {
      "cell_type": "markdown",
      "metadata": {
        "id": "view-in-github",
        "colab_type": "text"
      },
      "source": [
        "<a href=\"https://colab.research.google.com/github/Tclack88/MountainProject/blob/master/rp_os_pyramids.ipynb\" target=\"_parent\"><img src=\"https://colab.research.google.com/assets/colab-badge.svg\" alt=\"Open In Colab\"/></a>"
      ]
    },
    {
      "cell_type": "markdown",
      "metadata": {
        "id": "6VlLwOX4lTkv"
      },
      "source": [
        "# Redpoint/Onsight ladders"
      ]
    },
    {
      "cell_type": "code",
      "metadata": {
        "id": "Uzj-wV58AInN"
      },
      "source": [
        "# Person being considered\n",
        "\n",
        "# document = \"https://www.mountainproject.com/user/109791883/trevor-clack/tick-export\"\n",
        "document = \"https://www.mountainproject.com/user/110296901/morgan-f/tick-export\""
      ],
      "execution_count": null,
      "outputs": []
    },
    {
      "cell_type": "code",
      "metadata": {
        "id": "jh1GkF2MlwNx"
      },
      "source": [
        "import pandas as pd\n",
        "import numpy as np\n",
        "from math import floor\n",
        "from datetime import datetime as dt\n",
        "import seaborn as sb\n",
        "import matplotlib.pyplot as plt\n",
        "sb.set(style='whitegrid')"
      ],
      "execution_count": null,
      "outputs": []
    },
    {
      "cell_type": "code",
      "metadata": {
        "id": "OKNxUUODmKva"
      },
      "source": [
        "# Get Grade for conversion (from Mountain Project's official grade converter)\n",
        "grade_chart = pd.read_html(\"https://www.mountainproject.com/international-climbing-grades\")\n",
        "old_ropes = grade_chart[0].YDSUSA[:-1].to_list()\n",
        "new_ropes = [0,0,0,0,1,2,3,4,5,6,7,7.4,8,8.4,8.8,9,9.4,9.8]+list(np.round(np.arange(10,16,.1),1))\n",
        "ropes_convert = dict(zip(old_ropes,new_ropes))"
      ],
      "execution_count": null,
      "outputs": []
    },
    {
      "cell_type": "code",
      "metadata": {
        "id": "Uxj0kxSHEzTs"
      },
      "source": [
        "# Supporting functions for clean and prep pipeline\n",
        "def clean_grade(grade):\n",
        "  grade = str(grade).split()[0]\n",
        "  if grade[0] == '5':\n",
        "    grade = ropes_convert[grade]\n",
        "    return grade\n",
        "\n",
        "def x_round(x):\n",
        "  \"\"\" rounds down to nearest .25\n",
        "  eg. x_round(11.49) = 11.25, x_round(11.51) = 11.5\n",
        "  \"\"\"\n",
        "  if x >= 10:\n",
        "    return floor(x*4)/4\n",
        "  else: return x\n",
        "\n",
        "\n",
        "# Rounding Key example:\n",
        "\n",
        "# 10a, 10-, 10a/b  -> 10a\n",
        "# 10b, 10          -> 10b\n",
        "# 10b/c, 10c, 10+  -> 10c\n",
        "# 10c/d, 10d       -> 10d\n",
        "\n",
        "# def grade_to_number(grade):\n",
        "#   letter_map = {'a':'.0', 'b':'.25', 'c':'.5', 'd':'.75', '-':'.0', '+':'.8'}\n",
        "#   if grade[-1].isnumeric() == False:\n",
        "#     grade = grade[:-1] + letter_map[grade[-1]]\n",
        "#     print(grade)\n",
        "#   else:\n",
        "#     grade += '.4'\n",
        "#     print(grade)\n",
        "\n",
        "\n",
        "def grade_to_letter(grade):\n",
        "  letter_map = {'.0':'a', '.25':'b', '.5':'c', '.75':'d'}\n",
        "  letter_map_low = {'.0':'-', '.4':'', '.8':'+'}\n",
        "  if grade >= 10:\n",
        "    grade = str(grade)\n",
        "    grade = grade[:2] + letter_map[grade[2:]]\n",
        "    return grade\n",
        "  else:\n",
        "    grade = str(grade)\n",
        "    grade = grade[:1] + letter_map_low[grade[1:]]\n",
        "    return grade\n"
      ],
      "execution_count": null,
      "outputs": []
    },
    {
      "cell_type": "code",
      "metadata": {
        "id": "0og2L_rnVnYI",
        "colab": {
          "base_uri": "https://localhost:8080/",
          "height": 913
        },
        "outputId": "77e4fb49-6927-4e9e-b144-76ba0084c5c2"
      },
      "source": [
        "climber = document.split('/')[-2].replace('-',' ').title()\n",
        "date = dt.now().strftime('%-d%b%Y')\n",
        "data = pd.read_csv(document)\n",
        "data = data[['Route', 'Rating', 'Style', 'Lead Style', 'Route Type']]\n",
        "data = data.rename(columns = (dict(zip(data.columns,['route', 'grade', 'style', 'lead_style', 'type']))))\n",
        "data.grade = data.grade.apply(clean_grade)\n",
        "data = data[data['style'] == 'Lead']\n",
        "# Split Trad and Sport data\n",
        "trad = data[(data['type'] == 'Trad') | (data['type'] == 'Trad, Sport') | (data['type'] == 'Trad, Alpine') | (data['type'] == 'Trad, Aid')]\n",
        "sport = data[(data['type'] == 'Sport') | (data['type'] == 'Sport, TR')]\n",
        "trad_rp = trad[trad.lead_style == 'Redpoint']\n",
        "trad_os = trad[trad.lead_style == 'Onsight']\n",
        "trad_os.grade.apply(x_round).value_counts().sort_index(ascending=False)\n",
        "sport_rp = sport[sport.lead_style == 'Redpoint']\n",
        "sport_os = sport[sport.lead_style == 'Onsight']\n",
        "\n",
        "\n",
        "styles = [sport_os, sport_rp, trad_os, trad_rp]\n",
        "\n",
        "for style in styles:\n",
        "  if not style.empty:\n",
        "    title = f\"{climber}\\n{style.iloc[0]['type'].split(',')[0]} {style.iloc[0].lead_style} pyramid \\n{date}\\n\"\n",
        "    top_pyramid = style.grade.apply(x_round).value_counts().sort_index(ascending=False).iloc[:6].reset_index()\n",
        "    top_pyramid.columns = ('grade','count')\n",
        "    top_pyramid.grade = top_pyramid.grade.apply(grade_to_letter)\n",
        "    sb.barplot(y='grade', x='count', data=top_pyramid, color='green')\n",
        "    plt.title(title)\n",
        "    plt.show()\n",
        "    print(top_pyramid)\n",
        "\n"
      ],
      "execution_count": null,
      "outputs": [
        {
          "output_type": "display_data",
          "data": {
            "image/png": "[encoded data removed]",
            "text/plain": [
              "<Figure size 432x288 with 1 Axes>"
            ]
          },
          "metadata": {
            "tags": []
          }
        },
        {
          "output_type": "stream",
          "text": [
            "  grade  count\n",
            "0   11a      1\n",
            "1   10c      2\n",
            "2   10b      2\n",
            "3   10a      5\n",
            "4     9      3\n",
            "5    8+      1\n"
          ],
          "name": "stdout"
        },
        {
          "output_type": "display_data",
          "data": {
            "image/png": "[encoded data removed]",
            "text/plain": [
              "<Figure size 432x288 with 1 Axes>"
            ]
          },
          "metadata": {
            "tags": []
          }
        },
        {
          "output_type": "stream",
          "text": [
            "  grade  count\n",
            "0   10c      1\n",
            "1   10b      1\n",
            "2   10a      2\n",
            "3    9+      1\n",
            "4     9      8\n",
            "5     8      2\n"
          ],
          "name": "stdout"
        }
      ]
    },
    {
      "cell_type": "code",
      "metadata": {
        "id": "La5M4joaNXl5",
        "colab": {
          "base_uri": "https://localhost:8080/",
          "height": 1000
        },
        "outputId": "d4262719-a742-498c-e86a-37194e1c9475"
      },
      "source": [
        "successful_climbs = data[(data.lead_style == 'Redpoint') | (data.lead_style =='Onsight')]\n",
        "successful_climbs.grade = successful_climbs.grade.apply(lambda x: grade_to_letter(x_round(x)))\n",
        "successful_climbs_stack = successful_climbs[['grade','route']]\n",
        "successful_climbs_stack"
      ],
      "execution_count": null,
      "outputs": [
        {
          "output_type": "stream",
          "text": [
            "/usr/local/lib/python3.6/dist-packages/pandas/core/generic.py:5208: SettingWithCopyWarning: \n",
            "A value is trying to be set on a copy of a slice from a DataFrame.\n",
            "Try using .loc[row_indexer,col_indexer] = value instead\n",
            "\n",
            "See the caveats in the documentation: http://pandas.pydata.org/pandas-docs/stable/user_guide/indexing.html#returning-a-view-versus-a-copy\n",
            "  self[name] = value\n"
          ],
          "name": "stderr"
        },
        {
          "output_type": "execute_result",
          "data": {
            "text/html": [
              "<div>\n",
              "<style scoped>\n",
              "    .dataframe tbody tr th:only-of-type {\n",
              "        vertical-align: middle;\n",
              "    }\n",
              "\n",
              "    .dataframe tbody tr th {\n",
              "        vertical-align: top;\n",
              "    }\n",
              "\n",
              "    .dataframe thead th {\n",
              "        text-align: right;\n",
              "    }\n",
              "</style>\n",
              "<table border=\"1\" class=\"dataframe\">\n",
              "  <thead>\n",
              "    <tr style=\"text-align: right;\">\n",
              "      <th></th>\n",
              "      <th>grade</th>\n",
              "      <th>route</th>\n",
              "    </tr>\n",
              "  </thead>\n",
              "  <tbody>\n",
              "    <tr>\n",
              "      <th>1</th>\n",
              "      <td>10a</td>\n",
              "      <td>Little Red Book</td>\n",
              "    </tr>\n",
              "    <tr>\n",
              "      <th>2</th>\n",
              "      <td>10a</td>\n",
              "      <td>Easy Prey</td>\n",
              "    </tr>\n",
              "    <tr>\n",
              "      <th>3</th>\n",
              "      <td>11a</td>\n",
              "      <td>Hole In One</td>\n",
              "    </tr>\n",
              "    <tr>\n",
              "      <th>4</th>\n",
              "      <td>10a</td>\n",
              "      <td>Dream of Wild Turkeys</td>\n",
              "    </tr>\n",
              "    <tr>\n",
              "      <th>5</th>\n",
              "      <td>10b</td>\n",
              "      <td>Stolen Chimney</td>\n",
              "    </tr>\n",
              "    <tr>\n",
              "      <th>18</th>\n",
              "      <td>9</td>\n",
              "      <td>Crooked Dick Spire</td>\n",
              "    </tr>\n",
              "    <tr>\n",
              "      <th>19</th>\n",
              "      <td>10a</td>\n",
              "      <td>Holey Moley</td>\n",
              "    </tr>\n",
              "    <tr>\n",
              "      <th>24</th>\n",
              "      <td>10b</td>\n",
              "      <td>Ants Go Marching</td>\n",
              "    </tr>\n",
              "    <tr>\n",
              "      <th>27</th>\n",
              "      <td>9</td>\n",
              "      <td>Crag Rat</td>\n",
              "    </tr>\n",
              "    <tr>\n",
              "      <th>28</th>\n",
              "      <td>9</td>\n",
              "      <td>The Squamish Butt Face</td>\n",
              "    </tr>\n",
              "    <tr>\n",
              "      <th>29</th>\n",
              "      <td>10c</td>\n",
              "      <td>The Squamish Buttress</td>\n",
              "    </tr>\n",
              "    <tr>\n",
              "      <th>30</th>\n",
              "      <td>9</td>\n",
              "      <td>Memorial Crack</td>\n",
              "    </tr>\n",
              "    <tr>\n",
              "      <th>31</th>\n",
              "      <td>9</td>\n",
              "      <td>St. Vitus' Dance</td>\n",
              "    </tr>\n",
              "    <tr>\n",
              "      <th>34</th>\n",
              "      <td>10a</td>\n",
              "      <td>El Camino Real</td>\n",
              "    </tr>\n",
              "    <tr>\n",
              "      <th>35</th>\n",
              "      <td>7</td>\n",
              "      <td>Piton Pooper</td>\n",
              "    </tr>\n",
              "    <tr>\n",
              "      <th>36</th>\n",
              "      <td>9</td>\n",
              "      <td>Dave's Deviation</td>\n",
              "    </tr>\n",
              "    <tr>\n",
              "      <th>40</th>\n",
              "      <td>7</td>\n",
              "      <td>Bumpy</td>\n",
              "    </tr>\n",
              "    <tr>\n",
              "      <th>42</th>\n",
              "      <td>9</td>\n",
              "      <td>Sexy Grandma</td>\n",
              "    </tr>\n",
              "    <tr>\n",
              "      <th>44</th>\n",
              "      <td>7-</td>\n",
              "      <td>Toe Jam</td>\n",
              "    </tr>\n",
              "    <tr>\n",
              "      <th>45</th>\n",
              "      <td>7-</td>\n",
              "      <td>Dihedral</td>\n",
              "    </tr>\n",
              "    <tr>\n",
              "      <th>46</th>\n",
              "      <td>8</td>\n",
              "      <td>Hawk-Eye Surveillance</td>\n",
              "    </tr>\n",
              "    <tr>\n",
              "      <th>47</th>\n",
              "      <td>9</td>\n",
              "      <td>Bad Sportsmanship</td>\n",
              "    </tr>\n",
              "    <tr>\n",
              "      <th>48</th>\n",
              "      <td>10b</td>\n",
              "      <td>Hubble</td>\n",
              "    </tr>\n",
              "    <tr>\n",
              "      <th>51</th>\n",
              "      <td>10c</td>\n",
              "      <td>Lost Orbit</td>\n",
              "    </tr>\n",
              "    <tr>\n",
              "      <th>55</th>\n",
              "      <td>9+</td>\n",
              "      <td>Igor Unchained</td>\n",
              "    </tr>\n",
              "    <tr>\n",
              "      <th>59</th>\n",
              "      <td>6-</td>\n",
              "      <td>Graham Crackers</td>\n",
              "    </tr>\n",
              "    <tr>\n",
              "      <th>60</th>\n",
              "      <td>9</td>\n",
              "      <td>Whodunit</td>\n",
              "    </tr>\n",
              "    <tr>\n",
              "      <th>61</th>\n",
              "      <td>4-</td>\n",
              "      <td>Fingertip Traverse</td>\n",
              "    </tr>\n",
              "    <tr>\n",
              "      <th>66</th>\n",
              "      <td>9</td>\n",
              "      <td>Serpentine</td>\n",
              "    </tr>\n",
              "    <tr>\n",
              "      <th>68</th>\n",
              "      <td>10c</td>\n",
              "      <td>One-Eyed Jack</td>\n",
              "    </tr>\n",
              "    <tr>\n",
              "      <th>69</th>\n",
              "      <td>10a</td>\n",
              "      <td>Easy Prey</td>\n",
              "    </tr>\n",
              "    <tr>\n",
              "      <th>73</th>\n",
              "      <td>10a</td>\n",
              "      <td>Change of Scene</td>\n",
              "    </tr>\n",
              "    <tr>\n",
              "      <th>74</th>\n",
              "      <td>5-</td>\n",
              "      <td>Husker</td>\n",
              "    </tr>\n",
              "    <tr>\n",
              "      <th>75</th>\n",
              "      <td>6-</td>\n",
              "      <td>Fools Gold</td>\n",
              "    </tr>\n",
              "    <tr>\n",
              "      <th>76</th>\n",
              "      <td>9</td>\n",
              "      <td>Epinephrine</td>\n",
              "    </tr>\n",
              "    <tr>\n",
              "      <th>79</th>\n",
              "      <td>8</td>\n",
              "      <td>Traitor Horn</td>\n",
              "    </tr>\n",
              "    <tr>\n",
              "      <th>80</th>\n",
              "      <td>8</td>\n",
              "      <td>Coffin Nail</td>\n",
              "    </tr>\n",
              "    <tr>\n",
              "      <th>81</th>\n",
              "      <td>7-</td>\n",
              "      <td>Fingertrip</td>\n",
              "    </tr>\n",
              "    <tr>\n",
              "      <th>82</th>\n",
              "      <td>6-</td>\n",
              "      <td>Left Ski Track</td>\n",
              "    </tr>\n",
              "    <tr>\n",
              "      <th>84</th>\n",
              "      <td>6-</td>\n",
              "      <td>Angel's Fright</td>\n",
              "    </tr>\n",
              "    <tr>\n",
              "      <th>105</th>\n",
              "      <td>8+</td>\n",
              "      <td>Serpentine</td>\n",
              "    </tr>\n",
              "    <tr>\n",
              "      <th>109</th>\n",
              "      <td>8</td>\n",
              "      <td>Super Soul Slab</td>\n",
              "    </tr>\n",
              "  </tbody>\n",
              "</table>\n",
              "</div>"
            ],
            "text/plain": [
              "    grade                   route\n",
              "1     10a         Little Red Book\n",
              "2     10a               Easy Prey\n",
              "3     11a             Hole In One\n",
              "4     10a   Dream of Wild Turkeys\n",
              "5     10b          Stolen Chimney\n",
              "18      9      Crooked Dick Spire\n",
              "19    10a             Holey Moley\n",
              "24    10b        Ants Go Marching\n",
              "27      9                Crag Rat\n",
              "28      9  The Squamish Butt Face\n",
              "29    10c   The Squamish Buttress\n",
              "30      9          Memorial Crack\n",
              "31      9        St. Vitus' Dance\n",
              "34    10a          El Camino Real\n",
              "35      7            Piton Pooper\n",
              "36      9        Dave's Deviation\n",
              "40      7                   Bumpy\n",
              "42      9            Sexy Grandma\n",
              "44     7-                 Toe Jam\n",
              "45     7-                Dihedral\n",
              "46      8   Hawk-Eye Surveillance\n",
              "47      9       Bad Sportsmanship\n",
              "48    10b                  Hubble\n",
              "51    10c              Lost Orbit\n",
              "55     9+          Igor Unchained\n",
              "59     6-         Graham Crackers\n",
              "60      9                Whodunit\n",
              "61     4-      Fingertip Traverse\n",
              "66      9              Serpentine\n",
              "68    10c           One-Eyed Jack\n",
              "69    10a               Easy Prey\n",
              "73    10a         Change of Scene\n",
              "74     5-                  Husker\n",
              "75     6-              Fools Gold\n",
              "76      9             Epinephrine\n",
              "79      8            Traitor Horn\n",
              "80      8             Coffin Nail\n",
              "81     7-              Fingertrip\n",
              "82     6-          Left Ski Track\n",
              "84     6-          Angel's Fright\n",
              "105    8+              Serpentine\n",
              "109     8         Super Soul Slab"
            ]
          },
          "metadata": {
            "tags": []
          },
          "execution_count": 6
        }
      ]
    },
    {
      "cell_type": "markdown",
      "metadata": {
        "id": "BytTpGTZlzcj"
      },
      "source": [
        "## Combined redpoint and os pyramid"
      ]
    },
    {
      "cell_type": "code",
      "metadata": {
        "id": "6xt92l715u7o"
      },
      "source": [
        "def make_pyramid(document):\n",
        "  climber = document.split('/')[-2].replace('-',' ').title()\n",
        "  date = dt.now().strftime('%-d%b%Y')\n",
        "  data = pd.read_csv(document)\n",
        "  data = data[['Route', 'Rating', 'Style', 'Lead Style', 'Route Type']]\n",
        "  data = data.rename(columns = (dict(zip(data.columns,['route', 'grade', 'style', 'lead_style', 'type']))))\n",
        "  data.grade = data.grade.apply(clean_grade)\n",
        "  data = data[data['style'] == 'Lead']\n",
        "  # Split Trad and Sport data\n",
        "  trad = data[(data['type'] == 'Trad') | (data['type'] == 'Trad, Sport') | (data['type'] == 'Trad, Alpine') | (data['type'] == 'Trad, Aid')]\n",
        "  sport = data[(data['type'] == 'Sport') | (data['type'] == 'Sport, TR')]\n",
        "  trad_rp = trad[trad.lead_style == 'Redpoint']\n",
        "  trad_os = trad[trad.lead_style == 'Onsight']\n",
        "  trad_os.grade.apply(x_round).value_counts().sort_index(ascending=False)\n",
        "  sport_rp = sport[sport.lead_style == 'Redpoint']\n",
        "  sport_os = sport[sport.lead_style == 'Onsight']\n",
        "\n",
        "  sport_combined = pd.concat([sport_rp,sport_os], axis=0)\n",
        "  trad_combined = pd.concat([trad_rp, trad_os], axis=0)\n",
        "  styles = [sport_combined, trad_combined]\n",
        "\n",
        "  pyramids = []\n",
        "  for style in styles:\n",
        "    if not style.empty:\n",
        "      title = f\"{climber}\\n{style.iloc[0]['type'].split(',')[0]} pyramid \\n as of {date}\\n\"\n",
        "      top_pyramid = style.grade.apply(x_round).value_counts().sort_index(ascending=False).iloc[:6].reset_index()\n",
        "      top_pyramid.columns = ('grade','count')\n",
        "      top_pyramid.grade = top_pyramid.grade.apply(grade_to_letter)\n",
        "      sb.barplot(y='grade', x='count', data=top_pyramid, color='green')\n",
        "      plt.title(title)\n",
        "      plt.show()\n",
        "      print(top_pyramid)\n",
        "      print('\\n\\n\\t\\ttop 10')\n",
        "      print(style.sort_values('grade',ascending=False).head(10))\n",
        "      pyramids.append(top_pyramid)\n",
        "\n",
        "  return pyramids"
      ],
      "execution_count": null,
      "outputs": []
    },
    {
      "cell_type": "code",
      "metadata": {
        "id": "-DRO4K58DVqy",
        "colab": {
          "base_uri": "https://localhost:8080/",
          "height": 1000
        },
        "outputId": "5f1930eb-8d9a-4215-d091-f37a41f84be5"
      },
      "source": [
        "# document = \"https://www.mountainproject.com/user/109791883/trevor-clack/tick-export\"   # Trevor\n",
        "# document = \"https://www.mountainproject.com/user/110296901/morgan-f/tick-export\"  # Morgan\n",
        "document = \"https://www.mountainproject.com/user/106234022/stormeh/tick-export\" # Ryan Murphy\n",
        "\n",
        "sport_pyramid, trad_pyramid = make_pyramid(document)"
      ],
      "execution_count": null,
      "outputs": [
        {
          "output_type": "display_data",
          "data": {
            "image/png": "[encoded data removed]",
            "text/plain": [
              "<Figure size 432x288 with 1 Axes>"
            ]
          },
          "metadata": {
            "tags": []
          }
        },
        {
          "output_type": "stream",
          "text": [
            "  grade  count\n",
            "0   11a      4\n",
            "1   10c      4\n",
            "2   10b      6\n",
            "3   10a     11\n",
            "4    9+      2\n",
            "5     9     13\n",
            "\n",
            "\n",
            "\t\ttop 10\n",
            "               route  grade style lead_style   type\n",
            "6       Agent Orange   11.2  Lead   Redpoint  Sport\n",
            "122              Pop   11.0  Lead   Redpoint  Sport\n",
            "125   Dihedral Dance   11.0  Lead    Onsight  Sport\n",
            "96     Totally Clips   11.0  Lead    Onsight  Sport\n",
            "131      Blue Collar   10.6  Lead    Onsight  Sport\n",
            "126  Blockade Runner   10.6  Lead    Onsight  Sport\n",
            "89           Slacker   10.6  Lead    Onsight  Sport\n",
            "8         False Flag   10.5  Lead    Onsight  Sport\n",
            "88            Hubble   10.3  Lead    Onsight  Sport\n",
            "18            Moucha   10.3  Lead    Onsight  Sport\n"
          ],
          "name": "stdout"
        },
        {
          "output_type": "display_data",
          "data": {
            "image/png": "[encoded data removed]",
            "text/plain": [
              "<Figure size 432x288 with 1 Axes>"
            ]
          },
          "metadata": {
            "tags": []
          }
        },
        {
          "output_type": "stream",
          "text": [
            "  grade  count\n",
            "0   10c      1\n",
            "1   10a      2\n",
            "2     9      5\n",
            "3    8+      1\n",
            "4     8     10\n",
            "5    8-      1\n",
            "\n",
            "\n",
            "\t\ttop 10\n",
            "                     route  grade style lead_style  type\n",
            "41   The Squamish Buttress   10.6  Lead    Onsight  Trad\n",
            "97              Panty Raid   10.0  Lead    Onsight  Trad\n",
            "45             Pearly Gate   10.0  Lead    Onsight  Trad\n",
            "145              The Horse    9.4  Lead    Onsight  Trad\n",
            "4     Tales from the Crypt    9.4  Lead    Onsight  Trad\n",
            "107         Ashtar Command    9.4  Lead    Onsight  Trad\n",
            "39        St. Vitus' Dance    9.4  Lead    Onsight  Trad\n",
            "43            Cold Comfort    9.4  Lead    Onsight  Trad\n",
            "87            Vorpal Sword    8.8  Lead    Onsight  Trad\n",
            "72                Planet X    8.4  Lead    Onsight  Trad\n"
          ],
          "name": "stdout"
        }
      ]
    },
    {
      "cell_type": "markdown",
      "metadata": {
        "id": "uuLSgTi1765R"
      },
      "source": [
        "## Make suggestions to \"fill out\" pyramid"
      ]
    },
    {
      "cell_type": "code",
      "metadata": {
        "id": "VCw_9R8F7-4R",
        "colab": {
          "base_uri": "https://localhost:8080/",
          "height": 235
        },
        "outputId": "bb7e3374-512a-4e72-cf9c-10e3747ab7d3"
      },
      "source": [
        "# pros are usually 1, 3, 20, 50, 100 (based on 8a.nu)\n",
        "# intermediate maybe 1, 3, 10, 20, 30\n",
        "# 1 2 4 8 12 seems reasonable for a beginner\n",
        "\n",
        "\n",
        "sport_pyramid"
      ],
      "execution_count": null,
      "outputs": [
        {
          "output_type": "execute_result",
          "data": {
            "text/html": [
              "<div>\n",
              "<style scoped>\n",
              "    .dataframe tbody tr th:only-of-type {\n",
              "        vertical-align: middle;\n",
              "    }\n",
              "\n",
              "    .dataframe tbody tr th {\n",
              "        vertical-align: top;\n",
              "    }\n",
              "\n",
              "    .dataframe thead th {\n",
              "        text-align: right;\n",
              "    }\n",
              "</style>\n",
              "<table border=\"1\" class=\"dataframe\">\n",
              "  <thead>\n",
              "    <tr style=\"text-align: right;\">\n",
              "      <th></th>\n",
              "      <th>grade</th>\n",
              "      <th>count</th>\n",
              "    </tr>\n",
              "  </thead>\n",
              "  <tbody>\n",
              "    <tr>\n",
              "      <th>0</th>\n",
              "      <td>11a</td>\n",
              "      <td>4</td>\n",
              "    </tr>\n",
              "    <tr>\n",
              "      <th>1</th>\n",
              "      <td>10c</td>\n",
              "      <td>4</td>\n",
              "    </tr>\n",
              "    <tr>\n",
              "      <th>2</th>\n",
              "      <td>10b</td>\n",
              "      <td>6</td>\n",
              "    </tr>\n",
              "    <tr>\n",
              "      <th>3</th>\n",
              "      <td>10a</td>\n",
              "      <td>11</td>\n",
              "    </tr>\n",
              "    <tr>\n",
              "      <th>4</th>\n",
              "      <td>9+</td>\n",
              "      <td>2</td>\n",
              "    </tr>\n",
              "    <tr>\n",
              "      <th>5</th>\n",
              "      <td>9</td>\n",
              "      <td>13</td>\n",
              "    </tr>\n",
              "  </tbody>\n",
              "</table>\n",
              "</div>"
            ],
            "text/plain": [
              "  grade  count\n",
              "0   11a      4\n",
              "1   10c      4\n",
              "2   10b      6\n",
              "3   10a     11\n",
              "4    9+      2\n",
              "5     9     13"
            ]
          },
          "metadata": {
            "tags": []
          },
          "execution_count": 13
        }
      ]
    },
    {
      "cell_type": "code",
      "metadata": {
        "id": "Vg9Um5knESfY"
      },
      "source": [
        "grades_list = '0 1 2 3 4 5 6 7 7+ 8- 8 8+ 9- 9 9+'.split()\n",
        "\n",
        "numbs = '10 11 12 13 14 15'.split()\n",
        "letters =  list('abcd')\n",
        "for i in numbs:\n",
        "  for j in letters:\n",
        "    grades_list.append(i+j)\n",
        "\n",
        "def suggest_pyramid(pyramid):\n",
        "  scheme = [1,2,4,8,12] # may need to pass in later or set as \"class global\"\n",
        "  print(pyramid.copy().iloc[0].grade)\n",
        "  top_index = grades_list.index(pyramid.grade[0]) + 1\n",
        "\n",
        "  user_grade_count_dict = dict(zip(pyramid.grade, pyramid['count']))\n",
        "  top_5_grades = grades_list[top_index : top_index - 5 : -1]\n",
        "  top_5_count = [ user_grade_count_dict.get(grade,0) for grade in top_5_grades] # 2nd argument in .get() gives value to be returned if non-existent\n",
        "\n",
        "  pyramid_copy = pd.DataFrame(zip(top_5_grades, top_5_count), columns = ['grade','count']).iloc[:5]\n",
        "  pyramid_copy['ideal_count'] = scheme\n",
        "  pyramid_copy['todo'] = pyramid_copy.ideal_count - pyramid_copy['count']\n",
        "  pyramid_copy.todo = pyramid_copy.todo.apply(lambda x: 0 if (x < 1) else x) # negative numbers -> 0 \n",
        "  print(pyramid_copy)\n",
        "  return pyramid_copy"
      ],
      "execution_count": null,
      "outputs": []
    },
    {
      "cell_type": "code",
      "metadata": {
        "id": "ScS5thQJEaNt",
        "colab": {
          "base_uri": "https://localhost:8080/",
          "height": 136
        },
        "outputId": "089338f9-7c29-4906-8471-a3dce6ceead3"
      },
      "source": [
        "suggested_pyramid = suggest_pyramid(sport_pyramid)"
      ],
      "execution_count": null,
      "outputs": [
        {
          "output_type": "stream",
          "text": [
            "11a\n",
            "  grade  count  ideal_count  todo\n",
            "0   11b      0            1     1\n",
            "1   11a      4            2     0\n",
            "2   10d      0            4     4\n",
            "3   10c      4            8     4\n",
            "4   10b      6           12     6\n"
          ],
          "name": "stdout"
        }
      ]
    },
    {
      "cell_type": "code",
      "metadata": {
        "id": "8tcYmaYKC7_n",
        "colab": {
          "base_uri": "https://localhost:8080/",
          "height": 607
        },
        "outputId": "b7cd91b4-9f2f-4c89-8720-a11878688eff"
      },
      "source": [
        "## Scraping to make recommendations\n",
        "url  = \"https://www.mountainproject.com/area/classics/105865045/new-jack-city\"\n",
        "url = \"https://www.mountainproject.com/area/classics/108189726/fairview-mountain\"\n",
        "import pandas as pd\n",
        "import numpy as np\n",
        "table = pd.read_html(url)[1]\n",
        "table = table[table.Difficulty.str.startswith('5.')]\n",
        "# grades\n",
        "grades = table.Difficulty.apply(lambda x: x.split()[0])\n",
        "grades = grades.apply(lambda x: x_round(ropes_convert[x])).apply(grade_to_letter) # remove V grades, convert to simplified letter grades\n",
        "# routes\n",
        "routes = table['Route Name'].apply(lambda x: ' '.join(x.split()[1:]))\n",
        "# putting them together\n",
        "recommendations_dict = {'grade':grades, 'route':routes}\n",
        "recommendations_df = pd.DataFrame(recommendations_dict)\n",
        "\n",
        "###################################################\n",
        "#TEMP - make global/classvariable: assume we have user's 5 sought after grades: \n",
        "top_index = grades_list.index(sport_pyramid.grade[0]) + 1\n",
        "user_grade_count_dict = dict(zip(sport_pyramid.grade, sport_pyramid['count']))\n",
        "top_5_grades = grades_list[top_index : top_index - 5 : -1] # list of top grades as string\n",
        "top_5_count = [ user_grade_count_dict.get(grade,0) for grade in top_5_grades] # 2nd argument in .get() gives value to be returned if non-existent\n",
        "###################################################\n",
        "\n",
        "recommendations_df = recommendations_df[recommendations_df.route.isin(successful_climbs_stack.route) == False] # returns area classics that haven't been climbed\n",
        "recommendations_df = recommendations_df[recommendations_df.grade.str.contains('|'.join(top_5_grades))][::-1].reset_index(drop=True) # returns the right grade range (| in the string will give an \"or\" effect)\n",
        "recommendations_df[recommendations_df.grade.isin(suggested_pyramid[suggested_pyramid.todo > 0].grade)] # remove grades within the suggested range that have been \"overclimbed\""
      ],
      "execution_count": null,
      "outputs": [
        {
          "output_type": "execute_result",
          "data": {
            "text/html": [
              "<div>\n",
              "<style scoped>\n",
              "    .dataframe tbody tr th:only-of-type {\n",
              "        vertical-align: middle;\n",
              "    }\n",
              "\n",
              "    .dataframe tbody tr th {\n",
              "        vertical-align: top;\n",
              "    }\n",
              "\n",
              "    .dataframe thead th {\n",
              "        text-align: right;\n",
              "    }\n",
              "</style>\n",
              "<table border=\"1\" class=\"dataframe\">\n",
              "  <thead>\n",
              "    <tr style=\"text-align: right;\">\n",
              "      <th></th>\n",
              "      <th>grade</th>\n",
              "      <th>route</th>\n",
              "    </tr>\n",
              "  </thead>\n",
              "  <tbody>\n",
              "    <tr>\n",
              "      <th>0</th>\n",
              "      <td>11b</td>\n",
              "      <td>Clone Army</td>\n",
              "    </tr>\n",
              "    <tr>\n",
              "      <th>6</th>\n",
              "      <td>10d</td>\n",
              "      <td>Light Saber</td>\n",
              "    </tr>\n",
              "    <tr>\n",
              "      <th>7</th>\n",
              "      <td>10d</td>\n",
              "      <td>Stretch Armstrong</td>\n",
              "    </tr>\n",
              "    <tr>\n",
              "      <th>8</th>\n",
              "      <td>10d</td>\n",
              "      <td>Jangofet</td>\n",
              "    </tr>\n",
              "    <tr>\n",
              "      <th>9</th>\n",
              "      <td>10d</td>\n",
              "      <td>Mojave Green</td>\n",
              "    </tr>\n",
              "    <tr>\n",
              "      <th>10</th>\n",
              "      <td>10c</td>\n",
              "      <td>Yoda</td>\n",
              "    </tr>\n",
              "    <tr>\n",
              "      <th>11</th>\n",
              "      <td>10c</td>\n",
              "      <td>Space Wrangler</td>\n",
              "    </tr>\n",
              "    <tr>\n",
              "      <th>12</th>\n",
              "      <td>10c</td>\n",
              "      <td>Sidewinder</td>\n",
              "    </tr>\n",
              "    <tr>\n",
              "      <th>13</th>\n",
              "      <td>10c</td>\n",
              "      <td>Black Dog</td>\n",
              "    </tr>\n",
              "    <tr>\n",
              "      <th>14</th>\n",
              "      <td>10c</td>\n",
              "      <td>False Flag</td>\n",
              "    </tr>\n",
              "    <tr>\n",
              "      <th>15</th>\n",
              "      <td>10c</td>\n",
              "      <td>You Must Face Vader</td>\n",
              "    </tr>\n",
              "    <tr>\n",
              "      <th>16</th>\n",
              "      <td>10b</td>\n",
              "      <td>Inside Job</td>\n",
              "    </tr>\n",
              "    <tr>\n",
              "      <th>17</th>\n",
              "      <td>10b</td>\n",
              "      <td>Crack in the Armor</td>\n",
              "    </tr>\n",
              "    <tr>\n",
              "      <th>18</th>\n",
              "      <td>10b</td>\n",
              "      <td>King Snake</td>\n",
              "    </tr>\n",
              "    <tr>\n",
              "      <th>19</th>\n",
              "      <td>10b</td>\n",
              "      <td>Black President</td>\n",
              "    </tr>\n",
              "    <tr>\n",
              "      <th>20</th>\n",
              "      <td>10b</td>\n",
              "      <td>Obama Nation</td>\n",
              "    </tr>\n",
              "    <tr>\n",
              "      <th>21</th>\n",
              "      <td>10b</td>\n",
              "      <td>Little Sisters Truck Wash</td>\n",
              "    </tr>\n",
              "    <tr>\n",
              "      <th>22</th>\n",
              "      <td>10b</td>\n",
              "      <td>Middle Earth</td>\n",
              "    </tr>\n",
              "  </tbody>\n",
              "</table>\n",
              "</div>"
            ],
            "text/plain": [
              "   grade                      route\n",
              "0    11b                 Clone Army\n",
              "6    10d                Light Saber\n",
              "7    10d          Stretch Armstrong\n",
              "8    10d                   Jangofet\n",
              "9    10d               Mojave Green\n",
              "10   10c                       Yoda\n",
              "11   10c             Space Wrangler\n",
              "12   10c                 Sidewinder\n",
              "13   10c                  Black Dog\n",
              "14   10c                 False Flag\n",
              "15   10c        You Must Face Vader\n",
              "16   10b                 Inside Job\n",
              "17   10b         Crack in the Armor\n",
              "18   10b                 King Snake\n",
              "19   10b            Black President\n",
              "20   10b               Obama Nation\n",
              "21   10b  Little Sisters Truck Wash\n",
              "22   10b               Middle Earth"
            ]
          },
          "metadata": {
            "tags": []
          },
          "execution_count": 16
        }
      ]
    },
    {
      "cell_type": "markdown",
      "metadata": {
        "id": "uOO7TR6HWrw-"
      },
      "source": [
        "### calculate climbing \"mileage\""
      ]
    },
    {
      "cell_type": "code",
      "metadata": {
        "id": "foj40J59Znye",
        "colab": {
          "base_uri": "https://localhost:8080/",
          "height": 180
        },
        "outputId": "ff894742-a68f-4f08-c17c-13e424445e1d"
      },
      "source": [
        "import pandas as pd\n",
        "tmp_df = pd.read_csv(document)"
      ],
      "execution_count": null,
      "outputs": [
        {
          "output_type": "error",
          "ename": "NameError",
          "evalue": "ignored",
          "traceback": [
            "\u001b[0;31m---------------------------------------------------------------------------\u001b[0m",
            "\u001b[0;31mNameError\u001b[0m                                 Traceback (most recent call last)",
            "\u001b[0;32m<ipython-input-1-06714647e954>\u001b[0m in \u001b[0;36m<module>\u001b[0;34m()\u001b[0m\n\u001b[1;32m      1\u001b[0m \u001b[0;32mimport\u001b[0m \u001b[0mpandas\u001b[0m \u001b[0;32mas\u001b[0m \u001b[0mpd\u001b[0m\u001b[0;34m\u001b[0m\u001b[0;34m\u001b[0m\u001b[0m\n\u001b[0;32m----> 2\u001b[0;31m \u001b[0mtmp_df\u001b[0m \u001b[0;34m=\u001b[0m \u001b[0mpd\u001b[0m\u001b[0;34m.\u001b[0m\u001b[0mread_csv\u001b[0m\u001b[0;34m(\u001b[0m\u001b[0mdocument\u001b[0m\u001b[0;34m)\u001b[0m\u001b[0;34m\u001b[0m\u001b[0;34m\u001b[0m\u001b[0m\n\u001b[0m",
            "\u001b[0;31mNameError\u001b[0m: name 'document' is not defined"
          ]
        }
      ]
    },
    {
      "cell_type": "code",
      "metadata": {
        "id": "VJxZ0-NfZt3b",
        "colab": {
          "base_uri": "https://localhost:8080/",
          "height": 119
        },
        "outputId": "8d8a28a3-4f06-4a24-a1b3-6fe6c7146d98"
      },
      "source": [
        "tmp_df.head()\n",
        "dist = tmp_df['Length'].sum()\n",
        "tmp_df.Date = pd.to_datetime(tmp_df.Date)\n",
        "date_list = [('01/01/2015','01/01/2016'),('01/01/2016','01/01/2017'),('01/01/2017','01/01/2018'),('01/01/2018','01/01/2019'),('01/01/2019','01/01/2020'),('01/01/2020','01/01/2021')]\n",
        "for start, end in date_list:\n",
        "  year = start[-4:]\n",
        "  length = tmp_df[(tmp_df.Date <= end) & (tmp_df.Date >= start)].Length.sum()/5280\n",
        "  print(f'{year}: {length}')"
      ],
      "execution_count": null,
      "outputs": [
        {
          "output_type": "stream",
          "text": [
            "2015: 0.7575757575757576\n",
            "2016: 1.168939393939394\n",
            "2017: 1.4532196969696969\n",
            "2018: 0.6990530303030303\n",
            "2019: 3.133901515151515\n",
            "2020: 0.8087121212121212\n"
          ],
          "name": "stdout"
        }
      ]
    },
    {
      "cell_type": "code",
      "metadata": {
        "id": "UoULGJ0QdwFg",
        "colab": {
          "base_uri": "https://localhost:8080/"
        },
        "outputId": "68959289-cf9d-434c-9daf-4b9afcad2157"
      },
      "source": [
        "\n",
        "document = \"https://www.mountainproject.com/user/109791883/trevor-clack/tick-export\"   # Trevor\n",
        "# document = \"https://www.mountainproject.com/user/110296901/morgan-f/tick-export\"  # Morgan\n",
        "\n",
        "tmp_df = pd.read_csv(document)\n",
        "tmp_df.Date = pd.to_datetime(tmp_df.Date)\n",
        "min_date = tmp_df.Date.min().year\n",
        "max_date = tmp_df.Date.max().year + 1\n",
        "front_dates = list(range(min_date,max_date))\n",
        "back_dates = [d + 1 for d in front_dates]\n",
        "front_dates = [f'01/01/{y}' for y in front_dates]\n",
        "back_dates = [f'01/01/{y}' for y in back_dates]\n",
        "date_list = list(zip(front_dates,back_dates))\n",
        "for start, end in date_list:\n",
        "  year = start[-4:]\n",
        "  length = round(tmp_df[(tmp_df.Date <= end) & (tmp_df.Date >= start)].Length.sum()/5280,3)\n",
        "  print(f'{year}: {length} miles')"
      ],
      "execution_count": null,
      "outputs": [
        {
          "output_type": "stream",
          "text": [
            "2014: 0.347 miles\n",
            "2015: 0.758 miles\n",
            "2016: 1.169 miles\n",
            "2017: 1.453 miles\n",
            "2018: 0.699 miles\n",
            "2019: 3.134 miles\n",
            "2020: 0.97 miles\n"
          ],
          "name": "stdout"
        }
      ]
    },
    {
      "cell_type": "markdown",
      "metadata": {
        "id": "nsvjjBl5XqEt"
      },
      "source": [
        "### rolling progress (plot top x ascents of the year)"
      ]
    },
    {
      "cell_type": "code",
      "metadata": {
        "id": "lUNQ0NwIAh0b",
        "colab": {
          "base_uri": "https://localhost:8080/"
        },
        "outputId": "4512de52-568a-43f8-d418-97b03f54cd0a"
      },
      "source": [
        "def test_round(x):\n",
        "  \"\"\" rounds down to nearest .25\n",
        "  eg. x_round(11.49) = 11.25, x_round(11.51) = 11.5\n",
        "  and sub 10 numbers n to n.0, n.4 or n.8 whichever is closest - rounds down in ties\n",
        "  \"\"\"\n",
        "  if x >= 10:\n",
        "    return floor(x*4)/4\n",
        "  else:\n",
        "    base = floor(x)\n",
        "    return_map = {x - base : 0, abs(x - base -.4): .4, abs(x - base - .8): .8}\n",
        "    end = return_map[min(x-base, abs(x-base-.4), abs(x-base-.8))]\n",
        "    return float(base + end)\n",
        "\n",
        "nums = 13* np.random.random(8)\n",
        "nums[-1] = 9.2\n",
        "\n",
        "\n",
        "for n in nums:\n",
        "  print(n, test_round(n))\n"
      ],
      "execution_count": null,
      "outputs": [
        {
          "output_type": "stream",
          "text": [
            "4.741813727653707 4.8\n",
            "9.740963192813918 9.8\n",
            "11.294078187437364 11.25\n",
            "7.016405952568252 7.0\n",
            "1.4677383170798897 1.4\n",
            "11.123350894683249 11.0\n",
            "9.492709463832515 9.4\n",
            "9.2 9.0\n"
          ],
          "name": "stdout"
        }
      ]
    },
    {
      "cell_type": "code",
      "metadata": {
        "id": "VBWNIg_Iap-w"
      },
      "source": [
        "### copy of supportive functions:\n",
        "import pandas as pd\n",
        "import numpy as np\n",
        "from math import floor, ceil\n",
        "import seaborn as sb\n",
        "import matplotlib.pyplot as plt\n",
        "\n",
        "# Supporting functions for clean and prep pipeline\n",
        "# Get Grade for conversion (from Mountain Project's official grade converter)\n",
        "grade_chart = pd.read_html(\"https://www.mountainproject.com/international-climbing-grades\")\n",
        "old_ropes = grade_chart[0].YDSUSA[:-1].to_list()\n",
        "new_ropes = [0,0,0,0,1,2,3,4,5,6,7.4,7.8,8,8.4,8.8,9,9.4,9.8]+list(np.round(np.arange(10,16,.1),1)) # missing 7- and some 15s like 15b/c\n",
        "ropes_convert = dict(zip(old_ropes,new_ropes))\n",
        "\n",
        "inv_to_grades = {v: k for k, v in ropes_convert.items()}\n",
        "\n",
        "def clean_grade(grade):\n",
        "  grade = str(grade).split()[0]\n",
        "  if grade[0] == '5':\n",
        "    grade = ropes_convert[grade]\n",
        "    return grade\n",
        "\n",
        "def x_round(x):\n",
        "  \"\"\" rounds back to decimanls that can be reversed to letter grades\n",
        "  for 10 and greater, rounds down to nearest .25\n",
        "  eg. x_round(11.49) = 11.25, x_round(11.51) = 11.5\n",
        "  and sub 10 numbers n to n.0, n.4 or n.8 whichever is closest - rounds down in ties\n",
        "  \"\"\"\n",
        "  if x >= 10:\n",
        "    return floor(x*4)/4\n",
        "  else:\n",
        "    base = floor(x)\n",
        "    return_map = {x - base : 0, abs(x - base -.4): .4, abs(x - base - .8): .8}\n",
        "    end = return_map[min(x-base, abs(x-base-.4), abs(x-base-.8))]\n",
        "    return float(base + end)\n",
        "\n",
        "\n",
        "# Rounding Key example:\n",
        "\n",
        "# 10a, 10-, 10a/b  -> 10a\n",
        "# 10b, 10          -> 10b\n",
        "# 10b/c, 10c, 10+  -> 10c\n",
        "# 10c/d, 10d       -> 10d\n",
        "\n",
        "# def grade_to_number(grade):\n",
        "#   letter_map = {'a':'.0', 'b':'.25', 'c':'.5', 'd':'.75', '-':'.0', '+':'.8'}\n",
        "#   if grade[-1].isnumeric() == False:\n",
        "#     grade = grade[:-1] + letter_map[grade[-1]]\n",
        "#     print(grade)\n",
        "#   else:\n",
        "#     grade += '.4'\n",
        "#     print(grade)\n",
        "\n",
        "\n",
        "def grade_to_letter(grade):\n",
        "  letter_map = {'.0':'a', '.25':'b', '.5':'c', '.75':'d'}\n",
        "  letter_map_low = {'.0':'-', '.4':'', '.8':'+'}\n",
        "  # print('in grade_to_letter mapping:', grade)\n",
        "  if grade >= 10:\n",
        "    grade = str(grade)\n",
        "    grade = grade[:2] + letter_map[grade[2:]]\n",
        "    return grade\n",
        "  else:\n",
        "    grade = str(grade)\n",
        "    grade = grade[:1] + letter_map_low[grade[1:]]\n",
        "    return grade"
      ],
      "execution_count": 2,
      "outputs": []
    },
    {
      "cell_type": "code",
      "metadata": {
        "id": "pBa_qHR7bxbK",
        "colab": {
          "base_uri": "https://localhost:8080/",
          "height": 542
        },
        "outputId": "622832de-1136-42d7-8a6e-57cb086119ae"
      },
      "source": [
        "document = \"https://www.mountainproject.com/user/109791883/trevor-clack/tick-export\"   # Trevor\n",
        "# document = \"https://www.mountainproject.com/user/110296901/morgan-f/tick-export\"  # Morgan\n",
        "tmp_df = pd.read_csv(document)\n",
        "# print(tmp_df.columns)\n",
        "tmp_df = tmp_df[['Date', 'Route', 'Rating', 'Style', 'Lead Style']]#, 'Route Type']]\n",
        "tmp_df.Date = pd.to_datetime(tmp_df.Date)\n",
        "tmp_df.Rating = tmp_df.Rating.apply(clean_grade)\n",
        "min_date = tmp_df.Date.min().year\n",
        "max_date = tmp_df.Date.max().year + 1\n",
        "front_dates = list(range(min_date,max_date))\n",
        "back_dates = [d + 1 for d in front_dates]\n",
        "front_dates = [f'01/01/{y}' for y in front_dates]\n",
        "back_dates = [f'01/01/{y}' for y in back_dates]\n",
        "date_list = list(zip(front_dates,back_dates))\n",
        "year_list = []\n",
        "# print(tmp_df.Style.unique())\n",
        "years = []\n",
        "avgs = []\n",
        "labels = []\n",
        "for start, end in date_list:\n",
        "  year = start[-4:]\n",
        "  year_df = tmp_df[(tmp_df.Date <= end) & (tmp_df.Date >= start)].sort_values('Rating',ascending=False) # get year and arrange values\n",
        "  year_df = year_df[~year_df['Lead Style'].isin(['Fell/Hung', np.nan]) & ~year_df['Style'].isin(['TR','Follow', np.nan])] # keep nans because at some piont Mountain Project included the tick type. Give benefit of doubt and assume they were all successful climbs\n",
        "  year_df = year_df[:10]\n",
        "  year_avg = round(year_df.Rating.mean(),1)\n",
        "  # year_avg_grade = inv_to_grades[year_avg]   # remove inv_to_grades?\n",
        "  year_avg_grade = grade_to_letter(x_round(year_avg))\n",
        "  # print(year_avg_grade)\n",
        "  # print(f'{year}: {year_avg} -- {year_avg_grade}')\n",
        "  years.append(year)\n",
        "  avgs.append(year_avg)\n",
        "  labels.append(year_avg_grade)\n",
        "  # print(f'{year}: {year_avg} -- ')\n",
        "  # print(year_df['Style'].unique())\n",
        "  # print(year_df.head(10), year_df.shape[0]) # uncomment to see the climbs\n",
        "\n",
        "bottom, top = floor(min(avgs)), ceil(max(avgs))\n",
        "label_range = sorted(list(set([float(x_round(grade)) for grade in new_ropes if (bottom <= grade <= top)])))\n",
        "# print(label_range)\n",
        "label_range_labels = [grade_to_letter(g) for g in label_range]\n",
        "# print(label_range_labels)\n",
        "# print(bottom, top)\n",
        "# plt.plot(years, avgs)\n",
        "# plt.show();\n",
        "\n",
        "import plotly.graph_objects as go\n",
        "\n",
        "x = np.arange(10)\n",
        "\n",
        "fig = go.Figure(data=go.Scatter(x=years, y=avgs))\n",
        "fig.update_layout(yaxis = dict(\n",
        "                  tickvals=label_range,\n",
        "                  ticktext=label_range_labels))\n",
        "# fig.update_traces(marker_colorbar_tickvals=label_range, selector=dict(type='bar'))\n",
        "# fig.update_traces(marker_colorbar_ticktext=label_range_labels, selector=dict(type='bar'))\n",
        "# fig.update_traces(y=label_range_labels)\n",
        "fig.show()"
      ],
      "execution_count": 13,
      "outputs": [
        {
          "output_type": "display_data",
          "data": {
            "text/html": [
              "<html>\n",
              "<head><meta charset=\"utf-8\" /></head>\n",
              "<body>\n",
              "    <div>\n",
              "            <script src=\"https://cdnjs.cloudflare.com/ajax/libs/mathjax/2.7.5/MathJax.js?config=TeX-AMS-MML_SVG\"></script><script type=\"text/javascript\">if (window.MathJax) {MathJax.Hub.Config({SVG: {font: \"STIX-Web\"}});}</script>\n",
              "                <script type=\"text/javascript\">window.PlotlyConfig = {MathJaxConfig: 'local'};</script>\n",
              "        <script src=\"https://cdn.plot.ly/plotly-latest.min.js\"></script>    \n",
              "            <div id=\"ac483b99-0209-4c9c-9538-3e4a5de85480\" class=\"plotly-graph-div\" style=\"height:525px; width:100%;\"></div>\n",
              "            <script type=\"text/javascript\">\n",
              "                \n",
              "                    window.PLOTLYENV=window.PLOTLYENV || {};\n",
              "                    \n",
              "                if (document.getElementById(\"ac483b99-0209-4c9c-9538-3e4a5de85480\")) {\n",
              "                    Plotly.newPlot(\n",
              "                        'ac483b99-0209-4c9c-9538-3e4a5de85480',\n",
              "                        [{\"type\": \"scatter\", \"x\": [\"2014\", \"2015\", \"2016\", \"2017\", \"2018\", \"2019\", \"2020\"], \"y\": [9.0, 9.8, 10.4, 10.0, 8.9, 11.0, 11.1]}],\n",
              "                        {\"template\": {\"data\": {\"bar\": [{\"error_x\": {\"color\": \"#2a3f5f\"}, \"error_y\": {\"color\": \"#2a3f5f\"}, \"marker\": {\"line\": {\"color\": \"#E5ECF6\", \"width\": 0.5}}, \"type\": \"bar\"}], \"barpolar\": [{\"marker\": {\"line\": {\"color\": \"#E5ECF6\", \"width\": 0.5}}, \"type\": \"barpolar\"}], \"carpet\": [{\"aaxis\": {\"endlinecolor\": \"#2a3f5f\", \"gridcolor\": \"white\", \"linecolor\": \"white\", \"minorgridcolor\": \"white\", \"startlinecolor\": \"#2a3f5f\"}, \"baxis\": {\"endlinecolor\": \"#2a3f5f\", \"gridcolor\": \"white\", \"linecolor\": \"white\", \"minorgridcolor\": \"white\", \"startlinecolor\": \"#2a3f5f\"}, \"type\": \"carpet\"}], \"choropleth\": [{\"colorbar\": {\"outlinewidth\": 0, \"ticks\": \"\"}, \"type\": \"choropleth\"}], \"contour\": [{\"colorbar\": {\"outlinewidth\": 0, \"ticks\": \"\"}, \"colorscale\": [[0.0, \"#0d0887\"], [0.1111111111111111, \"#46039f\"], [0.2222222222222222, \"#7201a8\"], [0.3333333333333333, \"#9c179e\"], [0.4444444444444444, \"#bd3786\"], [0.5555555555555556, \"#d8576b\"], [0.6666666666666666, \"#ed7953\"], [0.7777777777777778, \"#fb9f3a\"], [0.8888888888888888, \"#fdca26\"], [1.0, \"#f0f921\"]], \"type\": \"contour\"}], \"contourcarpet\": [{\"colorbar\": {\"outlinewidth\": 0, \"ticks\": \"\"}, \"type\": \"contourcarpet\"}], \"heatmap\": [{\"colorbar\": {\"outlinewidth\": 0, \"ticks\": \"\"}, \"colorscale\": [[0.0, \"#0d0887\"], [0.1111111111111111, \"#46039f\"], [0.2222222222222222, \"#7201a8\"], [0.3333333333333333, \"#9c179e\"], [0.4444444444444444, \"#bd3786\"], [0.5555555555555556, \"#d8576b\"], [0.6666666666666666, \"#ed7953\"], [0.7777777777777778, \"#fb9f3a\"], [0.8888888888888888, \"#fdca26\"], [1.0, \"#f0f921\"]], \"type\": \"heatmap\"}], \"heatmapgl\": [{\"colorbar\": {\"outlinewidth\": 0, \"ticks\": \"\"}, \"colorscale\": [[0.0, \"#0d0887\"], [0.1111111111111111, \"#46039f\"], [0.2222222222222222, \"#7201a8\"], [0.3333333333333333, \"#9c179e\"], [0.4444444444444444, \"#bd3786\"], [0.5555555555555556, \"#d8576b\"], [0.6666666666666666, \"#ed7953\"], [0.7777777777777778, \"#fb9f3a\"], [0.8888888888888888, \"#fdca26\"], [1.0, \"#f0f921\"]], \"type\": \"heatmapgl\"}], \"histogram\": [{\"marker\": {\"colorbar\": {\"outlinewidth\": 0, \"ticks\": \"\"}}, \"type\": \"histogram\"}], \"histogram2d\": [{\"colorbar\": {\"outlinewidth\": 0, \"ticks\": \"\"}, \"colorscale\": [[0.0, \"#0d0887\"], [0.1111111111111111, \"#46039f\"], [0.2222222222222222, \"#7201a8\"], [0.3333333333333333, \"#9c179e\"], [0.4444444444444444, \"#bd3786\"], [0.5555555555555556, \"#d8576b\"], [0.6666666666666666, \"#ed7953\"], [0.7777777777777778, \"#fb9f3a\"], [0.8888888888888888, \"#fdca26\"], [1.0, \"#f0f921\"]], \"type\": \"histogram2d\"}], \"histogram2dcontour\": [{\"colorbar\": {\"outlinewidth\": 0, \"ticks\": \"\"}, \"colorscale\": [[0.0, \"#0d0887\"], [0.1111111111111111, \"#46039f\"], [0.2222222222222222, \"#7201a8\"], [0.3333333333333333, \"#9c179e\"], [0.4444444444444444, \"#bd3786\"], [0.5555555555555556, \"#d8576b\"], [0.6666666666666666, \"#ed7953\"], [0.7777777777777778, \"#fb9f3a\"], [0.8888888888888888, \"#fdca26\"], [1.0, \"#f0f921\"]], \"type\": \"histogram2dcontour\"}], \"mesh3d\": [{\"colorbar\": {\"outlinewidth\": 0, \"ticks\": \"\"}, \"type\": \"mesh3d\"}], \"parcoords\": [{\"line\": {\"colorbar\": {\"outlinewidth\": 0, \"ticks\": \"\"}}, \"type\": \"parcoords\"}], \"pie\": [{\"automargin\": true, \"type\": \"pie\"}], \"scatter\": [{\"marker\": {\"colorbar\": {\"outlinewidth\": 0, \"ticks\": \"\"}}, \"type\": \"scatter\"}], \"scatter3d\": [{\"line\": {\"colorbar\": {\"outlinewidth\": 0, \"ticks\": \"\"}}, \"marker\": {\"colorbar\": {\"outlinewidth\": 0, \"ticks\": \"\"}}, \"type\": \"scatter3d\"}], \"scattercarpet\": [{\"marker\": {\"colorbar\": {\"outlinewidth\": 0, \"ticks\": \"\"}}, \"type\": \"scattercarpet\"}], \"scattergeo\": [{\"marker\": {\"colorbar\": {\"outlinewidth\": 0, \"ticks\": \"\"}}, \"type\": \"scattergeo\"}], \"scattergl\": [{\"marker\": {\"colorbar\": {\"outlinewidth\": 0, \"ticks\": \"\"}}, \"type\": \"scattergl\"}], \"scattermapbox\": [{\"marker\": {\"colorbar\": {\"outlinewidth\": 0, \"ticks\": \"\"}}, \"type\": \"scattermapbox\"}], \"scatterpolar\": [{\"marker\": {\"colorbar\": {\"outlinewidth\": 0, \"ticks\": \"\"}}, \"type\": \"scatterpolar\"}], \"scatterpolargl\": [{\"marker\": {\"colorbar\": {\"outlinewidth\": 0, \"ticks\": \"\"}}, \"type\": \"scatterpolargl\"}], \"scatterternary\": [{\"marker\": {\"colorbar\": {\"outlinewidth\": 0, \"ticks\": \"\"}}, \"type\": \"scatterternary\"}], \"surface\": [{\"colorbar\": {\"outlinewidth\": 0, \"ticks\": \"\"}, \"colorscale\": [[0.0, \"#0d0887\"], [0.1111111111111111, \"#46039f\"], [0.2222222222222222, \"#7201a8\"], [0.3333333333333333, \"#9c179e\"], [0.4444444444444444, \"#bd3786\"], [0.5555555555555556, \"#d8576b\"], [0.6666666666666666, \"#ed7953\"], [0.7777777777777778, \"#fb9f3a\"], [0.8888888888888888, \"#fdca26\"], [1.0, \"#f0f921\"]], \"type\": \"surface\"}], \"table\": [{\"cells\": {\"fill\": {\"color\": \"#EBF0F8\"}, \"line\": {\"color\": \"white\"}}, \"header\": {\"fill\": {\"color\": \"#C8D4E3\"}, \"line\": {\"color\": \"white\"}}, \"type\": \"table\"}]}, \"layout\": {\"annotationdefaults\": {\"arrowcolor\": \"#2a3f5f\", \"arrowhead\": 0, \"arrowwidth\": 1}, \"coloraxis\": {\"colorbar\": {\"outlinewidth\": 0, \"ticks\": \"\"}}, \"colorscale\": {\"diverging\": [[0, \"#8e0152\"], [0.1, \"#c51b7d\"], [0.2, \"#de77ae\"], [0.3, \"#f1b6da\"], [0.4, \"#fde0ef\"], [0.5, \"#f7f7f7\"], [0.6, \"#e6f5d0\"], [0.7, \"#b8e186\"], [0.8, \"#7fbc41\"], [0.9, \"#4d9221\"], [1, \"#276419\"]], \"sequential\": [[0.0, \"#0d0887\"], [0.1111111111111111, \"#46039f\"], [0.2222222222222222, \"#7201a8\"], [0.3333333333333333, \"#9c179e\"], [0.4444444444444444, \"#bd3786\"], [0.5555555555555556, \"#d8576b\"], [0.6666666666666666, \"#ed7953\"], [0.7777777777777778, \"#fb9f3a\"], [0.8888888888888888, \"#fdca26\"], [1.0, \"#f0f921\"]], \"sequentialminus\": [[0.0, \"#0d0887\"], [0.1111111111111111, \"#46039f\"], [0.2222222222222222, \"#7201a8\"], [0.3333333333333333, \"#9c179e\"], [0.4444444444444444, \"#bd3786\"], [0.5555555555555556, \"#d8576b\"], [0.6666666666666666, \"#ed7953\"], [0.7777777777777778, \"#fb9f3a\"], [0.8888888888888888, \"#fdca26\"], [1.0, \"#f0f921\"]]}, \"colorway\": [\"#636efa\", \"#EF553B\", \"#00cc96\", \"#ab63fa\", \"#FFA15A\", \"#19d3f3\", \"#FF6692\", \"#B6E880\", \"#FF97FF\", \"#FECB52\"], \"font\": {\"color\": \"#2a3f5f\"}, \"geo\": {\"bgcolor\": \"white\", \"lakecolor\": \"white\", \"landcolor\": \"#E5ECF6\", \"showlakes\": true, \"showland\": true, \"subunitcolor\": \"white\"}, \"hoverlabel\": {\"align\": \"left\"}, \"hovermode\": \"closest\", \"mapbox\": {\"style\": \"light\"}, \"paper_bgcolor\": \"white\", \"plot_bgcolor\": \"#E5ECF6\", \"polar\": {\"angularaxis\": {\"gridcolor\": \"white\", \"linecolor\": \"white\", \"ticks\": \"\"}, \"bgcolor\": \"#E5ECF6\", \"radialaxis\": {\"gridcolor\": \"white\", \"linecolor\": \"white\", \"ticks\": \"\"}}, \"scene\": {\"xaxis\": {\"backgroundcolor\": \"#E5ECF6\", \"gridcolor\": \"white\", \"gridwidth\": 2, \"linecolor\": \"white\", \"showbackground\": true, \"ticks\": \"\", \"zerolinecolor\": \"white\"}, \"yaxis\": {\"backgroundcolor\": \"#E5ECF6\", \"gridcolor\": \"white\", \"gridwidth\": 2, \"linecolor\": \"white\", \"showbackground\": true, \"ticks\": \"\", \"zerolinecolor\": \"white\"}, \"zaxis\": {\"backgroundcolor\": \"#E5ECF6\", \"gridcolor\": \"white\", \"gridwidth\": 2, \"linecolor\": \"white\", \"showbackground\": true, \"ticks\": \"\", \"zerolinecolor\": \"white\"}}, \"shapedefaults\": {\"line\": {\"color\": \"#2a3f5f\"}}, \"ternary\": {\"aaxis\": {\"gridcolor\": \"white\", \"linecolor\": \"white\", \"ticks\": \"\"}, \"baxis\": {\"gridcolor\": \"white\", \"linecolor\": \"white\", \"ticks\": \"\"}, \"bgcolor\": \"#E5ECF6\", \"caxis\": {\"gridcolor\": \"white\", \"linecolor\": \"white\", \"ticks\": \"\"}}, \"title\": {\"x\": 0.05}, \"xaxis\": {\"automargin\": true, \"gridcolor\": \"white\", \"linecolor\": \"white\", \"ticks\": \"\", \"title\": {\"standoff\": 15}, \"zerolinecolor\": \"white\", \"zerolinewidth\": 2}, \"yaxis\": {\"automargin\": true, \"gridcolor\": \"white\", \"linecolor\": \"white\", \"ticks\": \"\", \"title\": {\"standoff\": 15}, \"zerolinecolor\": \"white\", \"zerolinewidth\": 2}}}, \"yaxis\": {\"ticktext\": [\"8-\", \"8\", \"8+\", \"9-\", \"9\", \"9+\", \"10a\", \"10b\", \"10c\", \"10d\", \"11a\", \"11b\", \"11c\", \"11d\", \"12a\"], \"tickvals\": [8.0, 8.4, 8.8, 9.0, 9.4, 9.8, 10.0, 10.25, 10.5, 10.75, 11.0, 11.25, 11.5, 11.75, 12.0]}},\n",
              "                        {\"responsive\": true}\n",
              "                    ).then(function(){\n",
              "                            \n",
              "var gd = document.getElementById('ac483b99-0209-4c9c-9538-3e4a5de85480');\n",
              "var x = new MutationObserver(function (mutations, observer) {{\n",
              "        var display = window.getComputedStyle(gd).display;\n",
              "        if (!display || display === 'none') {{\n",
              "            console.log([gd, 'removed!']);\n",
              "            Plotly.purge(gd);\n",
              "            observer.disconnect();\n",
              "        }}\n",
              "}});\n",
              "\n",
              "// Listen for the removal of the full notebook cells\n",
              "var notebookContainer = gd.closest('#notebook-container');\n",
              "if (notebookContainer) {{\n",
              "    x.observe(notebookContainer, {childList: true});\n",
              "}}\n",
              "\n",
              "// Listen for the clearing of the current output cell\n",
              "var outputEl = gd.closest('.output');\n",
              "if (outputEl) {{\n",
              "    x.observe(outputEl, {childList: true});\n",
              "}}\n",
              "\n",
              "                        })\n",
              "                };\n",
              "                \n",
              "            </script>\n",
              "        </div>\n",
              "</body>\n",
              "</html>"
            ]
          },
          "metadata": {
            "tags": []
          }
        }
      ]
    },
    {
      "cell_type": "code",
      "metadata": {
        "id": "FRv5u12v63Vp",
        "colab": {
          "base_uri": "https://localhost:8080/"
        },
        "outputId": "5920cd5b-624a-4945-ccf0-b0bd6f0e7642"
      },
      "source": [
        "ropes_convert"
      ],
      "execution_count": null,
      "outputs": [
        {
          "output_type": "execute_result",
          "data": {
            "text/plain": [
              "{'3rd': 0,\n",
              " '4th': 0,\n",
              " '5.0': 0,\n",
              " '5.1': 1,\n",
              " '5.10': 10.4,\n",
              " '5.10+': 10.7,\n",
              " '5.10-': 10.1,\n",
              " '5.10a': 10.0,\n",
              " '5.10a/b': 10.2,\n",
              " '5.10b': 10.3,\n",
              " '5.10b/c': 10.5,\n",
              " '5.10c': 10.6,\n",
              " '5.10c/d': 10.8,\n",
              " '5.10d': 10.9,\n",
              " '5.11': 11.4,\n",
              " '5.11+': 11.7,\n",
              " '5.11-': 11.1,\n",
              " '5.11a': 11.0,\n",
              " '5.11a/b': 11.2,\n",
              " '5.11b': 11.3,\n",
              " '5.11b/c': 11.5,\n",
              " '5.11c': 11.6,\n",
              " '5.11c/d': 11.8,\n",
              " '5.11d': 11.9,\n",
              " '5.12': 12.4,\n",
              " '5.12+': 12.7,\n",
              " '5.12-': 12.1,\n",
              " '5.12a': 12.0,\n",
              " '5.12a/b': 12.2,\n",
              " '5.12b': 12.3,\n",
              " '5.12b/c': 12.5,\n",
              " '5.12c': 12.6,\n",
              " '5.12c/d': 12.8,\n",
              " '5.12d': 12.9,\n",
              " '5.13': 13.4,\n",
              " '5.13+': 13.7,\n",
              " '5.13-': 13.1,\n",
              " '5.13a': 13.0,\n",
              " '5.13a/b': 13.2,\n",
              " '5.13b': 13.3,\n",
              " '5.13b/c': 13.5,\n",
              " '5.13c': 13.6,\n",
              " '5.13c/d': 13.8,\n",
              " '5.13d': 13.9,\n",
              " '5.14': 14.4,\n",
              " '5.14+': 14.7,\n",
              " '5.14-': 14.1,\n",
              " '5.14a': 14.0,\n",
              " '5.14a/b': 14.2,\n",
              " '5.14b': 14.3,\n",
              " '5.14b/c': 14.5,\n",
              " '5.14c': 14.6,\n",
              " '5.14c/d': 14.8,\n",
              " '5.14d': 14.9,\n",
              " '5.15': 15.4,\n",
              " '5.15+': 15.6,\n",
              " '5.15-': 15.1,\n",
              " '5.15a': 15.0,\n",
              " '5.15a/b': 15.2,\n",
              " '5.15b': 15.3,\n",
              " '5.15c': 15.5,\n",
              " '5.15c/d': 15.7,\n",
              " '5.15d': 15.8,\n",
              " '5.2': 2,\n",
              " '5.3': 3,\n",
              " '5.4': 4,\n",
              " '5.5': 5,\n",
              " '5.6': 6,\n",
              " '5.7': 7,\n",
              " '5.7+': 7.4,\n",
              " '5.8': 8.4,\n",
              " '5.8+': 8.8,\n",
              " '5.8-': 8,\n",
              " '5.9': 9.4,\n",
              " '5.9+': 9.8,\n",
              " '5.9-': 9,\n",
              " 'Easy 5th': 0}"
            ]
          },
          "metadata": {
            "tags": []
          },
          "execution_count": 11
        }
      ]
    },
    {
      "cell_type": "code",
      "metadata": {
        "id": "kYct4J2lkYQd"
      },
      "source": [
        ""
      ],
      "execution_count": null,
      "outputs": []
    },
    {
      "cell_type": "markdown",
      "metadata": {
        "id": "UF-d_4m7QetJ"
      },
      "source": [
        "# Create Class"
      ]
    },
    {
      "cell_type": "code",
      "metadata": {
        "id": "sUv5wZ5r1CLo"
      },
      "source": [
        "import pandas as pd\n",
        "import numpy as np\n",
        "from math import floor\n",
        "from datetime import datetime as dt\n",
        "import seaborn as sb\n",
        "import matplotlib.pyplot as plt\n",
        "sb.set(style='whitegrid')\n",
        "\n",
        "class Pyramid:\n",
        "  def __init__(self,document):\n",
        "    self.document = document\n",
        "    self.climber = document.split('/')[-2].replace('-',' ').title()\n",
        "    self.grade_chart = pd.read_html(\"https://www.mountainproject.com/international-climbing-grades\")\n",
        "    self.old_ropes = self.grade_chart[0].YDSUSA[:-1].to_list()\n",
        "    self.new_ropes = [0,0,0,0,1,2,3,4,5,6,7,7.4,8,8.4,8.8,9,9.4,9.8]+list(np.round(np.arange(10,16,.1),1))\n",
        "    self.ropes_convert = dict(zip(self.old_ropes, self.new_ropes))\n",
        "   \n",
        "    self.data = self._clean_data(self.document)\n",
        "    # Split Trad and Sport data\n",
        "    self.trad = self.data[(self.data['type'] == 'Trad') | (self.data['type'] == 'Trad, Sport') | (self.data['type'] == 'Trad, Alpine') | (self.data['type'] == 'Trad, Aid')]\n",
        "    self.sport = self.data[(self.data['type'] == 'Sport') | (self.data['type'] == 'Sport, TR')]\n",
        "    self.trad_rp = self.trad[self.trad.lead_style == 'Redpoint']\n",
        "    self.trad_os = self.trad[self.trad.lead_style == 'Onsight']\n",
        "    self.trad_os.grade.apply(self._x_round).value_counts().sort_index(ascending=False)\n",
        "    self.sport_rp = self.sport[self.sport.lead_style == 'Redpoint']\n",
        "    self.sport_os = self.sport[self.sport.lead_style == 'Onsight']\n",
        "\n",
        "    self.sport_combined = pd.concat([self.sport_rp,self.sport_os], axis=0)\n",
        "    self.trad_combined = pd.concat([self.trad_rp, self.trad_os], axis=0)\n",
        "    self.styles = [self.sport_combined, self.trad_combined]\n",
        "    date = dt.now().strftime('%-d%b%Y')\n",
        "    self.pyramids = []\n",
        "    self.titles = []\n",
        "    for i, style in enumerate(self.styles):\n",
        "      if not style.empty:\n",
        "        self.title = f\"{self.climber}\\n{style.iloc[0]['type'].split(',')[0]} pyramid \\n as of {date}\\n\"\n",
        "        self.top_pyramid = style.grade.apply(self._x_round).value_counts().sort_index(ascending=False).iloc[:6].reset_index()\n",
        "        self.top_pyramid.columns = ('grade','count')\n",
        "        self.top_pyramid.grade = self.top_pyramid.grade.apply(self._grade_to_letter)\n",
        "        self.pyramids.append(self.top_pyramid)\n",
        "        self.titles.append(self.title)\n",
        "    \n",
        "    self.sport_pyramid = self.pyramids[0]\n",
        "    self.trad_pyramid = self.pyramids[1]\n",
        "\n",
        "    self.grades_list = '0 1 2 3 4 5 6 7 7+ 8- 8 8+ 9- 9 9+'.split()\n",
        "    self.numbs = '10 11 12 13 14 15'.split()\n",
        "    self.letters =  list('abcd')\n",
        "    for i in self.numbs:\n",
        "      for j in self.letters:\n",
        "        self.grades_list.append(i+j)\n",
        "\n",
        "  # grade_chart = pd.read_html(\"https://www.mountainproject.com/international-climbing-grades\")\n",
        "  # old_ropes = grade_chart[0].YDSUSA[:-1].to_lcancelledtheist()\n",
        "  # new_ropes = [0,0,0,0,1,2,3,4,5,6,7,7.4,8,8.4,8.8,9,9.4,9.8]+list(np.round(np.arange(10,16,.1),1))\n",
        "  # ropes_convert = dict(zip(old_ropes,new_ropes))\n",
        "\n",
        "  # tmp_df = pd.read_csv('https://www.mountainproject.com/user/109791883/trevor-clack/tick-export')\n",
        "  # tmp_df.Date = pd.to_datetime(tmp_df.Date)\n",
        "  # min_date = tmp_df.Date.min().year - 1\n",
        "  # max_date = tmp_df.Date.max().year + 1\n",
        "  # front_dates = list(range(min_date,max_date))\n",
        "  # back_dates = [d + 1 for d in front_date]\n",
        "  # front_dates = [f'01/01/{y}' for y in front_dates]\n",
        "  # back_dates = [f'01/01/{y}' for y in back_dates]\n",
        "  # date_list = list(zip(front_dates,back_dates))\n",
        "  # for start, end in date_list:\n",
        "  #   year = start[-4:]\n",
        "  #   length = round(tmp_df[(tmp_df.Date <= end) & (tmp_df.Date >= start)].Length.sum()/5280,3)\n",
        "  #   print(f'{year}: {length} miles')\n",
        "\n",
        "  def _sum_miles(self, length_data):\n",
        "    # print('test\\n\\n\\n')\n",
        "    length_data.Date = pd.to_datetime(length_data.Date)\n",
        "    min_date = length_data.Date.min().year - 1\n",
        "    max_date = length_data.Date.max().year + 1\n",
        "    front_dates = list(range(min_date,max_date))\n",
        "    back_dates = [d + 1 for d in front_dates]\n",
        "    front_dates = [f'01/01/{y}' for y in front_dates]\n",
        "    back_dates = [f'01/01/{y}' for y in back_dates]\n",
        "    date_list = list(zip(front_dates,back_dates))\n",
        "    yearly_mileage = {}\n",
        "    for start, end in date_list:\n",
        "      year = start[-4:]\n",
        "      length = round(length_data[(length_data.Date >= start) & (length_data.Date <= end)].Length.sum()/5280,3)\n",
        "      yearly_mileage[year] = length\n",
        "    return yearly_mileage\n",
        "\n",
        "  # @staticmethod\n",
        "  def _clean_data(self,document):\n",
        "    data = pd.read_csv(document)\n",
        "    length_data = data[['Date', 'Length']]\n",
        "    self.yearly_mileage = self._sum_miles(length_data)\n",
        "    data = data[['Route', 'Rating', 'Style', 'Lead Style', 'Route Type']]\n",
        "    \n",
        "    data = data.rename(columns = (dict(zip(data.columns,['route', 'grade', 'style', 'lead_style', 'type']))))\n",
        "    data.grade = data.grade.apply(self._clean_grade)\n",
        "    data = data[data['style'] == 'Lead']\n",
        "    return data\n",
        "\n",
        "  # @staticmethod\n",
        "  def _clean_grade(self, grade):\n",
        "    grade = str(grade).split()[0]\n",
        "    if grade[0] == '5':\n",
        "      grade = self.ropes_convert[grade]\n",
        "    return grade\n",
        "\n",
        "  # @staticmethod\n",
        "  def _x_round(self,x):\n",
        "    \"\"\" rounds down to nearest .25\n",
        "    eg. x_round(11.49) = 11.25, x_round(11.51) = 11.5\n",
        "    \"\"\"\n",
        "    if x >= 10:\n",
        "      return floor(x*4)/4\n",
        "    return x\n",
        "\n",
        "  # @staticmethod\n",
        "  def _grade_to_letter(self, grade):\n",
        "    letter_map = {'.0':'a', '.25':'b', '.5':'c', '.75':'d'}\n",
        "    letter_map_low = {'.0':'-', '.4':'', '.8':'+'}\n",
        "    grade = float(grade) # ensure eg. 7 is 7.0 for proper mapping\n",
        "    if grade >= 10:\n",
        "      grade = str(grade)\n",
        "      grade = grade[:2] + letter_map[grade[2:]]\n",
        "      return grade\n",
        "    else:\n",
        "      grade = str(grade)\n",
        "      grade = grade[:1] + letter_map_low[grade[1:]]\n",
        "      return grade\n",
        "\n",
        "    \n",
        "  # Rounding Key example:\n",
        "\n",
        "  # 10a, 10-, 10a/b  -> 10a\n",
        "  # 10b, 10          -> 10b\n",
        "  # 10b/c, 10c, 10+  -> 10c\n",
        "  # 10c/d, 10d       -> 10d\n",
        "\n",
        "  def _grade_to_number(self, grade):\n",
        "    letter_map = {'a':'.0', 'b':'.25', 'c':'.5', 'd':'.75', '-':'.0', '+':'.8'}\n",
        "    if grade[-1].isnumeric() == False:\n",
        "      grade = grade[:-1] + letter_map[grade[-1]]\n",
        "      print(grade)\n",
        "    else:\n",
        "      grade += '.4'\n",
        "      print(grade)\n",
        "\n",
        "\n",
        "# TODO: make \"none\" a default argument, if none, return all (boulder maybe in future)\n",
        "# otherwise return sport, trad, etc. if 'sport' or 'trad' is included\n",
        "  def show_pyramids(self,pyramid_style='sport'):\n",
        "    if pyramid_style == 'sport':\n",
        "      self.style = self.styles[0]\n",
        "      self.top_pyramid = self.pyramids[0]\n",
        "      self.title = self.titles[0]\n",
        "    elif pyramid_style == 'trad':\n",
        "      self.style = self.styles[1]\n",
        "      self.top_pyramid = self.pyramids[1]\n",
        "      self.title = self.titles[1]\n",
        "    sb.barplot(y='grade', x='count', data=self.top_pyramid, color='green')\n",
        "    plt.title(self.title)\n",
        "    plt.show()\n",
        "    print(self.top_pyramid)\n",
        "    print('\\n\\n\\t\\ttop 10')\n",
        "    print(self.style.sort_values('grade',ascending=False).head(10))\n",
        "    return None # I think I want none because I just want to display pyarmids for now. Else return self.pyramids\n",
        "\n",
        "\n",
        "# TODO: run show_pyramid first to establish trad or sport pyramid or.... pull stuff out of show_pyramid first into __init__ \n",
        "# making show_pyramids into something smaller. REASON: show_pyramids has to be called before suggest_pyramid because it establishes\n",
        "# what self.sport_pyramid and self.trad_pyramid are\n",
        "  def suggest_pyramid(self, pyramid_style='sport'):\n",
        "    if pyramid_style == 'sport':\n",
        "      self.pyramid = self.sport_pyramid\n",
        "    elif pyramid_style == 'trad':\n",
        "      self.pyramid = self.trad_pyramid\n",
        "    # else:\n",
        "    #   print('perform method \"show_pyramid\" first')\n",
        "    #   return None\n",
        "    self.scheme = [1,2,4,8,12] # may need to pass in later or set as \"class global\"\n",
        "    \n",
        "    self.top_index = self.grades_list.index(self.pyramid.grade[0]) + 1\n",
        "    self.user_grade_count_dict = dict(zip(self.pyramid.grade, self.pyramid['count']))\n",
        "    self.top_5_grades = self.grades_list[self.top_index : self.top_index - 5 : -1]\n",
        "    self.top_5_count = [ self.user_grade_count_dict.get(grade,0) for grade in self.top_5_grades] # 2nd argument in .get() gives value to be returned if non-existent\n",
        "\n",
        "    self.pyramid_copy = pd.DataFrame(zip(self.top_5_grades, self.top_5_count), columns = ['grade','count']).iloc[:5]\n",
        "    self.pyramid_copy['ideal_count'] = self.scheme\n",
        "    self.pyramid_copy['todo'] = self.pyramid_copy.ideal_count - self.pyramid_copy['count']\n",
        "    self.pyramid_copy.todo = self.pyramid_copy.todo.apply(lambda x: 0 if (x < 1) else x) # negative numbers -> 0 \n",
        "    return self.pyramid_copy\n",
        "\n",
        "  def make_recommendations(self, area_url, pyramid_style='sport'):\n",
        "    self.table = pd.read_html(area_url)[1]\n",
        "    self.table = self.table[self.table.Difficulty.str.startswith('5.')]\n",
        "    # grades\n",
        "    self.grades = self.table.Difficulty.apply(lambda x: x.split()[0])\n",
        "    self.grades = self.grades.apply(lambda x: self._x_round(self.ropes_convert[x])).apply(self._grade_to_letter) # remove V grades, convert to simplified letter grades\n",
        "    # routes\n",
        "    self.routes = self.table['Route Name'].apply(lambda x: ' '.join(x.split()[1:]))\n",
        "    # putting them together\n",
        "    self.recommendations_dict = {'grade':self.grades, 'route':self.routes}\n",
        "    self.recommendations_df = pd.DataFrame(self.recommendations_dict)\n",
        "    ########### redundant in \"suggest_pyramids\" method, consider making global#########\n",
        "    self.top_index = self.grades_list.index(self.sport_pyramid.grade[0]) + 1\n",
        "    self.user_grade_count_dict = dict(zip(self.sport_pyramid.grade, self.sport_pyramid['count']))\n",
        "    self.top_5_grades = self.grades_list[self.top_index : self.top_index - 5 : -1] # list of top grades as string\n",
        "    self.top_5_count = [ self.user_grade_count_dict.get(grade,0) for grade in self.top_5_grades] # 2nd argument in .get() gives value to be returned if non-existent\n",
        "    ###################################################################################\n",
        "    #another add in ##\n",
        "    self.successful_climbs = self.data[(self.data.lead_style == 'Redpoint') | (self.data.lead_style =='Onsight')]\n",
        "    self.successful_climbs.grade = self.successful_climbs.grade.apply(lambda x: self._grade_to_letter(self._x_round(x)))\n",
        "    self.successful_climbs_stack = self.successful_climbs[['grade','route']]\n",
        "    # successful_climbs_stack\n",
        "    #end add in\n",
        "    self.suggested_pyramid = self.suggest_pyramid(pyramid_style)\n",
        "    self.recommendations_df = self.recommendations_df[self.recommendations_df.route.isin(self.successful_climbs_stack.route) == False] # returns area classics that haven't been climbed\n",
        "    self.recommendations_df = self.recommendations_df[self.recommendations_df.grade.str.contains('|'.join(self.top_5_grades))][::-1].reset_index(drop=True) # returns the right grade range (| in the string will give an \"or\" effect)\n",
        "    self.recommendations_df[self.recommendations_df.grade.isin(self.suggested_pyramid[self.suggested_pyramid.todo > 0].grade)] # remove grades within the suggested range that have been \"overclimbed\"\n",
        "    # print(recommendations_df)\n",
        "    return self.recommendations_df"
      ],
      "execution_count": 4,
      "outputs": []
    },
    {
      "cell_type": "code",
      "metadata": {
        "id": "TU7qzxSuDZKd",
        "colab": {
          "base_uri": "https://localhost:8080/",
          "height": 114
        },
        "outputId": "235d435c-66c8-4aa9-809d-f41ace651a47"
      },
      "source": [
        "# Mountain project redacted some route names (two that I climbed had the words \"Nazi\" and \"Lynch\" in it). Here's just a way to check\n",
        "# temp = pd.read_csv(document)\n",
        "# temp[temp.Route == '[Redacted]']"
      ],
      "execution_count": null,
      "outputs": [
        {
          "output_type": "execute_result",
          "data": {
            "text/html": [
              "<div>\n",
              "<style scoped>\n",
              "    .dataframe tbody tr th:only-of-type {\n",
              "        vertical-align: middle;\n",
              "    }\n",
              "\n",
              "    .dataframe tbody tr th {\n",
              "        vertical-align: top;\n",
              "    }\n",
              "\n",
              "    .dataframe thead th {\n",
              "        text-align: right;\n",
              "    }\n",
              "</style>\n",
              "<table border=\"1\" class=\"dataframe\">\n",
              "  <thead>\n",
              "    <tr style=\"text-align: right;\">\n",
              "      <th></th>\n",
              "      <th>Date</th>\n",
              "      <th>Route</th>\n",
              "      <th>Rating</th>\n",
              "      <th>Notes</th>\n",
              "      <th>URL</th>\n",
              "      <th>Pitches</th>\n",
              "      <th>Location</th>\n",
              "      <th>Avg Stars</th>\n",
              "      <th>Your Stars</th>\n",
              "      <th>Style</th>\n",
              "      <th>Lead Style</th>\n",
              "      <th>Route Type</th>\n",
              "      <th>Your Rating</th>\n",
              "      <th>Length</th>\n",
              "      <th>Rating Code</th>\n",
              "    </tr>\n",
              "  </thead>\n",
              "  <tbody>\n",
              "    <tr>\n",
              "      <th>93</th>\n",
              "      <td>2020-01-02</td>\n",
              "      <td>[Redacted]</td>\n",
              "      <td>5.11b</td>\n",
              "      <td>With Ryan and Trev. Need to try again</td>\n",
              "      <td>https://www.mountainproject.com/route/11249508...</td>\n",
              "      <td>1</td>\n",
              "      <td>California &gt; High Desert &gt; Barstow Area &gt; New ...</td>\n",
              "      <td>2.3</td>\n",
              "      <td>-1</td>\n",
              "      <td>Lead</td>\n",
              "      <td>Fell/Hung</td>\n",
              "      <td>Sport</td>\n",
              "      <td>NaN</td>\n",
              "      <td>60.0</td>\n",
              "      <td>4900</td>\n",
              "    </tr>\n",
              "  </tbody>\n",
              "</table>\n",
              "</div>"
            ],
            "text/plain": [
              "          Date       Route Rating  ... Your Rating Length  Rating Code\n",
              "93  2020-01-02  [Redacted]  5.11b  ...         NaN   60.0         4900\n",
              "\n",
              "[1 rows x 15 columns]"
            ]
          },
          "metadata": {
            "tags": []
          },
          "execution_count": 19
        }
      ]
    },
    {
      "cell_type": "code",
      "metadata": {
        "id": "Vr5B0SLjMwzR",
        "colab": {
          "base_uri": "https://localhost:8080/",
          "height": 839
        },
        "outputId": "71b08b3b-a9cc-46b9-9477-f3ecc0428711"
      },
      "source": [
        "# document = \"https://www.mountainproject.com/user/109791883/trevor-clack/tick-export\"   # Trevor\n",
        "document = \"https://www.mountainproject.com/user/110296901/morgan-f/tick-export\"  # Morgan\n",
        "# document = \"https://www.mountainproject.com/user/106234022/stormeh/tick-export\" # Ryan Murphy\n",
        "# area_url = \"https://www.mountainproject.com/area/classics/108189726/fairview-mountain\"\n",
        "area_url = \"https://www.mountainproject.com/area/classics/105931166/central-pinnacles\"\n",
        "P = Pyramid(document)\n",
        "# P.make_recommendations(area_url)\n",
        "# P.show_pyramids('trad')\n",
        "P.show_pyramids()\n",
        "\n",
        "# TODO: fix the show_pyramids, with 'None' it shows one then doesn't show the other"
      ],
      "execution_count": 8,
      "outputs": [
        {
          "output_type": "stream",
          "text": [
            "/usr/local/lib/python3.6/dist-packages/pandas/core/generic.py:5168: SettingWithCopyWarning:\n",
            "\n",
            "\n",
            "A value is trying to be set on a copy of a slice from a DataFrame.\n",
            "Try using .loc[row_indexer,col_indexer] = value instead\n",
            "\n",
            "See the caveats in the documentation: https://pandas.pydata.org/pandas-docs/stable/user_guide/indexing.html#returning-a-view-versus-a-copy\n",
            "\n"
          ],
          "name": "stderr"
        },
        {
          "output_type": "display_data",
          "data": {
            "image/png": "[encoded data removed]",
            "text/plain": [
              "<Figure size 432x288 with 1 Axes>"
            ]
          },
          "metadata": {
            "tags": []
          }
        },
        {
          "output_type": "stream",
          "text": [
            "  grade  count\n",
            "0   11c      1\n",
            "1   11b      1\n",
            "2   11a     10\n",
            "3   10d      7\n",
            "4   10c     19\n",
            "5   10b     12\n",
            "\n",
            "\n",
            "\t\ttop 10\n",
            "              route grade style lead_style   type\n",
            "64     Lean Cuisine  11.6  Lead   Redpoint  Sport\n",
            "33        King Spud  11.3  Lead   Redpoint  Sport\n",
            "38      Light Saber    11  Lead    Onsight  Sport\n",
            "40    Brown Recluse    11  Lead   Redpoint  Sport\n",
            "16      unknown 11a    11  Lead    Onsight  Sport\n",
            "19            Foops    11  Lead    Onsight  Sport\n",
            "41    Dragon Breath    11  Lead    Onsight  Sport\n",
            "54   Little Fighter    11  Lead    Onsight  Sport\n",
            "53     Face Odyssey    11  Lead    Onsight  Sport\n",
            "109     Hole In One    11  Lead    Onsight  Sport\n"
          ],
          "name": "stdout"
        }
      ]
    },
    {
      "cell_type": "code",
      "metadata": {
        "id": "5WSBZxF7uTLE",
        "colab": {
          "base_uri": "https://localhost:8080/"
        },
        "outputId": "c1476471-3b3e-425a-ee44-1287d60889f6"
      },
      "source": [
        "P.yearly_mileage"
      ],
      "execution_count": 9,
      "outputs": [
        {
          "output_type": "execute_result",
          "data": {
            "text/plain": [
              "{'2013': 0.0,\n",
              " '2014': 0.166,\n",
              " '2015': 1.032,\n",
              " '2016': 0.8,\n",
              " '2017': 0.673,\n",
              " '2018': 0.855,\n",
              " '2019': 0.357,\n",
              " '2020': 0.956}"
            ]
          },
          "metadata": {
            "tags": []
          },
          "execution_count": 9
        }
      ]
    },
    {
      "cell_type": "code",
      "metadata": {
        "id": "6AKP02zwNxrr",
        "colab": {
          "base_uri": "https://localhost:8080/",
          "height": 703
        },
        "outputId": "286959bf-da75-4974-ce1e-8a542969bb17"
      },
      "source": [
        "P.show_pyramids('sport')"
      ],
      "execution_count": null,
      "outputs": [
        {
          "output_type": "display_data",
          "data": {
            "image/png": "[encoded data removed]",
            "text/plain": [
              "<Figure size 432x288 with 1 Axes>"
            ]
          },
          "metadata": {
            "tags": []
          }
        },
        {
          "output_type": "stream",
          "text": [
            "  grade  count\n",
            "0   11c      1\n",
            "1   11b      3\n",
            "2   11a      9\n",
            "3   10d      5\n",
            "4   10c     13\n",
            "5   10b     21\n",
            "\n",
            "\n",
            "\t\ttop 10\n",
            "                route grade style lead_style   type\n",
            "42       Lean Cuisine  11.6  Lead   Redpoint  Sport\n",
            "261          Sun Dogs  11.3  Lead    Onsight  Sport\n",
            "260     Space Cowboys  11.3  Lead    Onsight  Sport\n",
            "95         [Redacted]  11.3  Lead   Redpoint  Sport\n",
            "33     Moby's Revenge    11  Lead    Onsight  Sport\n",
            "262  Starship Trooper    11  Lead    Onsight  Sport\n",
            "91        Dark Matter    11  Lead    Onsight  Sport\n",
            "247       Jack Jumped    11  Lead   Redpoint  Sport\n",
            "124    Pistol Whipped    11  Lead   Redpoint  Sport\n",
            "80        Light Saber    11  Lead    Onsight  Sport\n"
          ],
          "name": "stdout"
        }
      ]
    },
    {
      "cell_type": "markdown",
      "metadata": {
        "id": "oirYAq_CsYSR"
      },
      "source": [
        "### OVERLAP"
      ]
    },
    {
      "cell_type": "code",
      "metadata": {
        "id": "cGm-Vn7T2t3q",
        "outputId": "dd710e26-6edf-4303-fe5d-1679e3423d61",
        "colab": {
          "base_uri": "https://localhost:8080/"
        }
      },
      "source": [
        "trevor_doc = \"https://www.mountainproject.com/user/109791883/trevor-clack/tick-export\"   # Trevor\n",
        "morgan_doc = \"https://www.mountainproject.com/user/110296901/morgan-f/tick-export\"  # Morgan\n",
        "ryan_doc = \"https://www.mountainproject.com/user/106234022/stormeh/tick-export\" # Ryan Murphy\n",
        "P_ryan = Pyramid(ryan_doc)\n",
        "P_trevor = Pyramid(trevor_doc)\n",
        "P_morgan = Pyramid(morgan_doc)\n"
      ],
      "execution_count": 10,
      "outputs": [
        {
          "output_type": "stream",
          "text": [
            "/usr/local/lib/python3.6/dist-packages/pandas/core/generic.py:5168: SettingWithCopyWarning:\n",
            "\n",
            "\n",
            "A value is trying to be set on a copy of a slice from a DataFrame.\n",
            "Try using .loc[row_indexer,col_indexer] = value instead\n",
            "\n",
            "See the caveats in the documentation: https://pandas.pydata.org/pandas-docs/stable/user_guide/indexing.html#returning-a-view-versus-a-copy\n",
            "\n",
            "/usr/local/lib/python3.6/dist-packages/pandas/core/generic.py:5168: SettingWithCopyWarning:\n",
            "\n",
            "\n",
            "A value is trying to be set on a copy of a slice from a DataFrame.\n",
            "Try using .loc[row_indexer,col_indexer] = value instead\n",
            "\n",
            "See the caveats in the documentation: https://pandas.pydata.org/pandas-docs/stable/user_guide/indexing.html#returning-a-view-versus-a-copy\n",
            "\n",
            "/usr/local/lib/python3.6/dist-packages/pandas/core/generic.py:5168: SettingWithCopyWarning:\n",
            "\n",
            "\n",
            "A value is trying to be set on a copy of a slice from a DataFrame.\n",
            "Try using .loc[row_indexer,col_indexer] = value instead\n",
            "\n",
            "See the caveats in the documentation: https://pandas.pydata.org/pandas-docs/stable/user_guide/indexing.html#returning-a-view-versus-a-copy\n",
            "\n"
          ],
          "name": "stderr"
        }
      ]
    },
    {
      "cell_type": "code",
      "metadata": {
        "id": "P4hIeen75wGE",
        "colab": {
          "base_uri": "https://localhost:8080/"
        },
        "outputId": "7c5c8f47-d7ce-4caa-c5a2-13815648a7c4"
      },
      "source": [
        "url = \"https://www.mountainproject.com/area/classics/108189726/fairview-mountain\"\n",
        "t_rec = P_trevor.make_recommendations(url)\n",
        "r_rec = P_ryan.make_recommendations(url)\n",
        "m_rec = P_morgan.make_recommendations(url)\n"
      ],
      "execution_count": 11,
      "outputs": [
        {
          "output_type": "stream",
          "text": [
            "/usr/local/lib/python3.6/dist-packages/pandas/core/generic.py:5168: SettingWithCopyWarning:\n",
            "\n",
            "\n",
            "A value is trying to be set on a copy of a slice from a DataFrame.\n",
            "Try using .loc[row_indexer,col_indexer] = value instead\n",
            "\n",
            "See the caveats in the documentation: https://pandas.pydata.org/pandas-docs/stable/user_guide/indexing.html#returning-a-view-versus-a-copy\n",
            "\n",
            "/usr/local/lib/python3.6/dist-packages/pandas/core/generic.py:5168: SettingWithCopyWarning:\n",
            "\n",
            "\n",
            "A value is trying to be set on a copy of a slice from a DataFrame.\n",
            "Try using .loc[row_indexer,col_indexer] = value instead\n",
            "\n",
            "See the caveats in the documentation: https://pandas.pydata.org/pandas-docs/stable/user_guide/indexing.html#returning-a-view-versus-a-copy\n",
            "\n",
            "/usr/local/lib/python3.6/dist-packages/pandas/core/generic.py:5168: SettingWithCopyWarning:\n",
            "\n",
            "\n",
            "A value is trying to be set on a copy of a slice from a DataFrame.\n",
            "Try using .loc[row_indexer,col_indexer] = value instead\n",
            "\n",
            "See the caveats in the documentation: https://pandas.pydata.org/pandas-docs/stable/user_guide/indexing.html#returning-a-view-versus-a-copy\n",
            "\n"
          ],
          "name": "stderr"
        }
      ]
    },
    {
      "cell_type": "code",
      "metadata": {
        "id": "9rAd6qwc9YLa",
        "colab": {
          "base_uri": "https://localhost:8080/",
          "height": 204
        },
        "outputId": "8a4a4137-d7e2-45c8-9419-2bef1485b204"
      },
      "source": [
        "# Merging the \"todos\" of everyone will find the area classics no one has done but \"need to do\" in order to fill their pyramids\n",
        "t_rec.merge(m_rec).merge(r_rec)\n",
        "# P_trevor.suggest_pyramid()"
      ],
      "execution_count": 12,
      "outputs": [
        {
          "output_type": "execute_result",
          "data": {
            "text/html": [
              "<div>\n",
              "<style scoped>\n",
              "    .dataframe tbody tr th:only-of-type {\n",
              "        vertical-align: middle;\n",
              "    }\n",
              "\n",
              "    .dataframe tbody tr th {\n",
              "        vertical-align: top;\n",
              "    }\n",
              "\n",
              "    .dataframe thead th {\n",
              "        text-align: right;\n",
              "    }\n",
              "</style>\n",
              "<table border=\"1\" class=\"dataframe\">\n",
              "  <thead>\n",
              "    <tr style=\"text-align: right;\">\n",
              "      <th></th>\n",
              "      <th>grade</th>\n",
              "      <th>route</th>\n",
              "    </tr>\n",
              "  </thead>\n",
              "  <tbody>\n",
              "    <tr>\n",
              "      <th>0</th>\n",
              "      <td>11a</td>\n",
              "      <td>High Desert Hospitality</td>\n",
              "    </tr>\n",
              "    <tr>\n",
              "      <th>1</th>\n",
              "      <td>11a</td>\n",
              "      <td>Solar Warrior Dynasty</td>\n",
              "    </tr>\n",
              "    <tr>\n",
              "      <th>2</th>\n",
              "      <td>11a</td>\n",
              "      <td>Hangnail</td>\n",
              "    </tr>\n",
              "    <tr>\n",
              "      <th>3</th>\n",
              "      <td>10d</td>\n",
              "      <td>Size Matters Not</td>\n",
              "    </tr>\n",
              "    <tr>\n",
              "      <th>4</th>\n",
              "      <td>10d</td>\n",
              "      <td>Stretch Armstrong</td>\n",
              "    </tr>\n",
              "  </tbody>\n",
              "</table>\n",
              "</div>"
            ],
            "text/plain": [
              "  grade                    route\n",
              "0   11a  High Desert Hospitality\n",
              "1   11a    Solar Warrior Dynasty\n",
              "2   11a                 Hangnail\n",
              "3   10d         Size Matters Not\n",
              "4   10d        Stretch Armstrong"
            ]
          },
          "metadata": {
            "tags": []
          },
          "execution_count": 12
        }
      ]
    },
    {
      "cell_type": "code",
      "metadata": {
        "id": "20hG5GnXClKy"
      },
      "source": [
        ""
      ],
      "execution_count": null,
      "outputs": []
    }
  ]
}