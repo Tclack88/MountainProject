{
  "nbformat": 4,
  "nbformat_minor": 0,
  "metadata": {
    "colab": {
      "name": "rp_os_pyramids.ipynb",
      "provenance": [],
      "collapsed_sections": [],
      "include_colab_link": true
    },
    "kernelspec": {
      "name": "python3",
      "display_name": "Python 3"
    }
  },
  "cells": [
    {
      "cell_type": "markdown",
      "metadata": {
        "id": "view-in-github",
        "colab_type": "text"
      },
      "source": [
        "<a href=\"https://colab.research.google.com/github/Tclack88/MountainProject/blob/master/rp_os_pyramids.ipynb\" target=\"_parent\"><img src=\"https://colab.research.google.com/assets/colab-badge.svg\" alt=\"Open In Colab\"/></a>"
      ]
    },
    {
      "cell_type": "markdown",
      "metadata": {
        "id": "6VlLwOX4lTkv",
        "colab_type": "text"
      },
      "source": [
        "# Redpoint/Onsight ladders"
      ]
    },
    {
      "cell_type": "code",
      "metadata": {
        "id": "Uzj-wV58AInN",
        "colab_type": "code",
        "colab": {}
      },
      "source": [
        "# Person being considered\n",
        "\n",
        "document = \"https://www.mountainproject.com/user/109791883/trevor-clack/tick-export\"\n",
        "# document = \"https://www.mountainproject.com/user/110296901/morgan-f/tick-export\""
      ],
      "execution_count": 0,
      "outputs": []
    },
    {
      "cell_type": "code",
      "metadata": {
        "id": "jh1GkF2MlwNx",
        "colab_type": "code",
        "colab": {}
      },
      "source": [
        "import pandas as pd\n",
        "import numpy as np\n",
        "from math import floor\n",
        "from datetime import datetime as dt\n",
        "import seaborn as sb\n",
        "import matplotlib.pyplot as plt\n",
        "sb.set(style='whitegrid')"
      ],
      "execution_count": 0,
      "outputs": []
    },
    {
      "cell_type": "code",
      "metadata": {
        "id": "OKNxUUODmKva",
        "colab_type": "code",
        "colab": {}
      },
      "source": [
        "# Get Grade for conversion (from Mountain Project's official grade converter)\n",
        "grade_chart = pd.read_html(\"https://www.mountainproject.com/international-climbing-grades\")\n",
        "old_ropes = grade_chart[0].YDSUSA[:-1].to_list()\n",
        "new_ropes = [0,0,0,0,1,2,3,4,5,6,7,7.4,8,8.4,8.8,9,9.4,9.8]+list(np.round(np.arange(10,16,.1),1))\n",
        "ropes_convert = dict(zip(old_ropes,new_ropes))"
      ],
      "execution_count": 0,
      "outputs": []
    },
    {
      "cell_type": "code",
      "metadata": {
        "colab_type": "code",
        "id": "Uxj0kxSHEzTs",
        "colab": {}
      },
      "source": [
        "# Supporting functions for clean and prep pipeline\n",
        "def clean_grade(grade):\n",
        "  grade = str(grade).split()[0]\n",
        "  if grade[0] == '5':\n",
        "    grade = ropes_convert[grade]\n",
        "    return grade\n",
        "\n",
        "def x_round(x):\n",
        "  \"\"\" rounds down to nearest .25\n",
        "  eg. x_round(11.49) = 11.25, x_round(11.51) = 11.5\n",
        "  \"\"\"\n",
        "  if x >= 10:\n",
        "    return floor(x*4)/4\n",
        "  else: return x\n",
        "\n",
        "\n",
        "# Rounding Key example:\n",
        "\n",
        "# 10a, 10-, 10a/b  -> 10a\n",
        "# 10b, 10          -> 10b\n",
        "# 10b/c, 10c, 10+  -> 10c\n",
        "# 10c/d, 10d       -> 10d\n",
        "\n",
        "# def grade_to_number(grade):\n",
        "#   letter_map = {'a':'.0', 'b':'.25', 'c':'.5', 'd':'.75', '-':'.0', '+':'.8'}\n",
        "#   if grade[-1].isnumeric() == False:\n",
        "#     grade = grade[:-1] + letter_map[grade[-1]]\n",
        "#     print(grade)\n",
        "#   else:\n",
        "#     grade += '.4'\n",
        "#     print(grade)\n",
        "\n",
        "\n",
        "def grade_to_letter(grade):\n",
        "  letter_map = {'.0':'a', '.25':'b', '.5':'c', '.75':'d'}\n",
        "  letter_map_low = {'.0':'-', '.4':'', '.8':'+'}\n",
        "  if grade >= 10:\n",
        "    grade = str(grade)\n",
        "    grade = grade[:2] + letter_map[grade[2:]]\n",
        "    return grade\n",
        "  else:\n",
        "    grade = str(grade)\n",
        "    grade = grade[:1] + letter_map_low[grade[1:]]\n",
        "    return grade\n"
      ],
      "execution_count": 0,
      "outputs": []
    },
    {
      "cell_type": "code",
      "metadata": {
        "id": "0og2L_rnVnYI",
        "colab_type": "code",
        "outputId": "2d377456-2110-4ec6-bc12-f661bd882f4a",
        "colab": {
          "base_uri": "https://localhost:8080/",
          "height": 1000
        }
      },
      "source": [
        "climber = document.split('/')[-2].replace('-',' ').title()\n",
        "date = dt.now().strftime('%-d%b%Y')\n",
        "data = pd.read_csv(document)\n",
        "data = data[['Route', 'Rating', 'Style', 'Lead Style', 'Route Type']]\n",
        "data = data.rename(columns = (dict(zip(data.columns,['route', 'grade', 'style', 'lead_style', 'type']))))\n",
        "data.grade = data.grade.apply(clean_grade)\n",
        "data = data[data['style'] == 'Lead']\n",
        "# Split Trad and Sport data\n",
        "trad = data[(data['type'] == 'Trad') | (data['type'] == 'Trad, Sport') | (data['type'] == 'Trad, Alpine') | (data['type'] == 'Trad, Aid')]\n",
        "sport = data[(data['type'] == 'Sport') | (data['type'] == 'Sport, TR')]\n",
        "trad_rp = trad[trad.lead_style == 'Redpoint']\n",
        "trad_os = trad[trad.lead_style == 'Onsight']\n",
        "trad_os.grade.apply(x_round).value_counts().sort_index(ascending=False)\n",
        "sport_rp = sport[sport.lead_style == 'Redpoint']\n",
        "sport_os = sport[sport.lead_style == 'Onsight']\n",
        "\n",
        "\n",
        "styles = [sport_os, sport_rp, trad_os, trad_rp]\n",
        "\n",
        "for style in styles:\n",
        "  if not style.empty:\n",
        "    title = f\"{climber}\\n{style.iloc[0]['type'].split(',')[0]} {style.iloc[0].lead_style} pyramid \\n{date}\\n\"\n",
        "    top_pyramid = style.grade.apply(x_round).value_counts().sort_index(ascending=False).iloc[:6].reset_index()\n",
        "    top_pyramid.columns = ('grade','count')\n",
        "    top_pyramid.grade = top_pyramid.grade.apply(grade_to_letter)\n",
        "    sb.barplot(y='grade', x='count', data=top_pyramid, color='green')\n",
        "    plt.title(title)\n",
        "    plt.show()\n",
        "    print(top_pyramid)\n",
        "\n"
      ],
      "execution_count": 5,
      "outputs": [
        {
          "output_type": "display_data",
          "data": {
            "image/png": "[encoded data removed]",
            "text/plain": [
              "<Figure size 432x288 with 1 Axes>"
            ]
          },
          "metadata": {
            "tags": []
          }
        },
        {
          "output_type": "stream",
          "text": [
            "  grade  count\n",
            "0   11b      2\n",
            "1   11a      2\n",
            "2   10d      1\n",
            "3   10c      7\n",
            "4   10b     15\n",
            "5   10a     31\n"
          ],
          "name": "stdout"
        },
        {
          "output_type": "display_data",
          "data": {
            "image/png": "[encoded data removed]",
            "text/plain": [
              "<Figure size 432x288 with 1 Axes>"
            ]
          },
          "metadata": {
            "tags": []
          }
        },
        {
          "output_type": "stream",
          "text": [
            "  grade  count\n",
            "0   11b      1\n",
            "1   11a      3\n",
            "2   10d      2\n",
            "3   10c      2\n",
            "4   10b      1\n",
            "5   10a      6\n"
          ],
          "name": "stdout"
        },
        {
          "output_type": "display_data",
          "data": {
            "image/png": "[encoded data removed]",
            "text/plain": [
              "<Figure size 432x288 with 1 Axes>"
            ]
          },
          "metadata": {
            "tags": []
          }
        },
        {
          "output_type": "stream",
          "text": [
            "  grade  count\n",
            "0   10d      1\n",
            "1   10c      2\n",
            "2   10b      7\n",
            "3   10a      7\n",
            "4    9+      6\n",
            "5     9     11\n"
          ],
          "name": "stdout"
        },
        {
          "output_type": "display_data",
          "data": {
            "image/png": "[encoded data removed]",
            "text/plain": [
              "<Figure size 432x288 with 1 Axes>"
            ]
          },
          "metadata": {
            "tags": []
          }
        },
        {
          "output_type": "stream",
          "text": [
            "  grade  count\n",
            "0   10b      1\n",
            "1   10a      1\n",
            "2     9      1\n"
          ],
          "name": "stdout"
        }
      ]
    },
    {
      "cell_type": "code",
      "metadata": {
        "id": "La5M4joaNXl5",
        "colab_type": "code",
        "outputId": "e28af51a-6cbb-4b72-9b02-24fadf0faf82",
        "colab": {
          "base_uri": "https://localhost:8080/",
          "height": 521
        }
      },
      "source": [
        "successful_climbs = data[(data.lead_style == 'Redpoint') | (data.lead_style =='Onsight')]\n",
        "successful_climbs.grade = successful_climbs.grade.apply(lambda x: grade_to_letter(x_round(x)))\n",
        "successful_climbs_stack = successful_climbs[['grade','route']]\n",
        "successful_climbs_stack"
      ],
      "execution_count": 6,
      "outputs": [
        {
          "output_type": "stream",
          "text": [
            "/usr/local/lib/python3.6/dist-packages/pandas/core/generic.py:5208: SettingWithCopyWarning: \n",
            "A value is trying to be set on a copy of a slice from a DataFrame.\n",
            "Try using .loc[row_indexer,col_indexer] = value instead\n",
            "\n",
            "See the caveats in the documentation: http://pandas.pydata.org/pandas-docs/stable/user_guide/indexing.html#returning-a-view-versus-a-copy\n",
            "  self[name] = value\n"
          ],
          "name": "stderr"
        },
        {
          "output_type": "execute_result",
          "data": {
            "text/html": [
              "<div>\n",
              "<style scoped>\n",
              "    .dataframe tbody tr th:only-of-type {\n",
              "        vertical-align: middle;\n",
              "    }\n",
              "\n",
              "    .dataframe tbody tr th {\n",
              "        vertical-align: top;\n",
              "    }\n",
              "\n",
              "    .dataframe thead th {\n",
              "        text-align: right;\n",
              "    }\n",
              "</style>\n",
              "<table border=\"1\" class=\"dataframe\">\n",
              "  <thead>\n",
              "    <tr style=\"text-align: right;\">\n",
              "      <th></th>\n",
              "      <th>grade</th>\n",
              "      <th>route</th>\n",
              "    </tr>\n",
              "  </thead>\n",
              "  <tbody>\n",
              "    <tr>\n",
              "      <th>0</th>\n",
              "      <td>9</td>\n",
              "      <td>Padewan</td>\n",
              "    </tr>\n",
              "    <tr>\n",
              "      <th>1</th>\n",
              "      <td>10c</td>\n",
              "      <td>Yoda</td>\n",
              "    </tr>\n",
              "    <tr>\n",
              "      <th>2</th>\n",
              "      <td>10c</td>\n",
              "      <td>False Flag</td>\n",
              "    </tr>\n",
              "    <tr>\n",
              "      <th>3</th>\n",
              "      <td>9+</td>\n",
              "      <td>Crisis Actors</td>\n",
              "    </tr>\n",
              "    <tr>\n",
              "      <th>4</th>\n",
              "      <td>11a</td>\n",
              "      <td>Agent Orange</td>\n",
              "    </tr>\n",
              "    <tr>\n",
              "      <th>...</th>\n",
              "      <td>...</td>\n",
              "      <td>...</td>\n",
              "    </tr>\n",
              "    <tr>\n",
              "      <th>492</th>\n",
              "      <td>8</td>\n",
              "      <td>Fear the Smear</td>\n",
              "    </tr>\n",
              "    <tr>\n",
              "      <th>493</th>\n",
              "      <td>6-</td>\n",
              "      <td>I'm Just a Bill</td>\n",
              "    </tr>\n",
              "    <tr>\n",
              "      <th>495</th>\n",
              "      <td>7-</td>\n",
              "      <td>The Check's in the Mail</td>\n",
              "    </tr>\n",
              "    <tr>\n",
              "      <th>538</th>\n",
              "      <td>9</td>\n",
              "      <td>Powder Puff Girls</td>\n",
              "    </tr>\n",
              "    <tr>\n",
              "      <th>539</th>\n",
              "      <td>9</td>\n",
              "      <td>Power Ranger</td>\n",
              "    </tr>\n",
              "  </tbody>\n",
              "</table>\n",
              "<p>208 rows × 2 columns</p>\n",
              "</div>"
            ],
            "text/plain": [
              "    grade                    route\n",
              "0       9                  Padewan\n",
              "1     10c                     Yoda\n",
              "2     10c               False Flag\n",
              "3      9+            Crisis Actors\n",
              "4     11a             Agent Orange\n",
              "..    ...                      ...\n",
              "492     8           Fear the Smear\n",
              "493    6-          I'm Just a Bill\n",
              "495    7-  The Check's in the Mail\n",
              "538     9        Powder Puff Girls\n",
              "539     9             Power Ranger\n",
              "\n",
              "[208 rows x 2 columns]"
            ]
          },
          "metadata": {
            "tags": []
          },
          "execution_count": 6
        }
      ]
    },
    {
      "cell_type": "markdown",
      "metadata": {
        "id": "BytTpGTZlzcj",
        "colab_type": "text"
      },
      "source": [
        "## Combined redpoint and os pyramid"
      ]
    },
    {
      "cell_type": "code",
      "metadata": {
        "id": "6xt92l715u7o",
        "colab_type": "code",
        "colab": {}
      },
      "source": [
        "def make_pyramid(document):\n",
        "  climber = document.split('/')[-2].replace('-',' ').title()\n",
        "  date = dt.now().strftime('%-d%b%Y')\n",
        "  data = pd.read_csv(document)\n",
        "  data = data[['Route', 'Rating', 'Style', 'Lead Style', 'Route Type']]\n",
        "  data = data.rename(columns = (dict(zip(data.columns,['route', 'grade', 'style', 'lead_style', 'type']))))\n",
        "  data.grade = data.grade.apply(clean_grade)\n",
        "  data = data[data['style'] == 'Lead']\n",
        "  # Split Trad and Sport data\n",
        "  trad = data[(data['type'] == 'Trad') | (data['type'] == 'Trad, Sport') | (data['type'] == 'Trad, Alpine') | (data['type'] == 'Trad, Aid')]\n",
        "  sport = data[(data['type'] == 'Sport') | (data['type'] == 'Sport, TR')]\n",
        "  trad_rp = trad[trad.lead_style == 'Redpoint']\n",
        "  trad_os = trad[trad.lead_style == 'Onsight']\n",
        "  trad_os.grade.apply(x_round).value_counts().sort_index(ascending=False)\n",
        "  sport_rp = sport[sport.lead_style == 'Redpoint']\n",
        "  sport_os = sport[sport.lead_style == 'Onsight']\n",
        "\n",
        "  sport_combined = pd.concat([sport_rp,sport_os], axis=0)\n",
        "  trad_combined = pd.concat([trad_rp, trad_os], axis=0)\n",
        "  styles = [sport_combined, trad_combined]\n",
        "\n",
        "  pyramids = []\n",
        "  for style in styles:\n",
        "    if not style.empty:\n",
        "      title = f\"{climber}\\n{style.iloc[0]['type'].split(',')[0]} pyramid \\n as of {date}\\n\"\n",
        "      top_pyramid = style.grade.apply(x_round).value_counts().sort_index(ascending=False).iloc[:6].reset_index()\n",
        "      top_pyramid.columns = ('grade','count')\n",
        "      top_pyramid.grade = top_pyramid.grade.apply(grade_to_letter)\n",
        "      sb.barplot(y='grade', x='count', data=top_pyramid, color='green')\n",
        "      plt.title(title)\n",
        "      plt.show()\n",
        "      print(top_pyramid)\n",
        "      print('\\n\\n\\t\\ttop 10')\n",
        "      print(style.sort_values('grade',ascending=False).head(10))\n",
        "      pyramids.append(top_pyramid)\n",
        "\n",
        "  return pyramids"
      ],
      "execution_count": 0,
      "outputs": []
    },
    {
      "cell_type": "code",
      "metadata": {
        "id": "-DRO4K58DVqy",
        "colab_type": "code",
        "outputId": "d081044a-7632-4a47-e79f-c252214e53e8",
        "colab": {
          "base_uri": "https://localhost:8080/",
          "height": 1000
        }
      },
      "source": [
        "# document = \"https://www.mountainproject.com/user/109791883/trevor-clack/tick-export\"   # Trevor\n",
        "# document = \"https://www.mountainproject.com/user/110296901/morgan-f/tick-export\"  # Morgan\n",
        "\n",
        "sport_pyramid, trad_pyramid = make_pyramid(document)"
      ],
      "execution_count": 8,
      "outputs": [
        {
          "output_type": "display_data",
          "data": {
            "image/png": "[encoded data removed]",
            "text/plain": [
              "<Figure size 432x288 with 1 Axes>"
            ]
          },
          "metadata": {
            "tags": []
          }
        },
        {
          "output_type": "stream",
          "text": [
            "  grade  count\n",
            "0   11b      3\n",
            "1   11a      5\n",
            "2   10d      3\n",
            "3   10c      9\n",
            "4   10b     16\n",
            "5   10a     37\n",
            "\n",
            "\n",
            "\t\ttop 10\n",
            "                       route  grade style lead_style   type\n",
            "178            Space Cowboys   11.3  Lead    Onsight  Sport\n",
            "179                 Sun Dogs   11.3  Lead    Onsight  Sport\n",
            "12   This Nazi Shit Won't Do   11.3  Lead   Redpoint  Sport\n",
            "4               Agent Orange   11.2  Lead   Redpoint  Sport\n",
            "41            Pistol Whipped   11.0  Lead   Redpoint  Sport\n",
            "180         Starship Trooper   11.0  Lead    Onsight  Sport\n",
            "165              Jack Jumped   11.0  Lead   Redpoint  Sport\n",
            "8                Dark Matter   11.0  Lead    Onsight  Sport\n",
            "122          Tangerine Dream   10.9  Lead   Redpoint  Sport\n",
            "469    Better Luck Next Time   10.9  Lead    Onsight  Sport\n"
          ],
          "name": "stdout"
        },
        {
          "output_type": "display_data",
          "data": {
            "image/png": "[encoded data removed]",
            "text/plain": [
              "<Figure size 432x288 with 1 Axes>"
            ]
          },
          "metadata": {
            "tags": []
          }
        },
        {
          "output_type": "stream",
          "text": [
            "  grade  count\n",
            "0   10d      1\n",
            "1   10c      2\n",
            "2   10b      8\n",
            "3   10a      8\n",
            "4    9+      6\n",
            "5     9     12\n",
            "\n",
            "\n",
            "\t\ttop 10\n",
            "                                  route  grade style lead_style       type\n",
            "139                           Two Timer   10.9  Lead    Onsight       Trad\n",
            "132                 Heart of the Desert   10.6  Lead    Onsight       Trad\n",
            "154                     Amaretto Corner   10.5  Lead    Onsight       Trad\n",
            "160                            Jojobean   10.4  Lead    Onsight       Trad\n",
            "137  Unnamed II (fingers through fists)   10.4  Lead    Onsight       Trad\n",
            "125                      Stolen Chimney   10.4  Lead    Onsight  Trad, Aid\n",
            "153                           3AM Crack   10.4  Lead    Onsight       Trad\n",
            "156            Supercrack of the Desert   10.4  Lead    Onsight       Trad\n",
            "158                           Manifesto   10.4  Lead    Onsight       Trad\n",
            "146                           Bar fight   10.4  Lead    Onsight       Trad\n"
          ],
          "name": "stdout"
        }
      ]
    },
    {
      "cell_type": "markdown",
      "metadata": {
        "id": "uuLSgTi1765R",
        "colab_type": "text"
      },
      "source": [
        "## Make suggestions to \"fill out\" pyramid"
      ]
    },
    {
      "cell_type": "code",
      "metadata": {
        "id": "VCw_9R8F7-4R",
        "colab_type": "code",
        "outputId": "df2ce93e-3c86-430b-e8c6-09b70ef38fb4",
        "colab": {
          "base_uri": "https://localhost:8080/",
          "height": 235
        }
      },
      "source": [
        "# pros are usually 1, 3, 20, 50, 100 (based on 8a.nu)\n",
        "# intermediate maybe 1, 3, 10, 20, 30\n",
        "# 1 2 4 8 12 seems reasonable for a beginner\n",
        "\n",
        "\n",
        "sport_pyramid"
      ],
      "execution_count": 9,
      "outputs": [
        {
          "output_type": "execute_result",
          "data": {
            "text/html": [
              "<div>\n",
              "<style scoped>\n",
              "    .dataframe tbody tr th:only-of-type {\n",
              "        vertical-align: middle;\n",
              "    }\n",
              "\n",
              "    .dataframe tbody tr th {\n",
              "        vertical-align: top;\n",
              "    }\n",
              "\n",
              "    .dataframe thead th {\n",
              "        text-align: right;\n",
              "    }\n",
              "</style>\n",
              "<table border=\"1\" class=\"dataframe\">\n",
              "  <thead>\n",
              "    <tr style=\"text-align: right;\">\n",
              "      <th></th>\n",
              "      <th>grade</th>\n",
              "      <th>count</th>\n",
              "    </tr>\n",
              "  </thead>\n",
              "  <tbody>\n",
              "    <tr>\n",
              "      <th>0</th>\n",
              "      <td>11b</td>\n",
              "      <td>3</td>\n",
              "    </tr>\n",
              "    <tr>\n",
              "      <th>1</th>\n",
              "      <td>11a</td>\n",
              "      <td>5</td>\n",
              "    </tr>\n",
              "    <tr>\n",
              "      <th>2</th>\n",
              "      <td>10d</td>\n",
              "      <td>3</td>\n",
              "    </tr>\n",
              "    <tr>\n",
              "      <th>3</th>\n",
              "      <td>10c</td>\n",
              "      <td>9</td>\n",
              "    </tr>\n",
              "    <tr>\n",
              "      <th>4</th>\n",
              "      <td>10b</td>\n",
              "      <td>16</td>\n",
              "    </tr>\n",
              "    <tr>\n",
              "      <th>5</th>\n",
              "      <td>10a</td>\n",
              "      <td>37</td>\n",
              "    </tr>\n",
              "  </tbody>\n",
              "</table>\n",
              "</div>"
            ],
            "text/plain": [
              "  grade  count\n",
              "0   11b      3\n",
              "1   11a      5\n",
              "2   10d      3\n",
              "3   10c      9\n",
              "4   10b     16\n",
              "5   10a     37"
            ]
          },
          "metadata": {
            "tags": []
          },
          "execution_count": 9
        }
      ]
    },
    {
      "cell_type": "code",
      "metadata": {
        "id": "Vg9Um5knESfY",
        "colab_type": "code",
        "colab": {}
      },
      "source": [
        "grades_list = '0 1 2 3 4 5 6 7 7+ 8- 8 8+ 9- 9 9+'.split()\n",
        "\n",
        "numbs = '10 11 12 13 14 15'.split()\n",
        "letters =  list('abcd')\n",
        "for i in numbs:\n",
        "  for j in letters:\n",
        "    grades_list.append(i+j)\n",
        "\n",
        "def suggest_pyramid(pyramid):\n",
        "  scheme = [1,2,4,8,12] # may need to pass in later or set as \"class global\"\n",
        "  print(pyramid.copy().iloc[0].grade)\n",
        "  top_index = grades_list.index(pyramid.grade[0]) + 1\n",
        "\n",
        "  user_grade_count_dict = dict(zip(pyramid.grade, pyramid['count']))\n",
        "  top_5_grades = grades_list[top_index : top_index - 5 : -1]\n",
        "  top_5_count = [ user_grade_count_dict.get(grade,0) for grade in top_5_grades] # 2nd argument in .get() gives value to be returned if non-existent\n",
        "\n",
        "  pyramid_copy = pd.DataFrame(zip(top_5_grades, top_5_count), columns = ['grade','count']).iloc[:5]\n",
        "  pyramid_copy['ideal_count'] = scheme\n",
        "  pyramid_copy['todo'] = pyramid_copy.ideal_count - pyramid_copy['count']\n",
        "  pyramid_copy.todo = pyramid_copy.todo.apply(lambda x: 0 if (x < 1) else x) # negative numbers -> 0 \n",
        "  print(pyramid_copy)\n",
        "  return pyramid_copy"
      ],
      "execution_count": 0,
      "outputs": []
    },
    {
      "cell_type": "code",
      "metadata": {
        "id": "ScS5thQJEaNt",
        "colab_type": "code",
        "outputId": "d4d14b06-1439-4e5b-96ec-faa7438b8066",
        "colab": {
          "base_uri": "https://localhost:8080/",
          "height": 136
        }
      },
      "source": [
        "suggested_pyramid = suggest_pyramid(sport_pyramid)"
      ],
      "execution_count": 15,
      "outputs": [
        {
          "output_type": "stream",
          "text": [
            "11b\n",
            "  grade  count  ideal_count  todo\n",
            "0   11c      0            1     1\n",
            "1   11b      3            2     0\n",
            "2   11a      5            4     0\n",
            "3   10d      3            8     5\n",
            "4   10c      9           12     3\n"
          ],
          "name": "stdout"
        }
      ]
    },
    {
      "cell_type": "code",
      "metadata": {
        "id": "8tcYmaYKC7_n",
        "colab_type": "code",
        "outputId": "05eea9dc-5f20-4c4e-ee17-bf79274342bd",
        "colab": {
          "base_uri": "https://localhost:8080/",
          "height": 297
        }
      },
      "source": [
        "## Scraping to make recommendations\n",
        "url  = \"https://www.mountainproject.com/area/classics/105865045/new-jack-city\"\n",
        "url = \"https://www.mountainproject.com/area/classics/108189726/fairview-mountain\"\n",
        "import pandas as pd\n",
        "import numpy as np\n",
        "table = pd.read_html(url)[1]\n",
        "table = table[table.Difficulty.str.startswith('5.')]\n",
        "# grades\n",
        "grades = table.Difficulty.apply(lambda x: x.split()[0])\n",
        "grades = grades.apply(lambda x: x_round(ropes_convert[x])).apply(grade_to_letter) # remove V grades, convert to simplified letter grades\n",
        "# routes\n",
        "routes = table['Route Name'].apply(lambda x: ' '.join(x.split()[1:]))\n",
        "# putting them together\n",
        "recommendations_dict = {'grade':grades, 'route':routes}\n",
        "recommendations_df = pd.DataFrame(recommendations_dict)\n",
        "\n",
        "###################################################\n",
        "#TEMP - make global/classvariable: assume we have user's 5 sought after grades: \n",
        "top_index = grades_list.index(sport_pyramid.grade[0]) + 1\n",
        "user_grade_count_dict = dict(zip(sport_pyramid.grade, sport_pyramid['count']))\n",
        "top_5_grades = grades_list[top_index : top_index - 5 : -1] # list of top grades as string\n",
        "top_5_count = [ user_grade_count_dict.get(grade,0) for grade in top_5_grades] # 2nd argument in .get() gives value to be returned if non-existent\n",
        "###################################################\n",
        "\n",
        "recommendations_df = recommendations_df[recommendations_df.route.isin(successful_climbs_stack.route) == False] # returns area classics that haven't been climbed\n",
        "recommendations_df = recommendations_df[recommendations_df.grade.str.contains('|'.join(top_5_grades))][::-1].reset_index(drop=True) # returns the right grade range (| in the string will give an \"or\" effect)\n",
        "recommendations_df[recommendations_df.grade.isin(suggested_pyramid[suggested_pyramid.todo > 0].grade)] # remove grades within the suggested range that have been \"overclimbed\""
      ],
      "execution_count": 17,
      "outputs": [
        {
          "output_type": "execute_result",
          "data": {
            "text/html": [
              "<div>\n",
              "<style scoped>\n",
              "    .dataframe tbody tr th:only-of-type {\n",
              "        vertical-align: middle;\n",
              "    }\n",
              "\n",
              "    .dataframe tbody tr th {\n",
              "        vertical-align: top;\n",
              "    }\n",
              "\n",
              "    .dataframe thead th {\n",
              "        text-align: right;\n",
              "    }\n",
              "</style>\n",
              "<table border=\"1\" class=\"dataframe\">\n",
              "  <thead>\n",
              "    <tr style=\"text-align: right;\">\n",
              "      <th></th>\n",
              "      <th>grade</th>\n",
              "      <th>route</th>\n",
              "    </tr>\n",
              "  </thead>\n",
              "  <tbody>\n",
              "    <tr>\n",
              "      <th>0</th>\n",
              "      <td>11c</td>\n",
              "      <td>Lean Cuisine</td>\n",
              "    </tr>\n",
              "    <tr>\n",
              "      <th>6</th>\n",
              "      <td>10d</td>\n",
              "      <td>Light Saber</td>\n",
              "    </tr>\n",
              "    <tr>\n",
              "      <th>7</th>\n",
              "      <td>10d</td>\n",
              "      <td>Stretch Armstrong</td>\n",
              "    </tr>\n",
              "    <tr>\n",
              "      <th>8</th>\n",
              "      <td>10d</td>\n",
              "      <td>Jangofet</td>\n",
              "    </tr>\n",
              "    <tr>\n",
              "      <th>9</th>\n",
              "      <td>10c</td>\n",
              "      <td>Space Wrangler</td>\n",
              "    </tr>\n",
              "    <tr>\n",
              "      <th>10</th>\n",
              "      <td>10c</td>\n",
              "      <td>Sidewinder</td>\n",
              "    </tr>\n",
              "    <tr>\n",
              "      <th>11</th>\n",
              "      <td>10c</td>\n",
              "      <td>Black Dog</td>\n",
              "    </tr>\n",
              "    <tr>\n",
              "      <th>12</th>\n",
              "      <td>10c</td>\n",
              "      <td>You Must Face Vader</td>\n",
              "    </tr>\n",
              "  </tbody>\n",
              "</table>\n",
              "</div>"
            ],
            "text/plain": [
              "   grade                route\n",
              "0    11c         Lean Cuisine\n",
              "6    10d          Light Saber\n",
              "7    10d    Stretch Armstrong\n",
              "8    10d             Jangofet\n",
              "9    10c       Space Wrangler\n",
              "10   10c           Sidewinder\n",
              "11   10c            Black Dog\n",
              "12   10c  You Must Face Vader"
            ]
          },
          "metadata": {
            "tags": []
          },
          "execution_count": 17
        }
      ]
    },
    {
      "cell_type": "markdown",
      "metadata": {
        "id": "UF-d_4m7QetJ",
        "colab_type": "text"
      },
      "source": [
        "# Create Class"
      ]
    },
    {
      "cell_type": "code",
      "metadata": {
        "id": "sUv5wZ5r1CLo",
        "colab_type": "code",
        "colab": {}
      },
      "source": [
        "class Pyramid:\n",
        "  def __init__(self,document):\n",
        "    self.document = document\n",
        "    self.climber = document.split('/')[-2].replace('-',' ').title()\n",
        "    #date = dt.now().strftime('%-d%b%Y')\n",
        "    self.data = pd.read_csv(document)\n",
        "    self.data = self.data[['Route', 'Rating', 'Style', 'Lead Style', 'Route Type']]\n",
        "    self.data = self.data.rename(columns = (dict(zip(self.data.columns,['route', 'grade', 'style', 'lead_style', 'type']))))\n",
        "    self.data.grade = self.data.grade.apply(clean_grade)\n",
        "    self.data = self.data[self.data['style'] == 'Lead']\n",
        "    # Split Trad and Sport data\n",
        "    self.trad = self.data[(self.data['type'] == 'Trad') | (self.data['type'] == 'Trad, Sport') | (self.data['type'] == 'Trad, Alpine') | (self.data['type'] == 'Trad, Aid')]\n",
        "    self.sport = self.data[(self.data['type'] == 'Sport') | (self.data['type'] == 'Sport, TR')]\n",
        "    self.trad_rp = self.trad[self.trad.lead_style == 'Redpoint']\n",
        "    self.trad_os = self.trad[self.trad.lead_style == 'Onsight']\n",
        "    self.trad_os.grade.apply(x_round).value_counts().sort_index(ascending=False)\n",
        "    self.sport_rp = self.sport[self.sport.lead_style == 'Redpoint']\n",
        "    self.sport_os = self.sport[self.sport.lead_style == 'Onsight']\n",
        "\n",
        "    self.sport_combined = pd.concat([self.sport_rp,self.sport_os], axis=0)\n",
        "    self.trad_combined = pd.concat([self.trad_rp, self.trad_os], axis=0)\n",
        "    self.styles = [self.sport_combined, self.trad_combined]\n",
        "\n",
        "  @staticmethod\n",
        "  def clean_grade(grade):\n",
        "    grade = str(grade).split()[0]\n",
        "    if grade[0] == '5':\n",
        "      grade = ropes_convert[grade]\n",
        "      return grade\n",
        "\n",
        "  @staticmethod\n",
        "  def x_round(x):\n",
        "    \"\"\" rounds down to nearest .25\n",
        "    eg. x_round(11.49) = 11.25, x_round(11.51) = 11.5\n",
        "    \"\"\"\n",
        "    if x >= 10:\n",
        "      return floor(x*4)/4\n",
        "    return x\n",
        "\n",
        "  @staticmethod\n",
        "  def grade_to_letter(grade):\n",
        "    letter_map = {'.0':'a', '.25':'b', '.5':'c', '.75':'d'}\n",
        "    letter_map_low = {'.0':'-', '.4':'', '.8':'+'}\n",
        "    if grade >= 10:\n",
        "      grade = str(grade)\n",
        "      grade = grade[:2] + letter_map[grade[2:]]\n",
        "      return grade\n",
        "    else:\n",
        "      grade = str(grade)\n",
        "      grade = grade[:1] + letter_map_low[grade[1:]]\n",
        "      return grade\n",
        "\n",
        "  def show_pyramids(self):\n",
        "    self.pyramids = []\n",
        "    for style in self.styles:\n",
        "      if not style.empty:\n",
        "        title = f\"{climber}\\n{style.iloc[0]['type'].split(',')[0]} pyramid \\n as of {date}\\n\"\n",
        "        top_pyramid = style.grade.apply(x_round).value_counts().sort_index(ascending=False).iloc[:6].reset_index()\n",
        "        top_pyramid.columns = ('grade','count')\n",
        "        top_pyramid.grade = top_pyramid.grade.apply(grade_to_letter)\n",
        "        sb.barplot(y='grade', x='count', data=top_pyramid, color='green')\n",
        "        plt.title(title)\n",
        "        plt.show()\n",
        "        print(top_pyramid)\n",
        "        print('\\n\\n\\t\\ttop 10')\n",
        "        print(style.sort_values('grade',ascending=False).head(10))\n",
        "        self.pyramids.append(top_pyramid)\n",
        "    return self.pyramids"
      ],
      "execution_count": 0,
      "outputs": []
    },
    {
      "cell_type": "code",
      "metadata": {
        "id": "Vr5B0SLjMwzR",
        "colab_type": "code",
        "colab": {
          "base_uri": "https://localhost:8080/",
          "height": 1000
        },
        "outputId": "7c3e41f9-d5ab-43a4-9faf-52bb17f0943b"
      },
      "source": [
        "P = Pyramid(document)\n",
        "P.show_pyramids()"
      ],
      "execution_count": 23,
      "outputs": [
        {
          "output_type": "display_data",
          "data": {
            "image/png": "[encoded data removed]",
            "text/plain": [
              "<Figure size 432x288 with 1 Axes>"
            ]
          },
          "metadata": {
            "tags": []
          }
        },
        {
          "output_type": "stream",
          "text": [
            "  grade  count\n",
            "0   11b      3\n",
            "1   11a      5\n",
            "2   10d      3\n",
            "3   10c      9\n",
            "4   10b     16\n",
            "5   10a     37\n",
            "\n",
            "\n",
            "\t\ttop 10\n",
            "                       route  grade style lead_style   type\n",
            "178            Space Cowboys   11.3  Lead    Onsight  Sport\n",
            "179                 Sun Dogs   11.3  Lead    Onsight  Sport\n",
            "12   This Nazi Shit Won't Do   11.3  Lead   Redpoint  Sport\n",
            "4               Agent Orange   11.2  Lead   Redpoint  Sport\n",
            "41            Pistol Whipped   11.0  Lead   Redpoint  Sport\n",
            "180         Starship Trooper   11.0  Lead    Onsight  Sport\n",
            "165              Jack Jumped   11.0  Lead   Redpoint  Sport\n",
            "8                Dark Matter   11.0  Lead    Onsight  Sport\n",
            "122          Tangerine Dream   10.9  Lead   Redpoint  Sport\n",
            "469    Better Luck Next Time   10.9  Lead    Onsight  Sport\n"
          ],
          "name": "stdout"
        },
        {
          "output_type": "display_data",
          "data": {
            "image/png": "[encoded data removed]",
            "text/plain": [
              "<Figure size 432x288 with 1 Axes>"
            ]
          },
          "metadata": {
            "tags": []
          }
        },
        {
          "output_type": "stream",
          "text": [
            "  grade  count\n",
            "0   10d      1\n",
            "1   10c      2\n",
            "2   10b      8\n",
            "3   10a      8\n",
            "4    9+      6\n",
            "5     9     12\n",
            "\n",
            "\n",
            "\t\ttop 10\n",
            "                                  route  grade style lead_style       type\n",
            "139                           Two Timer   10.9  Lead    Onsight       Trad\n",
            "132                 Heart of the Desert   10.6  Lead    Onsight       Trad\n",
            "154                     Amaretto Corner   10.5  Lead    Onsight       Trad\n",
            "160                            Jojobean   10.4  Lead    Onsight       Trad\n",
            "137  Unnamed II (fingers through fists)   10.4  Lead    Onsight       Trad\n",
            "125                      Stolen Chimney   10.4  Lead    Onsight  Trad, Aid\n",
            "153                           3AM Crack   10.4  Lead    Onsight       Trad\n",
            "156            Supercrack of the Desert   10.4  Lead    Onsight       Trad\n",
            "158                           Manifesto   10.4  Lead    Onsight       Trad\n",
            "146                           Bar fight   10.4  Lead    Onsight       Trad\n"
          ],
          "name": "stdout"
        },
        {
          "output_type": "execute_result",
          "data": {
            "text/plain": [
              "[  grade  count\n",
              " 0   11b      3\n",
              " 1   11a      5\n",
              " 2   10d      3\n",
              " 3   10c      9\n",
              " 4   10b     16\n",
              " 5   10a     37,   grade  count\n",
              " 0   10d      1\n",
              " 1   10c      2\n",
              " 2   10b      8\n",
              " 3   10a      8\n",
              " 4    9+      6\n",
              " 5     9     12]"
            ]
          },
          "metadata": {
            "tags": []
          },
          "execution_count": 23
        }
      ]
    }
  ]
}