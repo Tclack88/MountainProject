{
  "nbformat": 4,
  "nbformat_minor": 0,
  "metadata": {
    "colab": {
      "name": "rp_os_pyramids.ipynb",
      "provenance": [],
      "collapsed_sections": [],
      "include_colab_link": true
    },
    "kernelspec": {
      "name": "python3",
      "display_name": "Python 3"
    }
  },
  "cells": [
    {
      "cell_type": "markdown",
      "metadata": {
        "id": "view-in-github",
        "colab_type": "text"
      },
      "source": [
        "<a href=\"https://colab.research.google.com/github/Tclack88/MountainProject/blob/master/rp_os_pyramids.ipynb\" target=\"_parent\"><img src=\"https://colab.research.google.com/assets/colab-badge.svg\" alt=\"Open In Colab\"/></a>"
      ]
    },
    {
      "cell_type": "markdown",
      "metadata": {
        "id": "6VlLwOX4lTkv",
        "colab_type": "text"
      },
      "source": [
        "# Redpoint/Onsight ladders"
      ]
    },
    {
      "cell_type": "code",
      "metadata": {
        "id": "Uzj-wV58AInN",
        "colab_type": "code",
        "colab": {}
      },
      "source": [
        "# Person being considered\n",
        "\n",
        "# document = \"https://www.mountainproject.com/user/109791883/trevor-clack/tick-export\"\n",
        "document = \"https://www.mountainproject.com/user/110296901/morgan-f/tick-export\""
      ],
      "execution_count": 0,
      "outputs": []
    },
    {
      "cell_type": "code",
      "metadata": {
        "id": "jh1GkF2MlwNx",
        "colab_type": "code",
        "colab": {}
      },
      "source": [
        "import pandas as pd\n",
        "import numpy as np\n",
        "from math import floor\n",
        "from datetime import datetime as dt\n",
        "import seaborn as sb\n",
        "import matplotlib.pyplot as plt\n",
        "sb.set(style='whitegrid')"
      ],
      "execution_count": 0,
      "outputs": []
    },
    {
      "cell_type": "code",
      "metadata": {
        "id": "OKNxUUODmKva",
        "colab_type": "code",
        "colab": {}
      },
      "source": [
        "# Get Grade for conversion (from Mountain Project's official grade converter)\n",
        "grade_chart = pd.read_html(\"https://www.mountainproject.com/international-climbing-grades\")\n",
        "old_ropes = grade_chart[0].YDSUSA[:-1].to_list()\n",
        "new_ropes = [0,0,0,0,1,2,3,4,5,6,7,7.4,8,8.4,8.8,9,9.4,9.8]+list(np.round(np.arange(10,16,.1),1))\n",
        "ropes_convert = dict(zip(old_ropes,new_ropes))"
      ],
      "execution_count": 0,
      "outputs": []
    },
    {
      "cell_type": "code",
      "metadata": {
        "colab_type": "code",
        "id": "Uxj0kxSHEzTs",
        "colab": {}
      },
      "source": [
        "# Supporting functions for clean and prep pipeline\n",
        "def clean_grade(grade):\n",
        "  grade = str(grade).split()[0]\n",
        "  if grade[0] == '5':\n",
        "    grade = ropes_convert[grade]\n",
        "    return grade\n",
        "\n",
        "def x_round(x):\n",
        "  \"\"\" rounds down to nearest .25\n",
        "  eg. x_round(11.49) = 11.25, x_round(11.51) = 11.5\n",
        "  \"\"\"\n",
        "  if x >= 10:\n",
        "    return floor(x*4)/4\n",
        "  else: return x\n",
        "\n",
        "\n",
        "# Rounding Key example:\n",
        "\n",
        "# 10a, 10-, 10a/b  -> 10a\n",
        "# 10b, 10          -> 10b\n",
        "# 10b/c, 10c, 10+  -> 10c\n",
        "# 10c/d, 10d       -> 10d\n",
        "\n",
        "# def grade_to_number(grade):\n",
        "#   letter_map = {'a':'.0', 'b':'.25', 'c':'.5', 'd':'.75', '-':'.0', '+':'.8'}\n",
        "#   if grade[-1].isnumeric() == False:\n",
        "#     grade = grade[:-1] + letter_map[grade[-1]]\n",
        "#     print(grade)\n",
        "#   else:\n",
        "#     grade += '.4'\n",
        "#     print(grade)\n",
        "\n",
        "\n",
        "def grade_to_letter(grade):\n",
        "  letter_map = {'.0':'a', '.25':'b', '.5':'c', '.75':'d'}\n",
        "  letter_map_low = {'.0':'-', '.4':'', '.8':'+'}\n",
        "  if grade >= 10:\n",
        "    grade = str(grade)\n",
        "    grade = grade[:2] + letter_map[grade[2:]]\n",
        "    return grade\n",
        "  else:\n",
        "    grade = str(grade)\n",
        "    grade = grade[:1] + letter_map_low[grade[1:]]\n",
        "    return grade\n"
      ],
      "execution_count": 0,
      "outputs": []
    },
    {
      "cell_type": "code",
      "metadata": {
        "id": "0og2L_rnVnYI",
        "colab_type": "code",
        "outputId": "77e4fb49-6927-4e9e-b144-76ba0084c5c2",
        "colab": {
          "base_uri": "https://localhost:8080/",
          "height": 913
        }
      },
      "source": [
        "climber = document.split('/')[-2].replace('-',' ').title()\n",
        "date = dt.now().strftime('%-d%b%Y')\n",
        "data = pd.read_csv(document)\n",
        "data = data[['Route', 'Rating', 'Style', 'Lead Style', 'Route Type']]\n",
        "data = data.rename(columns = (dict(zip(data.columns,['route', 'grade', 'style', 'lead_style', 'type']))))\n",
        "data.grade = data.grade.apply(clean_grade)\n",
        "data = data[data['style'] == 'Lead']\n",
        "# Split Trad and Sport data\n",
        "trad = data[(data['type'] == 'Trad') | (data['type'] == 'Trad, Sport') | (data['type'] == 'Trad, Alpine') | (data['type'] == 'Trad, Aid')]\n",
        "sport = data[(data['type'] == 'Sport') | (data['type'] == 'Sport, TR')]\n",
        "trad_rp = trad[trad.lead_style == 'Redpoint']\n",
        "trad_os = trad[trad.lead_style == 'Onsight']\n",
        "trad_os.grade.apply(x_round).value_counts().sort_index(ascending=False)\n",
        "sport_rp = sport[sport.lead_style == 'Redpoint']\n",
        "sport_os = sport[sport.lead_style == 'Onsight']\n",
        "\n",
        "\n",
        "styles = [sport_os, sport_rp, trad_os, trad_rp]\n",
        "\n",
        "for style in styles:\n",
        "  if not style.empty:\n",
        "    title = f\"{climber}\\n{style.iloc[0]['type'].split(',')[0]} {style.iloc[0].lead_style} pyramid \\n{date}\\n\"\n",
        "    top_pyramid = style.grade.apply(x_round).value_counts().sort_index(ascending=False).iloc[:6].reset_index()\n",
        "    top_pyramid.columns = ('grade','count')\n",
        "    top_pyramid.grade = top_pyramid.grade.apply(grade_to_letter)\n",
        "    sb.barplot(y='grade', x='count', data=top_pyramid, color='green')\n",
        "    plt.title(title)\n",
        "    plt.show()\n",
        "    print(top_pyramid)\n",
        "\n"
      ],
      "execution_count": 0,
      "outputs": [
        {
          "output_type": "display_data",
          "data": {
            "image/png": "[encoded data removed]",
            "text/plain": [
              "<Figure size 432x288 with 1 Axes>"
            ]
          },
          "metadata": {
            "tags": []
          }
        },
        {
          "output_type": "stream",
          "text": [
            "  grade  count\n",
            "0   11a      1\n",
            "1   10c      2\n",
            "2   10b      2\n",
            "3   10a      5\n",
            "4     9      3\n",
            "5    8+      1\n"
          ],
          "name": "stdout"
        },
        {
          "output_type": "display_data",
          "data": {
            "image/png": "[encoded data removed]",
            "text/plain": [
              "<Figure size 432x288 with 1 Axes>"
            ]
          },
          "metadata": {
            "tags": []
          }
        },
        {
          "output_type": "stream",
          "text": [
            "  grade  count\n",
            "0   10c      1\n",
            "1   10b      1\n",
            "2   10a      2\n",
            "3    9+      1\n",
            "4     9      8\n",
            "5     8      2\n"
          ],
          "name": "stdout"
        }
      ]
    },
    {
      "cell_type": "code",
      "metadata": {
        "id": "La5M4joaNXl5",
        "colab_type": "code",
        "outputId": "d4262719-a742-498c-e86a-37194e1c9475",
        "colab": {
          "base_uri": "https://localhost:8080/",
          "height": 1000
        }
      },
      "source": [
        "successful_climbs = data[(data.lead_style == 'Redpoint') | (data.lead_style =='Onsight')]\n",
        "successful_climbs.grade = successful_climbs.grade.apply(lambda x: grade_to_letter(x_round(x)))\n",
        "successful_climbs_stack = successful_climbs[['grade','route']]\n",
        "successful_climbs_stack"
      ],
      "execution_count": 0,
      "outputs": [
        {
          "output_type": "stream",
          "text": [
            "/usr/local/lib/python3.6/dist-packages/pandas/core/generic.py:5208: SettingWithCopyWarning: \n",
            "A value is trying to be set on a copy of a slice from a DataFrame.\n",
            "Try using .loc[row_indexer,col_indexer] = value instead\n",
            "\n",
            "See the caveats in the documentation: http://pandas.pydata.org/pandas-docs/stable/user_guide/indexing.html#returning-a-view-versus-a-copy\n",
            "  self[name] = value\n"
          ],
          "name": "stderr"
        },
        {
          "output_type": "execute_result",
          "data": {
            "text/html": [
              "<div>\n",
              "<style scoped>\n",
              "    .dataframe tbody tr th:only-of-type {\n",
              "        vertical-align: middle;\n",
              "    }\n",
              "\n",
              "    .dataframe tbody tr th {\n",
              "        vertical-align: top;\n",
              "    }\n",
              "\n",
              "    .dataframe thead th {\n",
              "        text-align: right;\n",
              "    }\n",
              "</style>\n",
              "<table border=\"1\" class=\"dataframe\">\n",
              "  <thead>\n",
              "    <tr style=\"text-align: right;\">\n",
              "      <th></th>\n",
              "      <th>grade</th>\n",
              "      <th>route</th>\n",
              "    </tr>\n",
              "  </thead>\n",
              "  <tbody>\n",
              "    <tr>\n",
              "      <th>1</th>\n",
              "      <td>10a</td>\n",
              "      <td>Little Red Book</td>\n",
              "    </tr>\n",
              "    <tr>\n",
              "      <th>2</th>\n",
              "      <td>10a</td>\n",
              "      <td>Easy Prey</td>\n",
              "    </tr>\n",
              "    <tr>\n",
              "      <th>3</th>\n",
              "      <td>11a</td>\n",
              "      <td>Hole In One</td>\n",
              "    </tr>\n",
              "    <tr>\n",
              "      <th>4</th>\n",
              "      <td>10a</td>\n",
              "      <td>Dream of Wild Turkeys</td>\n",
              "    </tr>\n",
              "    <tr>\n",
              "      <th>5</th>\n",
              "      <td>10b</td>\n",
              "      <td>Stolen Chimney</td>\n",
              "    </tr>\n",
              "    <tr>\n",
              "      <th>18</th>\n",
              "      <td>9</td>\n",
              "      <td>Crooked Dick Spire</td>\n",
              "    </tr>\n",
              "    <tr>\n",
              "      <th>19</th>\n",
              "      <td>10a</td>\n",
              "      <td>Holey Moley</td>\n",
              "    </tr>\n",
              "    <tr>\n",
              "      <th>24</th>\n",
              "      <td>10b</td>\n",
              "      <td>Ants Go Marching</td>\n",
              "    </tr>\n",
              "    <tr>\n",
              "      <th>27</th>\n",
              "      <td>9</td>\n",
              "      <td>Crag Rat</td>\n",
              "    </tr>\n",
              "    <tr>\n",
              "      <th>28</th>\n",
              "      <td>9</td>\n",
              "      <td>The Squamish Butt Face</td>\n",
              "    </tr>\n",
              "    <tr>\n",
              "      <th>29</th>\n",
              "      <td>10c</td>\n",
              "      <td>The Squamish Buttress</td>\n",
              "    </tr>\n",
              "    <tr>\n",
              "      <th>30</th>\n",
              "      <td>9</td>\n",
              "      <td>Memorial Crack</td>\n",
              "    </tr>\n",
              "    <tr>\n",
              "      <th>31</th>\n",
              "      <td>9</td>\n",
              "      <td>St. Vitus' Dance</td>\n",
              "    </tr>\n",
              "    <tr>\n",
              "      <th>34</th>\n",
              "      <td>10a</td>\n",
              "      <td>El Camino Real</td>\n",
              "    </tr>\n",
              "    <tr>\n",
              "      <th>35</th>\n",
              "      <td>7</td>\n",
              "      <td>Piton Pooper</td>\n",
              "    </tr>\n",
              "    <tr>\n",
              "      <th>36</th>\n",
              "      <td>9</td>\n",
              "      <td>Dave's Deviation</td>\n",
              "    </tr>\n",
              "    <tr>\n",
              "      <th>40</th>\n",
              "      <td>7</td>\n",
              "      <td>Bumpy</td>\n",
              "    </tr>\n",
              "    <tr>\n",
              "      <th>42</th>\n",
              "      <td>9</td>\n",
              "      <td>Sexy Grandma</td>\n",
              "    </tr>\n",
              "    <tr>\n",
              "      <th>44</th>\n",
              "      <td>7-</td>\n",
              "      <td>Toe Jam</td>\n",
              "    </tr>\n",
              "    <tr>\n",
              "      <th>45</th>\n",
              "      <td>7-</td>\n",
              "      <td>Dihedral</td>\n",
              "    </tr>\n",
              "    <tr>\n",
              "      <th>46</th>\n",
              "      <td>8</td>\n",
              "      <td>Hawk-Eye Surveillance</td>\n",
              "    </tr>\n",
              "    <tr>\n",
              "      <th>47</th>\n",
              "      <td>9</td>\n",
              "      <td>Bad Sportsmanship</td>\n",
              "    </tr>\n",
              "    <tr>\n",
              "      <th>48</th>\n",
              "      <td>10b</td>\n",
              "      <td>Hubble</td>\n",
              "    </tr>\n",
              "    <tr>\n",
              "      <th>51</th>\n",
              "      <td>10c</td>\n",
              "      <td>Lost Orbit</td>\n",
              "    </tr>\n",
              "    <tr>\n",
              "      <th>55</th>\n",
              "      <td>9+</td>\n",
              "      <td>Igor Unchained</td>\n",
              "    </tr>\n",
              "    <tr>\n",
              "      <th>59</th>\n",
              "      <td>6-</td>\n",
              "      <td>Graham Crackers</td>\n",
              "    </tr>\n",
              "    <tr>\n",
              "      <th>60</th>\n",
              "      <td>9</td>\n",
              "      <td>Whodunit</td>\n",
              "    </tr>\n",
              "    <tr>\n",
              "      <th>61</th>\n",
              "      <td>4-</td>\n",
              "      <td>Fingertip Traverse</td>\n",
              "    </tr>\n",
              "    <tr>\n",
              "      <th>66</th>\n",
              "      <td>9</td>\n",
              "      <td>Serpentine</td>\n",
              "    </tr>\n",
              "    <tr>\n",
              "      <th>68</th>\n",
              "      <td>10c</td>\n",
              "      <td>One-Eyed Jack</td>\n",
              "    </tr>\n",
              "    <tr>\n",
              "      <th>69</th>\n",
              "      <td>10a</td>\n",
              "      <td>Easy Prey</td>\n",
              "    </tr>\n",
              "    <tr>\n",
              "      <th>73</th>\n",
              "      <td>10a</td>\n",
              "      <td>Change of Scene</td>\n",
              "    </tr>\n",
              "    <tr>\n",
              "      <th>74</th>\n",
              "      <td>5-</td>\n",
              "      <td>Husker</td>\n",
              "    </tr>\n",
              "    <tr>\n",
              "      <th>75</th>\n",
              "      <td>6-</td>\n",
              "      <td>Fools Gold</td>\n",
              "    </tr>\n",
              "    <tr>\n",
              "      <th>76</th>\n",
              "      <td>9</td>\n",
              "      <td>Epinephrine</td>\n",
              "    </tr>\n",
              "    <tr>\n",
              "      <th>79</th>\n",
              "      <td>8</td>\n",
              "      <td>Traitor Horn</td>\n",
              "    </tr>\n",
              "    <tr>\n",
              "      <th>80</th>\n",
              "      <td>8</td>\n",
              "      <td>Coffin Nail</td>\n",
              "    </tr>\n",
              "    <tr>\n",
              "      <th>81</th>\n",
              "      <td>7-</td>\n",
              "      <td>Fingertrip</td>\n",
              "    </tr>\n",
              "    <tr>\n",
              "      <th>82</th>\n",
              "      <td>6-</td>\n",
              "      <td>Left Ski Track</td>\n",
              "    </tr>\n",
              "    <tr>\n",
              "      <th>84</th>\n",
              "      <td>6-</td>\n",
              "      <td>Angel's Fright</td>\n",
              "    </tr>\n",
              "    <tr>\n",
              "      <th>105</th>\n",
              "      <td>8+</td>\n",
              "      <td>Serpentine</td>\n",
              "    </tr>\n",
              "    <tr>\n",
              "      <th>109</th>\n",
              "      <td>8</td>\n",
              "      <td>Super Soul Slab</td>\n",
              "    </tr>\n",
              "  </tbody>\n",
              "</table>\n",
              "</div>"
            ],
            "text/plain": [
              "    grade                   route\n",
              "1     10a         Little Red Book\n",
              "2     10a               Easy Prey\n",
              "3     11a             Hole In One\n",
              "4     10a   Dream of Wild Turkeys\n",
              "5     10b          Stolen Chimney\n",
              "18      9      Crooked Dick Spire\n",
              "19    10a             Holey Moley\n",
              "24    10b        Ants Go Marching\n",
              "27      9                Crag Rat\n",
              "28      9  The Squamish Butt Face\n",
              "29    10c   The Squamish Buttress\n",
              "30      9          Memorial Crack\n",
              "31      9        St. Vitus' Dance\n",
              "34    10a          El Camino Real\n",
              "35      7            Piton Pooper\n",
              "36      9        Dave's Deviation\n",
              "40      7                   Bumpy\n",
              "42      9            Sexy Grandma\n",
              "44     7-                 Toe Jam\n",
              "45     7-                Dihedral\n",
              "46      8   Hawk-Eye Surveillance\n",
              "47      9       Bad Sportsmanship\n",
              "48    10b                  Hubble\n",
              "51    10c              Lost Orbit\n",
              "55     9+          Igor Unchained\n",
              "59     6-         Graham Crackers\n",
              "60      9                Whodunit\n",
              "61     4-      Fingertip Traverse\n",
              "66      9              Serpentine\n",
              "68    10c           One-Eyed Jack\n",
              "69    10a               Easy Prey\n",
              "73    10a         Change of Scene\n",
              "74     5-                  Husker\n",
              "75     6-              Fools Gold\n",
              "76      9             Epinephrine\n",
              "79      8            Traitor Horn\n",
              "80      8             Coffin Nail\n",
              "81     7-              Fingertrip\n",
              "82     6-          Left Ski Track\n",
              "84     6-          Angel's Fright\n",
              "105    8+              Serpentine\n",
              "109     8         Super Soul Slab"
            ]
          },
          "metadata": {
            "tags": []
          },
          "execution_count": 6
        }
      ]
    },
    {
      "cell_type": "markdown",
      "metadata": {
        "id": "BytTpGTZlzcj",
        "colab_type": "text"
      },
      "source": [
        "## Combined redpoint and os pyramid"
      ]
    },
    {
      "cell_type": "code",
      "metadata": {
        "id": "6xt92l715u7o",
        "colab_type": "code",
        "colab": {}
      },
      "source": [
        "def make_pyramid(document):\n",
        "  climber = document.split('/')[-2].replace('-',' ').title()\n",
        "  date = dt.now().strftime('%-d%b%Y')\n",
        "  data = pd.read_csv(document)\n",
        "  data = data[['Route', 'Rating', 'Style', 'Lead Style', 'Route Type']]\n",
        "  data = data.rename(columns = (dict(zip(data.columns,['route', 'grade', 'style', 'lead_style', 'type']))))\n",
        "  data.grade = data.grade.apply(clean_grade)\n",
        "  data = data[data['style'] == 'Lead']\n",
        "  # Split Trad and Sport data\n",
        "  trad = data[(data['type'] == 'Trad') | (data['type'] == 'Trad, Sport') | (data['type'] == 'Trad, Alpine') | (data['type'] == 'Trad, Aid')]\n",
        "  sport = data[(data['type'] == 'Sport') | (data['type'] == 'Sport, TR')]\n",
        "  trad_rp = trad[trad.lead_style == 'Redpoint']\n",
        "  trad_os = trad[trad.lead_style == 'Onsight']\n",
        "  trad_os.grade.apply(x_round).value_counts().sort_index(ascending=False)\n",
        "  sport_rp = sport[sport.lead_style == 'Redpoint']\n",
        "  sport_os = sport[sport.lead_style == 'Onsight']\n",
        "\n",
        "  sport_combined = pd.concat([sport_rp,sport_os], axis=0)\n",
        "  trad_combined = pd.concat([trad_rp, trad_os], axis=0)\n",
        "  styles = [sport_combined, trad_combined]\n",
        "\n",
        "  pyramids = []\n",
        "  for style in styles:\n",
        "    if not style.empty:\n",
        "      title = f\"{climber}\\n{style.iloc[0]['type'].split(',')[0]} pyramid \\n as of {date}\\n\"\n",
        "      top_pyramid = style.grade.apply(x_round).value_counts().sort_index(ascending=False).iloc[:6].reset_index()\n",
        "      top_pyramid.columns = ('grade','count')\n",
        "      top_pyramid.grade = top_pyramid.grade.apply(grade_to_letter)\n",
        "      sb.barplot(y='grade', x='count', data=top_pyramid, color='green')\n",
        "      plt.title(title)\n",
        "      plt.show()\n",
        "      print(top_pyramid)\n",
        "      print('\\n\\n\\t\\ttop 10')\n",
        "      print(style.sort_values('grade',ascending=False).head(10))\n",
        "      pyramids.append(top_pyramid)\n",
        "\n",
        "  return pyramids"
      ],
      "execution_count": 0,
      "outputs": []
    },
    {
      "cell_type": "code",
      "metadata": {
        "id": "-DRO4K58DVqy",
        "colab_type": "code",
        "outputId": "5f1930eb-8d9a-4215-d091-f37a41f84be5",
        "colab": {
          "base_uri": "https://localhost:8080/",
          "height": 1000
        }
      },
      "source": [
        "# document = \"https://www.mountainproject.com/user/109791883/trevor-clack/tick-export\"   # Trevor\n",
        "# document = \"https://www.mountainproject.com/user/110296901/morgan-f/tick-export\"  # Morgan\n",
        "document = \"https://www.mountainproject.com/user/106234022/stormeh/tick-export\" # Ryan Murphy\n",
        "\n",
        "sport_pyramid, trad_pyramid = make_pyramid(document)"
      ],
      "execution_count": 0,
      "outputs": [
        {
          "output_type": "display_data",
          "data": {
            "image/png": "[encoded data removed]",
            "text/plain": [
              "<Figure size 432x288 with 1 Axes>"
            ]
          },
          "metadata": {
            "tags": []
          }
        },
        {
          "output_type": "stream",
          "text": [
            "  grade  count\n",
            "0   11a      4\n",
            "1   10c      4\n",
            "2   10b      6\n",
            "3   10a     11\n",
            "4    9+      2\n",
            "5     9     13\n",
            "\n",
            "\n",
            "\t\ttop 10\n",
            "               route  grade style lead_style   type\n",
            "6       Agent Orange   11.2  Lead   Redpoint  Sport\n",
            "122              Pop   11.0  Lead   Redpoint  Sport\n",
            "125   Dihedral Dance   11.0  Lead    Onsight  Sport\n",
            "96     Totally Clips   11.0  Lead    Onsight  Sport\n",
            "131      Blue Collar   10.6  Lead    Onsight  Sport\n",
            "126  Blockade Runner   10.6  Lead    Onsight  Sport\n",
            "89           Slacker   10.6  Lead    Onsight  Sport\n",
            "8         False Flag   10.5  Lead    Onsight  Sport\n",
            "88            Hubble   10.3  Lead    Onsight  Sport\n",
            "18            Moucha   10.3  Lead    Onsight  Sport\n"
          ],
          "name": "stdout"
        },
        {
          "output_type": "display_data",
          "data": {
            "image/png": "[encoded data removed]",
            "text/plain": [
              "<Figure size 432x288 with 1 Axes>"
            ]
          },
          "metadata": {
            "tags": []
          }
        },
        {
          "output_type": "stream",
          "text": [
            "  grade  count\n",
            "0   10c      1\n",
            "1   10a      2\n",
            "2     9      5\n",
            "3    8+      1\n",
            "4     8     10\n",
            "5    8-      1\n",
            "\n",
            "\n",
            "\t\ttop 10\n",
            "                     route  grade style lead_style  type\n",
            "41   The Squamish Buttress   10.6  Lead    Onsight  Trad\n",
            "97              Panty Raid   10.0  Lead    Onsight  Trad\n",
            "45             Pearly Gate   10.0  Lead    Onsight  Trad\n",
            "145              The Horse    9.4  Lead    Onsight  Trad\n",
            "4     Tales from the Crypt    9.4  Lead    Onsight  Trad\n",
            "107         Ashtar Command    9.4  Lead    Onsight  Trad\n",
            "39        St. Vitus' Dance    9.4  Lead    Onsight  Trad\n",
            "43            Cold Comfort    9.4  Lead    Onsight  Trad\n",
            "87            Vorpal Sword    8.8  Lead    Onsight  Trad\n",
            "72                Planet X    8.4  Lead    Onsight  Trad\n"
          ],
          "name": "stdout"
        }
      ]
    },
    {
      "cell_type": "markdown",
      "metadata": {
        "id": "uuLSgTi1765R",
        "colab_type": "text"
      },
      "source": [
        "## Make suggestions to \"fill out\" pyramid"
      ]
    },
    {
      "cell_type": "code",
      "metadata": {
        "id": "VCw_9R8F7-4R",
        "colab_type": "code",
        "outputId": "bb7e3374-512a-4e72-cf9c-10e3747ab7d3",
        "colab": {
          "base_uri": "https://localhost:8080/",
          "height": 235
        }
      },
      "source": [
        "# pros are usually 1, 3, 20, 50, 100 (based on 8a.nu)\n",
        "# intermediate maybe 1, 3, 10, 20, 30\n",
        "# 1 2 4 8 12 seems reasonable for a beginner\n",
        "\n",
        "\n",
        "sport_pyramid"
      ],
      "execution_count": 0,
      "outputs": [
        {
          "output_type": "execute_result",
          "data": {
            "text/html": [
              "<div>\n",
              "<style scoped>\n",
              "    .dataframe tbody tr th:only-of-type {\n",
              "        vertical-align: middle;\n",
              "    }\n",
              "\n",
              "    .dataframe tbody tr th {\n",
              "        vertical-align: top;\n",
              "    }\n",
              "\n",
              "    .dataframe thead th {\n",
              "        text-align: right;\n",
              "    }\n",
              "</style>\n",
              "<table border=\"1\" class=\"dataframe\">\n",
              "  <thead>\n",
              "    <tr style=\"text-align: right;\">\n",
              "      <th></th>\n",
              "      <th>grade</th>\n",
              "      <th>count</th>\n",
              "    </tr>\n",
              "  </thead>\n",
              "  <tbody>\n",
              "    <tr>\n",
              "      <th>0</th>\n",
              "      <td>11a</td>\n",
              "      <td>4</td>\n",
              "    </tr>\n",
              "    <tr>\n",
              "      <th>1</th>\n",
              "      <td>10c</td>\n",
              "      <td>4</td>\n",
              "    </tr>\n",
              "    <tr>\n",
              "      <th>2</th>\n",
              "      <td>10b</td>\n",
              "      <td>6</td>\n",
              "    </tr>\n",
              "    <tr>\n",
              "      <th>3</th>\n",
              "      <td>10a</td>\n",
              "      <td>11</td>\n",
              "    </tr>\n",
              "    <tr>\n",
              "      <th>4</th>\n",
              "      <td>9+</td>\n",
              "      <td>2</td>\n",
              "    </tr>\n",
              "    <tr>\n",
              "      <th>5</th>\n",
              "      <td>9</td>\n",
              "      <td>13</td>\n",
              "    </tr>\n",
              "  </tbody>\n",
              "</table>\n",
              "</div>"
            ],
            "text/plain": [
              "  grade  count\n",
              "0   11a      4\n",
              "1   10c      4\n",
              "2   10b      6\n",
              "3   10a     11\n",
              "4    9+      2\n",
              "5     9     13"
            ]
          },
          "metadata": {
            "tags": []
          },
          "execution_count": 13
        }
      ]
    },
    {
      "cell_type": "code",
      "metadata": {
        "id": "Vg9Um5knESfY",
        "colab_type": "code",
        "colab": {}
      },
      "source": [
        "grades_list = '0 1 2 3 4 5 6 7 7+ 8- 8 8+ 9- 9 9+'.split()\n",
        "\n",
        "numbs = '10 11 12 13 14 15'.split()\n",
        "letters =  list('abcd')\n",
        "for i in numbs:\n",
        "  for j in letters:\n",
        "    grades_list.append(i+j)\n",
        "\n",
        "def suggest_pyramid(pyramid):\n",
        "  scheme = [1,2,4,8,12] # may need to pass in later or set as \"class global\"\n",
        "  print(pyramid.copy().iloc[0].grade)\n",
        "  top_index = grades_list.index(pyramid.grade[0]) + 1\n",
        "\n",
        "  user_grade_count_dict = dict(zip(pyramid.grade, pyramid['count']))\n",
        "  top_5_grades = grades_list[top_index : top_index - 5 : -1]\n",
        "  top_5_count = [ user_grade_count_dict.get(grade,0) for grade in top_5_grades] # 2nd argument in .get() gives value to be returned if non-existent\n",
        "\n",
        "  pyramid_copy = pd.DataFrame(zip(top_5_grades, top_5_count), columns = ['grade','count']).iloc[:5]\n",
        "  pyramid_copy['ideal_count'] = scheme\n",
        "  pyramid_copy['todo'] = pyramid_copy.ideal_count - pyramid_copy['count']\n",
        "  pyramid_copy.todo = pyramid_copy.todo.apply(lambda x: 0 if (x < 1) else x) # negative numbers -> 0 \n",
        "  print(pyramid_copy)\n",
        "  return pyramid_copy"
      ],
      "execution_count": 0,
      "outputs": []
    },
    {
      "cell_type": "code",
      "metadata": {
        "id": "ScS5thQJEaNt",
        "colab_type": "code",
        "outputId": "089338f9-7c29-4906-8471-a3dce6ceead3",
        "colab": {
          "base_uri": "https://localhost:8080/",
          "height": 136
        }
      },
      "source": [
        "suggested_pyramid = suggest_pyramid(sport_pyramid)"
      ],
      "execution_count": 0,
      "outputs": [
        {
          "output_type": "stream",
          "text": [
            "11a\n",
            "  grade  count  ideal_count  todo\n",
            "0   11b      0            1     1\n",
            "1   11a      4            2     0\n",
            "2   10d      0            4     4\n",
            "3   10c      4            8     4\n",
            "4   10b      6           12     6\n"
          ],
          "name": "stdout"
        }
      ]
    },
    {
      "cell_type": "code",
      "metadata": {
        "id": "8tcYmaYKC7_n",
        "colab_type": "code",
        "outputId": "b7cd91b4-9f2f-4c89-8720-a11878688eff",
        "colab": {
          "base_uri": "https://localhost:8080/",
          "height": 607
        }
      },
      "source": [
        "## Scraping to make recommendations\n",
        "url  = \"https://www.mountainproject.com/area/classics/105865045/new-jack-city\"\n",
        "url = \"https://www.mountainproject.com/area/classics/108189726/fairview-mountain\"\n",
        "import pandas as pd\n",
        "import numpy as np\n",
        "table = pd.read_html(url)[1]\n",
        "table = table[table.Difficulty.str.startswith('5.')]\n",
        "# grades\n",
        "grades = table.Difficulty.apply(lambda x: x.split()[0])\n",
        "grades = grades.apply(lambda x: x_round(ropes_convert[x])).apply(grade_to_letter) # remove V grades, convert to simplified letter grades\n",
        "# routes\n",
        "routes = table['Route Name'].apply(lambda x: ' '.join(x.split()[1:]))\n",
        "# putting them together\n",
        "recommendations_dict = {'grade':grades, 'route':routes}\n",
        "recommendations_df = pd.DataFrame(recommendations_dict)\n",
        "\n",
        "###################################################\n",
        "#TEMP - make global/classvariable: assume we have user's 5 sought after grades: \n",
        "top_index = grades_list.index(sport_pyramid.grade[0]) + 1\n",
        "user_grade_count_dict = dict(zip(sport_pyramid.grade, sport_pyramid['count']))\n",
        "top_5_grades = grades_list[top_index : top_index - 5 : -1] # list of top grades as string\n",
        "top_5_count = [ user_grade_count_dict.get(grade,0) for grade in top_5_grades] # 2nd argument in .get() gives value to be returned if non-existent\n",
        "###################################################\n",
        "\n",
        "recommendations_df = recommendations_df[recommendations_df.route.isin(successful_climbs_stack.route) == False] # returns area classics that haven't been climbed\n",
        "recommendations_df = recommendations_df[recommendations_df.grade.str.contains('|'.join(top_5_grades))][::-1].reset_index(drop=True) # returns the right grade range (| in the string will give an \"or\" effect)\n",
        "recommendations_df[recommendations_df.grade.isin(suggested_pyramid[suggested_pyramid.todo > 0].grade)] # remove grades within the suggested range that have been \"overclimbed\""
      ],
      "execution_count": 0,
      "outputs": [
        {
          "output_type": "execute_result",
          "data": {
            "text/html": [
              "<div>\n",
              "<style scoped>\n",
              "    .dataframe tbody tr th:only-of-type {\n",
              "        vertical-align: middle;\n",
              "    }\n",
              "\n",
              "    .dataframe tbody tr th {\n",
              "        vertical-align: top;\n",
              "    }\n",
              "\n",
              "    .dataframe thead th {\n",
              "        text-align: right;\n",
              "    }\n",
              "</style>\n",
              "<table border=\"1\" class=\"dataframe\">\n",
              "  <thead>\n",
              "    <tr style=\"text-align: right;\">\n",
              "      <th></th>\n",
              "      <th>grade</th>\n",
              "      <th>route</th>\n",
              "    </tr>\n",
              "  </thead>\n",
              "  <tbody>\n",
              "    <tr>\n",
              "      <th>0</th>\n",
              "      <td>11b</td>\n",
              "      <td>Clone Army</td>\n",
              "    </tr>\n",
              "    <tr>\n",
              "      <th>6</th>\n",
              "      <td>10d</td>\n",
              "      <td>Light Saber</td>\n",
              "    </tr>\n",
              "    <tr>\n",
              "      <th>7</th>\n",
              "      <td>10d</td>\n",
              "      <td>Stretch Armstrong</td>\n",
              "    </tr>\n",
              "    <tr>\n",
              "      <th>8</th>\n",
              "      <td>10d</td>\n",
              "      <td>Jangofet</td>\n",
              "    </tr>\n",
              "    <tr>\n",
              "      <th>9</th>\n",
              "      <td>10d</td>\n",
              "      <td>Mojave Green</td>\n",
              "    </tr>\n",
              "    <tr>\n",
              "      <th>10</th>\n",
              "      <td>10c</td>\n",
              "      <td>Yoda</td>\n",
              "    </tr>\n",
              "    <tr>\n",
              "      <th>11</th>\n",
              "      <td>10c</td>\n",
              "      <td>Space Wrangler</td>\n",
              "    </tr>\n",
              "    <tr>\n",
              "      <th>12</th>\n",
              "      <td>10c</td>\n",
              "      <td>Sidewinder</td>\n",
              "    </tr>\n",
              "    <tr>\n",
              "      <th>13</th>\n",
              "      <td>10c</td>\n",
              "      <td>Black Dog</td>\n",
              "    </tr>\n",
              "    <tr>\n",
              "      <th>14</th>\n",
              "      <td>10c</td>\n",
              "      <td>False Flag</td>\n",
              "    </tr>\n",
              "    <tr>\n",
              "      <th>15</th>\n",
              "      <td>10c</td>\n",
              "      <td>You Must Face Vader</td>\n",
              "    </tr>\n",
              "    <tr>\n",
              "      <th>16</th>\n",
              "      <td>10b</td>\n",
              "      <td>Inside Job</td>\n",
              "    </tr>\n",
              "    <tr>\n",
              "      <th>17</th>\n",
              "      <td>10b</td>\n",
              "      <td>Crack in the Armor</td>\n",
              "    </tr>\n",
              "    <tr>\n",
              "      <th>18</th>\n",
              "      <td>10b</td>\n",
              "      <td>King Snake</td>\n",
              "    </tr>\n",
              "    <tr>\n",
              "      <th>19</th>\n",
              "      <td>10b</td>\n",
              "      <td>Black President</td>\n",
              "    </tr>\n",
              "    <tr>\n",
              "      <th>20</th>\n",
              "      <td>10b</td>\n",
              "      <td>Obama Nation</td>\n",
              "    </tr>\n",
              "    <tr>\n",
              "      <th>21</th>\n",
              "      <td>10b</td>\n",
              "      <td>Little Sisters Truck Wash</td>\n",
              "    </tr>\n",
              "    <tr>\n",
              "      <th>22</th>\n",
              "      <td>10b</td>\n",
              "      <td>Middle Earth</td>\n",
              "    </tr>\n",
              "  </tbody>\n",
              "</table>\n",
              "</div>"
            ],
            "text/plain": [
              "   grade                      route\n",
              "0    11b                 Clone Army\n",
              "6    10d                Light Saber\n",
              "7    10d          Stretch Armstrong\n",
              "8    10d                   Jangofet\n",
              "9    10d               Mojave Green\n",
              "10   10c                       Yoda\n",
              "11   10c             Space Wrangler\n",
              "12   10c                 Sidewinder\n",
              "13   10c                  Black Dog\n",
              "14   10c                 False Flag\n",
              "15   10c        You Must Face Vader\n",
              "16   10b                 Inside Job\n",
              "17   10b         Crack in the Armor\n",
              "18   10b                 King Snake\n",
              "19   10b            Black President\n",
              "20   10b               Obama Nation\n",
              "21   10b  Little Sisters Truck Wash\n",
              "22   10b               Middle Earth"
            ]
          },
          "metadata": {
            "tags": []
          },
          "execution_count": 16
        }
      ]
    },
    {
      "cell_type": "markdown",
      "metadata": {
        "id": "UF-d_4m7QetJ",
        "colab_type": "text"
      },
      "source": [
        "# Create Class"
      ]
    },
    {
      "cell_type": "code",
      "metadata": {
        "id": "sUv5wZ5r1CLo",
        "colab_type": "code",
        "colab": {}
      },
      "source": [
        "import pandas as pd\n",
        "import numpy as np\n",
        "from math import floor\n",
        "from datetime import datetime as dt\n",
        "import seaborn as sb\n",
        "import matplotlib.pyplot as plt\n",
        "sb.set(style='whitegrid')\n",
        "\n",
        "class Pyramid:\n",
        "  def __init__(self,document):\n",
        "    self.document = document\n",
        "    self.climber = document.split('/')[-2].replace('-',' ').title()\n",
        "    self.grade_chart = pd.read_html(\"https://www.mountainproject.com/international-climbing-grades\")\n",
        "    self.old_ropes = self.grade_chart[0].YDSUSA[:-1].to_list()\n",
        "    self.new_ropes = [0,0,0,0,1,2,3,4,5,6,7,7.4,8,8.4,8.8,9,9.4,9.8]+list(np.round(np.arange(10,16,.1),1))\n",
        "    self.ropes_convert = dict(zip(self.old_ropes, self.new_ropes))\n",
        "   \n",
        "    self.data = self._clean_data(self.document)\n",
        "    # Split Trad and Sport data\n",
        "    self.trad = self.data[(self.data['type'] == 'Trad') | (self.data['type'] == 'Trad, Sport') | (self.data['type'] == 'Trad, Alpine') | (self.data['type'] == 'Trad, Aid')]\n",
        "    self.sport = self.data[(self.data['type'] == 'Sport') | (self.data['type'] == 'Sport, TR')]\n",
        "    self.trad_rp = self.trad[self.trad.lead_style == 'Redpoint']\n",
        "    self.trad_os = self.trad[self.trad.lead_style == 'Onsight']\n",
        "    self.trad_os.grade.apply(self._x_round).value_counts().sort_index(ascending=False)\n",
        "    self.sport_rp = self.sport[self.sport.lead_style == 'Redpoint']\n",
        "    self.sport_os = self.sport[self.sport.lead_style == 'Onsight']\n",
        "\n",
        "    self.sport_combined = pd.concat([self.sport_rp,self.sport_os], axis=0)\n",
        "    self.trad_combined = pd.concat([self.trad_rp, self.trad_os], axis=0)\n",
        "    self.styles = [self.sport_combined, self.trad_combined]\n",
        "    date = dt.now().strftime('%-d%b%Y')\n",
        "    self.pyramids = []\n",
        "    self.titles = []\n",
        "    for i, style in enumerate(self.styles):\n",
        "      if not style.empty:\n",
        "        self.title = f\"{self.climber}\\n{style.iloc[0]['type'].split(',')[0]} pyramid \\n as of {date}\\n\"\n",
        "        self.top_pyramid = style.grade.apply(self._x_round).value_counts().sort_index(ascending=False).iloc[:6].reset_index()\n",
        "        self.top_pyramid.columns = ('grade','count')\n",
        "        self.top_pyramid.grade = self.top_pyramid.grade.apply(self._grade_to_letter)\n",
        "        self.pyramids.append(self.top_pyramid)\n",
        "        self.titles.append(self.title)\n",
        "    \n",
        "    self.sport_pyramid = self.pyramids[0]\n",
        "    self.trad_pyramid = self.pyramids[1]\n",
        "\n",
        "    self.grades_list = '0 1 2 3 4 5 6 7 7+ 8- 8 8+ 9- 9 9+'.split()\n",
        "    self.numbs = '10 11 12 13 14 15'.split()\n",
        "    self.letters =  list('abcd')\n",
        "    for i in self.numbs:\n",
        "      for j in self.letters:\n",
        "        self.grades_list.append(i+j)\n",
        "\n",
        "  # grade_chart = pd.read_html(\"https://www.mountainproject.com/international-climbing-grades\")\n",
        "  # old_ropes = grade_chart[0].YDSUSA[:-1].to_lcancelledtheist()\n",
        "  # new_ropes = [0,0,0,0,1,2,3,4,5,6,7,7.4,8,8.4,8.8,9,9.4,9.8]+list(np.round(np.arange(10,16,.1),1))\n",
        "  # ropes_convert = dict(zip(old_ropes,new_ropes))\n",
        "\n",
        "  # @staticmethod\n",
        "  def _clean_data(self,document):\n",
        "    data = pd.read_csv(document)\n",
        "    data = data[['Route', 'Rating', 'Style', 'Lead Style', 'Route Type']]\n",
        "    data = data.rename(columns = (dict(zip(data.columns,['route', 'grade', 'style', 'lead_style', 'type']))))\n",
        "    data.grade = data.grade.apply(self._clean_grade)\n",
        "    data = data[data['style'] == 'Lead']\n",
        "    return data\n",
        "\n",
        "  # @staticmethod\n",
        "  def _clean_grade(self, grade):\n",
        "    grade = str(grade).split()[0]\n",
        "    if grade[0] == '5':\n",
        "      grade = self.ropes_convert[grade]\n",
        "    return grade\n",
        "\n",
        "  # @staticmethod\n",
        "  def _x_round(self,x):\n",
        "    \"\"\" rounds down to nearest .25\n",
        "    eg. x_round(11.49) = 11.25, x_round(11.51) = 11.5\n",
        "    \"\"\"\n",
        "    if x >= 10:\n",
        "      return floor(x*4)/4\n",
        "    return x\n",
        "\n",
        "  # @staticmethod\n",
        "  def _grade_to_letter(self, grade):\n",
        "    letter_map = {'.0':'a', '.25':'b', '.5':'c', '.75':'d'}\n",
        "    letter_map_low = {'.0':'-', '.4':'', '.8':'+'}\n",
        "    grade = float(grade) # ensure eg. 7 is 7.0 for proper mapping\n",
        "    if grade >= 10:\n",
        "      grade = str(grade)\n",
        "      grade = grade[:2] + letter_map[grade[2:]]\n",
        "      return grade\n",
        "    else:\n",
        "      grade = str(grade)\n",
        "      grade = grade[:1] + letter_map_low[grade[1:]]\n",
        "      return grade\n",
        "\n",
        "    \n",
        "  # Rounding Key example:\n",
        "\n",
        "  # 10a, 10-, 10a/b  -> 10a\n",
        "  # 10b, 10          -> 10b\n",
        "  # 10b/c, 10c, 10+  -> 10c\n",
        "  # 10c/d, 10d       -> 10d\n",
        "\n",
        "  def _grade_to_number(self, grade):\n",
        "    letter_map = {'a':'.0', 'b':'.25', 'c':'.5', 'd':'.75', '-':'.0', '+':'.8'}\n",
        "    if grade[-1].isnumeric() == False:\n",
        "      grade = grade[:-1] + letter_map[grade[-1]]\n",
        "      print(grade)\n",
        "    else:\n",
        "      grade += '.4'\n",
        "      print(grade)\n",
        "\n",
        "\n",
        "# TODO: make \"none\" a default argument, if none, return all (boulder maybe in future)\n",
        "# otherwise return sport, trad, etc. if 'sport' or 'trad' is included\n",
        "  def show_pyramids(self,pyramid_style='sport'):\n",
        "    if pyramid_style == 'sport':\n",
        "      self.style = self.styles[0]\n",
        "      self.top_pyramid = self.pyramids[0]\n",
        "      self.title = self.titles[0]\n",
        "    elif pyramid_style == 'trad':\n",
        "      self.style = self.styles[1]\n",
        "      self.top_pyramid = self.pyramids[1]\n",
        "      self.title = self.titles[1]\n",
        "    sb.barplot(y='grade', x='count', data=self.top_pyramid, color='green')\n",
        "    plt.title(self.title)\n",
        "    plt.show()\n",
        "    print(self.top_pyramid)\n",
        "    print('\\n\\n\\t\\ttop 10')\n",
        "    print(self.style.sort_values('grade',ascending=False).head(10))\n",
        "    return None # I think I want none because I just want to display pyarmids for now. Else return self.pyramids\n",
        "\n",
        "\n",
        "# TODO: run show_pyramid first to establish trad or sport pyramid or.... pull stuff out of show_pyramid first into __init__ \n",
        "# making show_pyramids into something smaller. REASON: show_pyramids has to be called before suggest_pyramid because it establishes\n",
        "# what self.sport_pyramid and self.trad_pyramid are\n",
        "  def suggest_pyramid(self, pyramid_style='sport'):\n",
        "    if pyramid_style == 'sport':\n",
        "      self.pyramid = self.sport_pyramid\n",
        "    elif pyramid_style == 'trad':\n",
        "      self.pyramid = self.trad_pyramid\n",
        "    # else:\n",
        "    #   print('perform method \"show_pyramid\" first')\n",
        "    #   return None\n",
        "    self.scheme = [1,2,4,8,12] # may need to pass in later or set as \"class global\"\n",
        "    \n",
        "    self.top_index = self.grades_list.index(self.pyramid.grade[0]) + 1\n",
        "    self.user_grade_count_dict = dict(zip(self.pyramid.grade, self.pyramid['count']))\n",
        "    self.top_5_grades = self.grades_list[self.top_index : self.top_index - 5 : -1]\n",
        "    self.top_5_count = [ self.user_grade_count_dict.get(grade,0) for grade in self.top_5_grades] # 2nd argument in .get() gives value to be returned if non-existent\n",
        "\n",
        "    self.pyramid_copy = pd.DataFrame(zip(self.top_5_grades, self.top_5_count), columns = ['grade','count']).iloc[:5]\n",
        "    self.pyramid_copy['ideal_count'] = self.scheme\n",
        "    self.pyramid_copy['todo'] = self.pyramid_copy.ideal_count - self.pyramid_copy['count']\n",
        "    self.pyramid_copy.todo = self.pyramid_copy.todo.apply(lambda x: 0 if (x < 1) else x) # negative numbers -> 0 \n",
        "    return self.pyramid_copy\n",
        "\n",
        "  def make_recommendations(self, area_url, pyramid_style='sport'):\n",
        "    self.table = pd.read_html(area_url)[1]\n",
        "    self.table = self.table[self.table.Difficulty.str.startswith('5.')]\n",
        "    # grades\n",
        "    self.grades = self.table.Difficulty.apply(lambda x: x.split()[0])\n",
        "    self.grades = self.grades.apply(lambda x: self._x_round(self.ropes_convert[x])).apply(self._grade_to_letter) # remove V grades, convert to simplified letter grades\n",
        "    # routes\n",
        "    self.routes = self.table['Route Name'].apply(lambda x: ' '.join(x.split()[1:]))\n",
        "    # putting them together\n",
        "    self.recommendations_dict = {'grade':self.grades, 'route':self.routes}\n",
        "    self.recommendations_df = pd.DataFrame(self.recommendations_dict)\n",
        "    ########### redundant in \"suggest_pyramids\" method, consider making global#########\n",
        "    self.top_index = self.grades_list.index(self.sport_pyramid.grade[0]) + 1\n",
        "    self.user_grade_count_dict = dict(zip(self.sport_pyramid.grade, self.sport_pyramid['count']))\n",
        "    self.top_5_grades = self.grades_list[self.top_index : self.top_index - 5 : -1] # list of top grades as string\n",
        "    self.top_5_count = [ self.user_grade_count_dict.get(grade,0) for grade in self.top_5_grades] # 2nd argument in .get() gives value to be returned if non-existent\n",
        "    ###################################################################################\n",
        "    #another add in ##\n",
        "    self.successful_climbs = self.data[(self.data.lead_style == 'Redpoint') | (self.data.lead_style =='Onsight')]\n",
        "    self.successful_climbs.grade = self.successful_climbs.grade.apply(lambda x: self._grade_to_letter(self._x_round(x)))\n",
        "    self.successful_climbs_stack = self.successful_climbs[['grade','route']]\n",
        "    # successful_climbs_stack\n",
        "    #end add in\n",
        "    self.suggested_pyramid = self.suggest_pyramid(pyramid_style)\n",
        "    self.recommendations_df = self.recommendations_df[self.recommendations_df.route.isin(self.successful_climbs_stack.route) == False] # returns area classics that haven't been climbed\n",
        "    self.recommendations_df = self.recommendations_df[self.recommendations_df.grade.str.contains('|'.join(self.top_5_grades))][::-1].reset_index(drop=True) # returns the right grade range (| in the string will give an \"or\" effect)\n",
        "    self.recommendations_df[self.recommendations_df.grade.isin(self.suggested_pyramid[self.suggested_pyramid.todo > 0].grade)] # remove grades within the suggested range that have been \"overclimbed\"\n",
        "    # print(recommendations_df)\n",
        "    return self.recommendations_df"
      ],
      "execution_count": 0,
      "outputs": []
    },
    {
      "cell_type": "code",
      "metadata": {
        "id": "Vr5B0SLjMwzR",
        "colab_type": "code",
        "outputId": "c649ee80-afff-4432-c664-71da0770e407",
        "colab": {
          "base_uri": "https://localhost:8080/",
          "height": 805
        }
      },
      "source": [
        "document = \"https://www.mountainproject.com/user/109791883/trevor-clack/tick-export\"   # Trevor\n",
        "# document = \"https://www.mountainproject.com/user/110296901/morgan-f/tick-export\"  # Morgan\n",
        "# document = \"https://www.mountainproject.com/user/106234022/stormeh/tick-export\" # Ryan Murphy\n",
        "# area_url = \"https://www.mountainproject.com/area/classics/108189726/fairview-mountain\"\n",
        "area_url = \"https://www.mountainproject.com/area/classics/105931166/central-pinnacles\"\n",
        "P = Pyramid(document)\n",
        "P.make_recommendations(area_url)\n",
        "P.show_pyramids('trad')\n",
        "\n",
        "# TODO: fix the show_pyramids, with 'None' it shows one then doesn't show the other"
      ],
      "execution_count": 17,
      "outputs": [
        {
          "output_type": "stream",
          "text": [
            "/usr/local/lib/python3.6/dist-packages/pandas/core/generic.py:5303: SettingWithCopyWarning: \n",
            "A value is trying to be set on a copy of a slice from a DataFrame.\n",
            "Try using .loc[row_indexer,col_indexer] = value instead\n",
            "\n",
            "See the caveats in the documentation: https://pandas.pydata.org/pandas-docs/stable/user_guide/indexing.html#returning-a-view-versus-a-copy\n",
            "  self[name] = value\n"
          ],
          "name": "stderr"
        },
        {
          "output_type": "display_data",
          "data": {
            "image/png": "[encoded data removed]",
            "text/plain": [
              "<Figure size 432x288 with 1 Axes>"
            ]
          },
          "metadata": {
            "tags": []
          }
        },
        {
          "output_type": "stream",
          "text": [
            "  grade  count\n",
            "0   10d      1\n",
            "1   10c      2\n",
            "2   10b      8\n",
            "3   10a      9\n",
            "4    9+      6\n",
            "5     9     12\n",
            "\n",
            "\n",
            "\t\ttop 10\n",
            "                                  route grade style lead_style       type\n",
            "185                           Two Timer  10.9  Lead    Onsight       Trad\n",
            "178                 Heart of the Desert  10.6  Lead    Onsight       Trad\n",
            "200                     Amaretto Corner  10.5  Lead    Onsight       Trad\n",
            "206                            Jojobean  10.4  Lead    Onsight       Trad\n",
            "183  Unnamed II (fingers through fists)  10.4  Lead    Onsight       Trad\n",
            "171                      Stolen Chimney  10.4  Lead    Onsight  Trad, Aid\n",
            "199                           3AM Crack  10.4  Lead    Onsight       Trad\n",
            "202            Supercrack of the Desert  10.4  Lead    Onsight       Trad\n",
            "204                           Manifesto  10.4  Lead    Onsight       Trad\n",
            "192                           Bar fight  10.4  Lead    Onsight       Trad\n"
          ],
          "name": "stdout"
        }
      ]
    },
    {
      "cell_type": "code",
      "metadata": {
        "id": "6AKP02zwNxrr",
        "colab_type": "code",
        "colab": {
          "base_uri": "https://localhost:8080/",
          "height": 703
        },
        "outputId": "aabfc1d8-c0a8-4ae4-ecbb-c075c4757225"
      },
      "source": [
        "P.show_pyramids('sport')"
      ],
      "execution_count": 18,
      "outputs": [
        {
          "output_type": "display_data",
          "data": {
            "image/png": "[encoded data removed]",
            "text/plain": [
              "<Figure size 432x288 with 1 Axes>"
            ]
          },
          "metadata": {
            "tags": []
          }
        },
        {
          "output_type": "stream",
          "text": [
            "  grade  count\n",
            "0   11c      1\n",
            "1   11b      3\n",
            "2   11a      7\n",
            "3   10d      3\n",
            "4   10c     10\n",
            "5   10b     22\n",
            "\n",
            "\n",
            "\t\ttop 10\n",
            "                       route grade style lead_style   type\n",
            "5               Lean Cuisine  11.6  Lead   Redpoint  Sport\n",
            "58   This Nazi Shit Won't Do  11.3  Lead   Redpoint  Sport\n",
            "225                 Sun Dogs  11.3  Lead    Onsight  Sport\n",
            "224            Space Cowboys  11.3  Lead    Onsight  Sport\n",
            "50              Agent Orange  11.2  Lead   Redpoint  Sport\n",
            "211              Jack Jumped    11  Lead   Redpoint  Sport\n",
            "54               Dark Matter    11  Lead    Onsight  Sport\n",
            "226         Starship Trooper    11  Lead    Onsight  Sport\n",
            "43               Light Saber    11  Lead    Onsight  Sport\n",
            "16        Internet Superstar    11  Lead   Redpoint  Sport\n"
          ],
          "name": "stdout"
        }
      ]
    },
    {
      "cell_type": "markdown",
      "metadata": {
        "id": "oirYAq_CsYSR",
        "colab_type": "text"
      },
      "source": [
        "### OVERLAP"
      ]
    },
    {
      "cell_type": "code",
      "metadata": {
        "id": "cGm-Vn7T2t3q",
        "colab_type": "code",
        "colab": {}
      },
      "source": [
        "trevor_doc = \"https://www.mountainproject.com/user/109791883/trevor-clack/tick-export\"   # Trevor\n",
        "morgan_doc = \"https://www.mountainproject.com/user/110296901/morgan-f/tick-export\"  # Morgan\n",
        "ryan_doc = \"https://www.mountainproject.com/user/106234022/stormeh/tick-export\" # Ryan Murphy\n",
        "P_ryan = Pyramid(ryan_doc)\n",
        "P_trevor = Pyramid(trevor_doc)\n",
        "P_morgan = Pyramid(morgan_doc)\n"
      ],
      "execution_count": 0,
      "outputs": []
    },
    {
      "cell_type": "code",
      "metadata": {
        "id": "P4hIeen75wGE",
        "colab_type": "code",
        "outputId": "954787f2-4596-4797-aefb-ca7145571917",
        "colab": {
          "base_uri": "https://localhost:8080/",
          "height": 119
        }
      },
      "source": [
        "url = \"https://www.mountainproject.com/area/classics/108189726/fairview-mountain\"\n",
        "t_rec = P_trevor.make_recommendations(url)\n",
        "r_rec = P_ryan.make_recommendations(url)\n",
        "m_rec = P_morgan.make_recommendations(url)\n"
      ],
      "execution_count": 0,
      "outputs": [
        {
          "output_type": "stream",
          "text": [
            "/usr/local/lib/python3.6/dist-packages/pandas/core/generic.py:5208: SettingWithCopyWarning: \n",
            "A value is trying to be set on a copy of a slice from a DataFrame.\n",
            "Try using .loc[row_indexer,col_indexer] = value instead\n",
            "\n",
            "See the caveats in the documentation: http://pandas.pydata.org/pandas-docs/stable/user_guide/indexing.html#returning-a-view-versus-a-copy\n",
            "  self[name] = value\n"
          ],
          "name": "stderr"
        }
      ]
    },
    {
      "cell_type": "code",
      "metadata": {
        "id": "9rAd6qwc9YLa",
        "colab_type": "code",
        "outputId": "18a5564e-80d8-4df2-b527-d1ce6237b595",
        "colab": {
          "base_uri": "https://localhost:8080/",
          "height": 421
        }
      },
      "source": [
        "# Merging the \"todos\" of everyone will find the area classics no one has done but \"need to do\" in order to fill their pyramids\n",
        "t_rec.merge(m_rec).merge(r_rec)\n",
        "# P_trevor.suggest_pyramid()"
      ],
      "execution_count": 0,
      "outputs": [
        {
          "output_type": "execute_result",
          "data": {
            "text/html": [
              "<div>\n",
              "<style scoped>\n",
              "    .dataframe tbody tr th:only-of-type {\n",
              "        vertical-align: middle;\n",
              "    }\n",
              "\n",
              "    .dataframe tbody tr th {\n",
              "        vertical-align: top;\n",
              "    }\n",
              "\n",
              "    .dataframe thead th {\n",
              "        text-align: right;\n",
              "    }\n",
              "</style>\n",
              "<table border=\"1\" class=\"dataframe\">\n",
              "  <thead>\n",
              "    <tr style=\"text-align: right;\">\n",
              "      <th></th>\n",
              "      <th>grade</th>\n",
              "      <th>route</th>\n",
              "    </tr>\n",
              "  </thead>\n",
              "  <tbody>\n",
              "    <tr>\n",
              "      <th>0</th>\n",
              "      <td>11b</td>\n",
              "      <td>Clone Army</td>\n",
              "    </tr>\n",
              "    <tr>\n",
              "      <th>1</th>\n",
              "      <td>11a</td>\n",
              "      <td>High Desert Hospitality</td>\n",
              "    </tr>\n",
              "    <tr>\n",
              "      <th>2</th>\n",
              "      <td>11a</td>\n",
              "      <td>Internet Superstar</td>\n",
              "    </tr>\n",
              "    <tr>\n",
              "      <th>3</th>\n",
              "      <td>11a</td>\n",
              "      <td>Little Fighter</td>\n",
              "    </tr>\n",
              "    <tr>\n",
              "      <th>4</th>\n",
              "      <td>11a</td>\n",
              "      <td>Hangnail</td>\n",
              "    </tr>\n",
              "    <tr>\n",
              "      <th>5</th>\n",
              "      <td>11a</td>\n",
              "      <td>Solar Warrior Dynasty</td>\n",
              "    </tr>\n",
              "    <tr>\n",
              "      <th>6</th>\n",
              "      <td>10d</td>\n",
              "      <td>Stretch Armstrong</td>\n",
              "    </tr>\n",
              "    <tr>\n",
              "      <th>7</th>\n",
              "      <td>10d</td>\n",
              "      <td>Size Matters Not</td>\n",
              "    </tr>\n",
              "    <tr>\n",
              "      <th>8</th>\n",
              "      <td>10d</td>\n",
              "      <td>Jangofet</td>\n",
              "    </tr>\n",
              "    <tr>\n",
              "      <th>9</th>\n",
              "      <td>10d</td>\n",
              "      <td>A New Hope/Knockin on .11's…</td>\n",
              "    </tr>\n",
              "    <tr>\n",
              "      <th>10</th>\n",
              "      <td>10c</td>\n",
              "      <td>Space Wrangler</td>\n",
              "    </tr>\n",
              "    <tr>\n",
              "      <th>11</th>\n",
              "      <td>10c</td>\n",
              "      <td>You Must Face Vader</td>\n",
              "    </tr>\n",
              "  </tbody>\n",
              "</table>\n",
              "</div>"
            ],
            "text/plain": [
              "   grade                         route\n",
              "0    11b                    Clone Army\n",
              "1    11a       High Desert Hospitality\n",
              "2    11a            Internet Superstar\n",
              "3    11a                Little Fighter\n",
              "4    11a                      Hangnail\n",
              "5    11a         Solar Warrior Dynasty\n",
              "6    10d             Stretch Armstrong\n",
              "7    10d              Size Matters Not\n",
              "8    10d                      Jangofet\n",
              "9    10d  A New Hope/Knockin on .11's…\n",
              "10   10c                Space Wrangler\n",
              "11   10c           You Must Face Vader"
            ]
          },
          "metadata": {
            "tags": []
          },
          "execution_count": 5
        }
      ]
    },
    {
      "cell_type": "code",
      "metadata": {
        "id": "20hG5GnXClKy",
        "colab_type": "code",
        "colab": {}
      },
      "source": [
        ""
      ],
      "execution_count": 0,
      "outputs": []
    }
  ]
}